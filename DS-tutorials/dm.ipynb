{
 "cells": [
  {
   "cell_type": "code",
   "execution_count": 1,
   "id": "a50a3c5d-110f-405f-bd37-efd5a7475929",
   "metadata": {
    "tags": []
   },
   "outputs": [
    {
     "name": "stderr",
     "output_type": "stream",
     "text": [
      "kj/filesystem-disk-unix.c++:1703: warning: PWD environment variable doesn't match current directory; pwd = /Users/carmenpopa/.hagrid/quickstart\n"
     ]
    }
   ],
   "source": [
    "import syft as sy\n",
    "\n",
    "import pandas as pd"
   ]
  },
  {
   "cell_type": "code",
   "execution_count": 2,
   "id": "b561344e-0835-4930-a96d-51f3502f1854",
   "metadata": {
    "tags": []
   },
   "outputs": [],
   "source": [
    "import hagrid\n",
    "from hagrid import wizard"
   ]
  },
  {
   "cell_type": "code",
   "execution_count": 3,
   "id": "19cc63a2-d3a7-4be2-98f2-b4b4033aca2f",
   "metadata": {
    "tags": []
   },
   "outputs": [
    {
     "data": {
      "text/html": [
       "✅ macOS<br />✅ Python 3.10.10<br />✅ syft==0.8.0.post2 (latest stable)<br />"
      ],
      "text/plain": [
       "<hagrid.nb_output.NBOutput at 0x1061f3790>"
      ]
     },
     "execution_count": 3,
     "metadata": {},
     "output_type": "execute_result"
    }
   ],
   "source": [
    "wizard.check_syft"
   ]
  },
  {
   "cell_type": "markdown",
   "id": "6ea00920-68dd-472c-b385-5edbc8c9cdd8",
   "metadata": {
    "tags": []
   },
   "source": [
    "!pip install syft==0.8.0b8"
   ]
  },
  {
   "cell_type": "markdown",
   "id": "a66c4c4b-81e4-49ec-9ce6-5bdd1f11d484",
   "metadata": {},
   "source": [
    "### Create dataset"
   ]
  },
  {
   "cell_type": "code",
   "execution_count": 4,
   "id": "1b345b3c-7260-40c0-bc1b-4ce3ca6017a3",
   "metadata": {
    "tags": []
   },
   "outputs": [],
   "source": [
    "mock_data = {\n",
    "    \"drink_name\" : [\"brown_sugar\", \"thai_milk\", \"mango_coconut\", \"strawberry_cheese\"],\n",
    "    \"sugar_level\": [0.7, 0.3, 0.9, 0.5],\n",
    "    \"has_pearls\": [True, True, False, True],\n",
    "    \"customer_ratings\": [4.9, 4.6, 3.5, 4.3]\n",
    "}"
   ]
  },
  {
   "cell_type": "code",
   "execution_count": 5,
   "id": "02fba85e-c2be-4752-ac14-d9f1985ab891",
   "metadata": {
    "tags": []
   },
   "outputs": [],
   "source": [
    "mock_df = pd.DataFrame(mock_data)"
   ]
  },
  {
   "cell_type": "code",
   "execution_count": 6,
   "id": "04a1871f-1953-40ec-80f3-f24b81c8ff62",
   "metadata": {
    "tags": []
   },
   "outputs": [
    {
     "data": {
      "text/html": [
       "<div>\n",
       "<style scoped>\n",
       "    .dataframe tbody tr th:only-of-type {\n",
       "        vertical-align: middle;\n",
       "    }\n",
       "\n",
       "    .dataframe tbody tr th {\n",
       "        vertical-align: top;\n",
       "    }\n",
       "\n",
       "    .dataframe thead th {\n",
       "        text-align: right;\n",
       "    }\n",
       "</style>\n",
       "<table border=\"1\" class=\"dataframe\">\n",
       "  <thead>\n",
       "    <tr style=\"text-align: right;\">\n",
       "      <th></th>\n",
       "      <th>drink_name</th>\n",
       "      <th>sugar_level</th>\n",
       "      <th>has_pearls</th>\n",
       "      <th>customer_ratings</th>\n",
       "    </tr>\n",
       "  </thead>\n",
       "  <tbody>\n",
       "    <tr>\n",
       "      <th>0</th>\n",
       "      <td>brown_sugar</td>\n",
       "      <td>0.7</td>\n",
       "      <td>True</td>\n",
       "      <td>4.9</td>\n",
       "    </tr>\n",
       "    <tr>\n",
       "      <th>1</th>\n",
       "      <td>thai_milk</td>\n",
       "      <td>0.3</td>\n",
       "      <td>True</td>\n",
       "      <td>4.6</td>\n",
       "    </tr>\n",
       "    <tr>\n",
       "      <th>2</th>\n",
       "      <td>mango_coconut</td>\n",
       "      <td>0.9</td>\n",
       "      <td>False</td>\n",
       "      <td>3.5</td>\n",
       "    </tr>\n",
       "    <tr>\n",
       "      <th>3</th>\n",
       "      <td>strawberry_cheese</td>\n",
       "      <td>0.5</td>\n",
       "      <td>True</td>\n",
       "      <td>4.3</td>\n",
       "    </tr>\n",
       "  </tbody>\n",
       "</table>\n",
       "</div>"
      ],
      "text/plain": [
       "          drink_name  sugar_level  has_pearls  customer_ratings\n",
       "0        brown_sugar          0.7        True               4.9\n",
       "1          thai_milk          0.3        True               4.6\n",
       "2      mango_coconut          0.9       False               3.5\n",
       "3  strawberry_cheese          0.5        True               4.3"
      ]
     },
     "execution_count": 6,
     "metadata": {},
     "output_type": "execute_result"
    }
   ],
   "source": [
    "mock_df.head()"
   ]
  },
  {
   "cell_type": "code",
   "execution_count": 7,
   "id": "b6011e19-fb2c-4583-89b5-2f5384324c11",
   "metadata": {
    "tags": []
   },
   "outputs": [
    {
     "data": {
      "text/plain": [
       "(4, 4)"
      ]
     },
     "execution_count": 7,
     "metadata": {},
     "output_type": "execute_result"
    }
   ],
   "source": [
    "mock_df.shape"
   ]
  },
  {
   "cell_type": "markdown",
   "id": "6ad87b74-0fa5-4508-9007-2bc5f3d6602b",
   "metadata": {},
   "source": [
    "### Create mock dataset"
   ]
  },
  {
   "cell_type": "code",
   "execution_count": 8,
   "id": "fbb061fc-1b00-4e20-9ec5-1872fa5b8795",
   "metadata": {
    "tags": []
   },
   "outputs": [],
   "source": [
    "dataset = sy.Dataset(name=\"Bubble tea mock data\")\n",
    "dataset.set_description(\"\"\"The fake data to show bubble tea trends for consumers\"\"\")"
   ]
  },
  {
   "cell_type": "code",
   "execution_count": 9,
   "id": "d5521153-1d69-4fbf-8406-5b7ef3eeb87b",
   "metadata": {
    "tags": []
   },
   "outputs": [],
   "source": [
    "dataset.add_citation(\"Carmen Popa\")"
   ]
  },
  {
   "cell_type": "code",
   "execution_count": 10,
   "id": "e1157642-7e91-47ae-ae01-4eb3306fc4fb",
   "metadata": {
    "tags": []
   },
   "outputs": [],
   "source": [
    "dataset.add_contributor(role=sy.roles.UPLOADER, \n",
    "                                name=\"Carmen Popa\", \n",
    "                                email=\"carmen@openmined.org\",\n",
    "                                note=\"Carmen runs this domain and prepared the dataset.\")\n",
    "\n",
    "dataset.add_contributor(role=sy.roles.EDITOR, \n",
    "                                name=\"Irina Bejan\", \n",
    "                                email=\"irina@openmined.org\",\n",
    "                                note=\"Adding Irina in case of changes.\")"
   ]
  },
  {
   "cell_type": "code",
   "execution_count": 12,
   "id": "de72738a-31ac-40c5-8fae-8a71df7fe16c",
   "metadata": {
    "tags": []
   },
   "outputs": [],
   "source": [
    "ctf = sy.Asset(name=\"mock_bubble_tea_data\")\n",
    "ctf.set_description(\"Mock data for bubble tea consumption\")"
   ]
  },
  {
   "cell_type": "code",
   "execution_count": 13,
   "id": "a8a010d7-8728-4e93-bfcc-dd79eeff11d6",
   "metadata": {
    "tags": []
   },
   "outputs": [],
   "source": [
    "ctf.set_obj(mock_df)\n",
    "ctf.set_shape(mock_df.shape)\n",
    "ctf.set_mock(mock_df, mock_is_real=False)"
   ]
  },
  {
   "cell_type": "code",
   "execution_count": 14,
   "id": "59dc5a3c-c9fb-41ef-8df8-2df0bb69cb45",
   "metadata": {
    "tags": []
   },
   "outputs": [
    {
     "data": {
      "text/markdown": [
       "```python\n",
       "class CreateAsset:\n",
       "  id: str = None\n",
       "  name: str = \"mock_bubble_tea_data\"\n",
       "  description: str = \"Mock data for bubble tea consumption\"\n",
       "  contributors: str = []\n",
       "  data_subjects: str = []\n",
       "  node_uid: str = None\n",
       "  action_id: str = None\n",
       "  data: str =           drink_name  sugar_level  has_pearls  customer_ratings\n",
       "0        brown_sugar          0.7        True               4.9\n",
       "1          thai_milk          0.3        True               4.6\n",
       "2      mango_coconut          0.9       False               3.5\n",
       "3  strawberry_cheese          0.5        True               4.3\n",
       "  mock: str =           drink_name  sugar_level  has_pearls  customer_ratings\n",
       "0        brown_sugar          0.7        True               4.9\n",
       "1          thai_milk          0.3        True               4.6\n",
       "2      mango_coconut          0.9       False               3.5\n",
       "3  strawberry_cheese          0.5        True               4.3\n",
       "  shape: str = (4, 4)\n",
       "  mock_is_real: str = False\n",
       "\n",
       "```"
      ],
      "text/plain": [
       "syft.service.dataset.dataset.CreateAsset"
      ]
     },
     "execution_count": 14,
     "metadata": {},
     "output_type": "execute_result"
    }
   ],
   "source": [
    "ctf"
   ]
  },
  {
   "cell_type": "code",
   "execution_count": 15,
   "id": "08192908-d5e5-4463-91cb-68db1caeb037",
   "metadata": {
    "tags": []
   },
   "outputs": [],
   "source": [
    "dataset.add_asset(ctf)"
   ]
  },
  {
   "cell_type": "code",
   "execution_count": 16,
   "id": "7d8960b2-3fb5-4623-92d4-b8dc22137ace",
   "metadata": {
    "tags": []
   },
   "outputs": [
    {
     "data": {
      "text/markdown": [
       "```python\n",
       "Syft Dataset: Bubble tea mock data\n",
       "Assets:\n",
       "\tmock_bubble_tea_data: Mock data for bubble tea consumption\n",
       "Citation: Carmen Popa\n",
       "Description: The fake data to show bubble tea trends for consumers\n",
       "\n",
       "```"
      ],
      "text/plain": [
       "syft.service.dataset.dataset.CreateDataset"
      ]
     },
     "execution_count": 16,
     "metadata": {},
     "output_type": "execute_result"
    }
   ],
   "source": [
    "dataset"
   ]
  },
  {
   "cell_type": "markdown",
   "id": "04465851-7f43-4db3-88f1-a2e56d1efb3e",
   "metadata": {},
   "source": [
    "### Launch domain"
   ]
  },
  {
   "cell_type": "code",
   "execution_count": 17,
   "id": "9e6ec321-48e8-4138-a101-6f9edb79c393",
   "metadata": {
    "tags": []
   },
   "outputs": [
    {
     "name": "stdout",
     "output_type": "stream",
     "text": [
      "\u001b[2K✅ Updated HAGrid from branch: \u001b[1;36m0.8\u001b[0mh: 0.8\u001b[0m0m\n",
      "\u001b[2K\u001b[32m⠧\u001b[0m \u001b[1;34mUpdating HAGrid from branch: 0.8\u001b[0m\n",
      "\u001b[2K\u001b[32m⠴\u001b[0m \u001b[1;34mChecking for Docker Service\u001b[0m   ice\u001b[0m   \n",
      "\u001b[1A\u001b[2K✅ Docker service is running\n",
      "✅ Git 2.39.2\n",
      "✅ Docker 20.10.22\n",
      "✅ Docker Compose 2.15.1\n",
      "\n",
      "Launching a PyGrid Domain node on port 8081!\n",
      "\n",
      "  - NAME: lowside\n",
      "  - RELEASE: production\n",
      "  - ARCH: linux/arm64\n",
      "  - TYPE: domain\n",
      "  - DOCKER_TAG: latest\n",
      "  - HAGRID_VERSION: 0.3.7\n",
      "  - PORT: 8081\n",
      "  - DOCKER COMPOSE: v2.15.1\n",
      "\n",
      "\n",
      "\u001b[1;32m⠋\u001b[0m\u001b[1;34m Launching Containers \u001b[0m\u001b[1;32m \u001b[0m\n",
      "\u001b[2K  ✅ \u001b[1;32mPulling [5 / 5]\u001b[0m \u001b[90m━━━━━━━━━━━━━━━━━━━━━━━━━━━━━━━━━━━━━━━━\u001b[0m \u001b[35m100.00%   \u001b[0m0m \u001b[35m80.00%   \u001b[0m\n",
      "\u001b[2K  ✅ \u001b[1;32mLaunching [5 / 5]\u001b[0m \u001b[90m━━━━━━━━━━━━━━━━━━━━━━━━━━━━━━━━━━━━━━━━\u001b[0m \u001b[35m100.00%   \u001b[0m[0m \u001b[35m80.00%   \u001b[0m\n",
      "\u001b[?25h\n",
      "\u001b[1;32m⠋\u001b[0m\u001b[1;34m Checking node API \u001b[0m\u001b[1;32m \u001b[0m   \n",
      "\u001b[2K✅ lowside Domain Containers Creatediner Creation\u001b[0m0m\n",
      "\u001b[2K✅ Backendm \u001b[1;91mStarting Backend\u001b[0meation\u001b[0m\n",
      "\u001b[2K✅ Startup Completeting Backend\u001b[0m\n",
      "\u001b[2K\u001b[32m⠋\u001b[0m \u001b[1;91mStarting Backend\u001b[0m\n",
      "\u001b[1A\u001b[2K┏━━━━━━━━━━━┳━━━━━━━━━━━━━━━━━━━━━━━━━━━━━━━━━━━━━━━━━━━┳━━━━━┓\n",
      "┃\u001b[1m \u001b[0m\u001b[1mPyGrid   \u001b[0m\u001b[1m \u001b[0m┃\u001b[1m \u001b[0m\u001b[1mInfo                                     \u001b[0m\u001b[1m \u001b[0m┃\u001b[1m \u001b[0m\u001b[1m600\u001b[0m\u001b[1m \u001b[0m┃\n",
      "┡━━━━━━━━━━━╇━━━━━━━━━━━━━━━━━━━━━━━━━━━━━━━━━━━━━━━━━━━╇━━━━━┩\n",
      "│\u001b[35m \u001b[0m\u001b[35mUI (βeta)\u001b[0m\u001b[35m \u001b[0m│ http://localhost:8081/login               │ ✅  │\n",
      "│\u001b[35m \u001b[0m\u001b[35mapi      \u001b[0m\u001b[35m \u001b[0m│ http://localhost:8081/api/v1/openapi.json │ ✅  │\n",
      "└───────────┴───────────────────────────────────────────┴─────┘\n",
      "╭───────────────────────────────────────────────────╮\n",
      "│ ✨ To view container logs run \u001b[1;32mhagrid logs lowside\u001b[0m │\n",
      "╰───────────────────────────────────────────────────╯\n"
     ]
    }
   ],
   "source": [
    "!hagrid launch lowSide domain to docker --tag=latest"
   ]
  },
  {
   "cell_type": "code",
   "execution_count": 18,
   "id": "820ae1b5-48f8-415c-94b4-bb35b198861e",
   "metadata": {
    "tags": []
   },
   "outputs": [
    {
     "name": "stdout",
     "output_type": "stream",
     "text": [
      "Logged into Modest Karp as <info@openmined.org>\n"
     ]
    },
    {
     "data": {
      "text/plain": [
       "<SyftClient - Modest Karp <d87e4efcc9e8494b826df57b8670a2b3>: HTTPConnection: http://localhost:8081>"
      ]
     },
     "execution_count": 18,
     "metadata": {},
     "output_type": "execute_result"
    }
   ],
   "source": [
    "domain_client_low_side = sy.login(url = \"http://localhost:8081\", email=\"info@openmined.org\", password=\"changethis\")\n",
    "domain_client_low_side"
   ]
  },
  {
   "cell_type": "code",
   "execution_count": 19,
   "id": "52dad9a6-ab4f-4a7c-89ca-1d2389b95c04",
   "metadata": {
    "tags": []
   },
   "outputs": [
    {
     "name": "stderr",
     "output_type": "stream",
     "text": [
      "  0%|          | 0/1 [00:00<?, ?it/s]"
     ]
    },
    {
     "name": "stdout",
     "output_type": "stream",
     "text": [
      "Uploading: mock_bubble_tea_data\n"
     ]
    },
    {
     "name": "stderr",
     "output_type": "stream",
     "text": [
      "100%|██████████| 1/1 [00:00<00:00,  1.37it/s]\n"
     ]
    },
    {
     "data": {
      "text/html": [
       "<div class=\"alert-success\" style=\"padding:5px;\"><strong>SyftSuccess</strong>: Dataset Added</div><br />"
      ],
      "text/plain": [
       "<class 'syft.service.response.SyftSuccess'>: Dataset Added"
      ]
     },
     "execution_count": 19,
     "metadata": {},
     "output_type": "execute_result"
    }
   ],
   "source": [
    "domain_client_low_side.upload_dataset(dataset)"
   ]
  },
  {
   "cell_type": "code",
   "execution_count": 21,
   "id": "115fe810-c516-465e-be3e-fd16318d91e7",
   "metadata": {
    "tags": []
   },
   "outputs": [
    {
     "data": {
      "text/html": [
       "List - Size: 1\n",
       "<div>\n",
       "<style scoped>\n",
       "    .dataframe tbody tr th:only-of-type {\n",
       "        vertical-align: middle;\n",
       "    }\n",
       "\n",
       "    .dataframe tbody tr th {\n",
       "        vertical-align: top;\n",
       "    }\n",
       "\n",
       "    .dataframe thead th {\n",
       "        text-align: right;\n",
       "    }\n",
       "</style>\n",
       "<table border=\"1\" class=\"dataframe\">\n",
       "  <thead>\n",
       "    <tr style=\"text-align: right;\">\n",
       "      <th></th>\n",
       "      <th>type</th>\n",
       "      <th>id</th>\n",
       "      <th>name</th>\n",
       "      <th>url</th>\n",
       "    </tr>\n",
       "  </thead>\n",
       "  <tbody>\n",
       "    <tr>\n",
       "      <th>0</th>\n",
       "      <td>syft.service.dataset.dataset.Dataset</td>\n",
       "      <td>3d404c84206b40b4a93f8d1c8ad0dd3a</td>\n",
       "      <td>Bubble tea mock data</td>\n",
       "      <td>None</td>\n",
       "    </tr>\n",
       "  </tbody>\n",
       "</table>\n",
       "</div>"
      ],
      "text/plain": [
       "<syft.client.api.APIModule at 0x282f618a0>"
      ]
     },
     "execution_count": 21,
     "metadata": {},
     "output_type": "execute_result"
    }
   ],
   "source": [
    "domain_client_low_side.datasets"
   ]
  },
  {
   "cell_type": "markdown",
   "id": "0a54927c-c5dd-4bf5-a066-9e16dee554d8",
   "metadata": {},
   "source": [
    "### Create data scientist account"
   ]
  },
  {
   "cell_type": "code",
   "execution_count": 22,
   "id": "eee1482b-837f-45a6-a6d1-6b57efc17899",
   "metadata": {
    "tags": []
   },
   "outputs": [
    {
     "data": {
      "text/html": [
       "<div class=\"alert-success\" style=\"padding:5px;\"><strong>SyftSuccess</strong>: ana.banana@uni.org User successfully registered !!!</div><br />"
      ],
      "text/plain": [
       "<class 'syft.service.response.SyftSuccess'>: ana.banana@uni.org User successfully registered !!!"
      ]
     },
     "execution_count": 22,
     "metadata": {},
     "output_type": "execute_result"
    }
   ],
   "source": [
    "domain_client_low_side.register(name='Ana Banana', email='ana.banana@uni.org', password='student')"
   ]
  },
  {
   "cell_type": "code",
   "execution_count": null,
   "id": "15acf62b-2a44-48d5-b525-3a3828435fe2",
   "metadata": {
    "tags": []
   },
   "outputs": [],
   "source": [
    "!hagrid land domain_name --silent --force"
   ]
  },
  {
   "cell_type": "code",
   "execution_count": null,
   "id": "c1d3ca3b-b159-4c5c-a4fb-bc9a7f3c8336",
   "metadata": {},
   "outputs": [],
   "source": []
  }
 ],
 "metadata": {
  "kernelspec": {
   "display_name": "Python 3 (ipykernel)",
   "language": "python",
   "name": "python3"
  },
  "language_info": {
   "codemirror_mode": {
    "name": "ipython",
    "version": 3
   },
   "file_extension": ".py",
   "mimetype": "text/x-python",
   "name": "python",
   "nbconvert_exporter": "python",
   "pygments_lexer": "ipython3",
   "version": "3.10.10"
  }
 },
 "nbformat": 4,
 "nbformat_minor": 5
}
