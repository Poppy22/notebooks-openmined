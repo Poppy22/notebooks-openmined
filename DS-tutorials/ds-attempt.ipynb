{
 "cells": [
  {
   "cell_type": "markdown",
   "id": "97bb9a52",
   "metadata": {},
   "source": [
    "## Login to Low-side domain as a data scientist"
   ]
  },
  {
   "cell_type": "code",
   "execution_count": 1,
   "id": "1d354d23",
   "metadata": {
    "tags": []
   },
   "outputs": [
    {
     "name": "stderr",
     "output_type": "stream",
     "text": [
      "kj/filesystem-disk-unix.c++:1703: warning: PWD environment variable doesn't match current directory; pwd = /Users/carmenpopa/.hagrid/quickstart\n"
     ]
    }
   ],
   "source": [
    "import syft as sy\n",
    "import pandas as pd"
   ]
  },
  {
   "cell_type": "code",
   "execution_count": 2,
   "id": "28007ad4",
   "metadata": {
    "tags": []
   },
   "outputs": [
    {
     "name": "stdout",
     "output_type": "stream",
     "text": [
      "Logged into Modest Karp as <ana.banana@uni.org>\n"
     ]
    },
    {
     "data": {
      "text/plain": [
       "<SyftClient - Modest Karp <d87e4efcc9e8494b826df57b8670a2b3>: HTTPConnection: http://localhost:8081>"
      ]
     },
     "execution_count": 2,
     "metadata": {},
     "output_type": "execute_result"
    }
   ],
   "source": [
    "guest_domain_client = sy.login(url='http://localhost:8081', email='ana.banana@uni.org', password='student')\n",
    "guest_domain_client"
   ]
  },
  {
   "cell_type": "markdown",
   "id": "f197fd81-c13f-458f-8298-0020c8add3aa",
   "metadata": {},
   "source": [
    "## Check the datasets in the domain"
   ]
  },
  {
   "cell_type": "code",
   "execution_count": 3,
   "id": "b42af753",
   "metadata": {
    "tags": []
   },
   "outputs": [
    {
     "data": {
      "text/html": [
       "List - Size: 1\n",
       "<div>\n",
       "<style scoped>\n",
       "    .dataframe tbody tr th:only-of-type {\n",
       "        vertical-align: middle;\n",
       "    }\n",
       "\n",
       "    .dataframe tbody tr th {\n",
       "        vertical-align: top;\n",
       "    }\n",
       "\n",
       "    .dataframe thead th {\n",
       "        text-align: right;\n",
       "    }\n",
       "</style>\n",
       "<table border=\"1\" class=\"dataframe\">\n",
       "  <thead>\n",
       "    <tr style=\"text-align: right;\">\n",
       "      <th></th>\n",
       "      <th>type</th>\n",
       "      <th>id</th>\n",
       "      <th>name</th>\n",
       "      <th>url</th>\n",
       "    </tr>\n",
       "  </thead>\n",
       "  <tbody>\n",
       "    <tr>\n",
       "      <th>0</th>\n",
       "      <td>syft.service.dataset.dataset.Dataset</td>\n",
       "      <td>3d404c84206b40b4a93f8d1c8ad0dd3a</td>\n",
       "      <td>Bubble tea mock data</td>\n",
       "      <td>None</td>\n",
       "    </tr>\n",
       "  </tbody>\n",
       "</table>\n",
       "</div>"
      ],
      "text/plain": [
       "<syft.client.api.APIModule at 0x284e02ad0>"
      ]
     },
     "execution_count": 3,
     "metadata": {},
     "output_type": "execute_result"
    }
   ],
   "source": [
    "guest_domain_client.datasets"
   ]
  },
  {
   "cell_type": "code",
   "execution_count": 4,
   "id": "4c04af9c",
   "metadata": {
    "tags": []
   },
   "outputs": [
    {
     "data": {
      "text/markdown": [
       "```python\n",
       "Syft Dataset: Bubble tea mock data\n",
       "Assets:\n",
       "\tmock_bubble_tea_data: Mock data for bubble tea consumption\n",
       "Citation: Carmen Popa\n",
       "Description: The fake data to show bubble tea trends for consumers\n",
       "\n",
       "```"
      ],
      "text/plain": [
       "syft.service.dataset.dataset.Dataset"
      ]
     },
     "execution_count": 4,
     "metadata": {},
     "output_type": "execute_result"
    }
   ],
   "source": [
    "dataset = guest_domain_client.datasets[0]\n",
    "dataset"
   ]
  },
  {
   "cell_type": "markdown",
   "id": "3a713560",
   "metadata": {},
   "source": [
    "We can access the dataset assets (a.k.a the actual data) by running the following command."
   ]
  },
  {
   "cell_type": "code",
   "execution_count": 5,
   "id": "d60518e9",
   "metadata": {
    "tags": []
   },
   "outputs": [
    {
     "data": {
      "text/html": [
       "Tupledict - Size: 1\n",
       "<div>\n",
       "<style scoped>\n",
       "    .dataframe tbody tr th:only-of-type {\n",
       "        vertical-align: middle;\n",
       "    }\n",
       "\n",
       "    .dataframe tbody tr th {\n",
       "        vertical-align: top;\n",
       "    }\n",
       "\n",
       "    .dataframe thead th {\n",
       "        text-align: right;\n",
       "    }\n",
       "</style>\n",
       "<table border=\"1\" class=\"dataframe\">\n",
       "  <thead>\n",
       "    <tr style=\"text-align: right;\">\n",
       "      <th></th>\n",
       "      <th>key</th>\n",
       "      <th>type</th>\n",
       "      <th>id</th>\n",
       "    </tr>\n",
       "  </thead>\n",
       "  <tbody>\n",
       "    <tr>\n",
       "      <th>0</th>\n",
       "      <td>mock_bubble_tea_data</td>\n",
       "      <td>syft.service.dataset.dataset.Asset</td>\n",
       "      <td>dfbfa3dc97c241d6ba3e4496dc2835fb</td>\n",
       "    </tr>\n",
       "  </tbody>\n",
       "</table>\n",
       "</div>"
      ],
      "text/plain": [
       "TupleDict([('mock_bubble_tea_data', syft.service.dataset.dataset.Asset)])"
      ]
     },
     "execution_count": 5,
     "metadata": {},
     "output_type": "execute_result"
    }
   ],
   "source": [
    "dataset.assets"
   ]
  },
  {
   "cell_type": "code",
   "execution_count": 6,
   "id": "e9cb316c",
   "metadata": {
    "scrolled": true,
    "tags": []
   },
   "outputs": [
    {
     "name": "stdout",
     "output_type": "stream",
     "text": [
      "(4, 4)\n"
     ]
    },
    {
     "data": {
      "text/html": [
       "<div>\n",
       "<style scoped>\n",
       "    .dataframe tbody tr th:only-of-type {\n",
       "        vertical-align: middle;\n",
       "    }\n",
       "\n",
       "    .dataframe tbody tr th {\n",
       "        vertical-align: top;\n",
       "    }\n",
       "\n",
       "    .dataframe thead th {\n",
       "        text-align: right;\n",
       "    }\n",
       "</style>\n",
       "<table border=\"1\" class=\"dataframe\">\n",
       "  <thead>\n",
       "    <tr style=\"text-align: right;\">\n",
       "      <th></th>\n",
       "      <th>drink_name</th>\n",
       "      <th>sugar_level</th>\n",
       "      <th>has_pearls</th>\n",
       "      <th>customer_ratings</th>\n",
       "    </tr>\n",
       "  </thead>\n",
       "  <tbody>\n",
       "    <tr>\n",
       "      <th>0</th>\n",
       "      <td>brown_sugar</td>\n",
       "      <td>0.7</td>\n",
       "      <td>True</td>\n",
       "      <td>4.9</td>\n",
       "    </tr>\n",
       "    <tr>\n",
       "      <th>1</th>\n",
       "      <td>thai_milk</td>\n",
       "      <td>0.3</td>\n",
       "      <td>True</td>\n",
       "      <td>4.6</td>\n",
       "    </tr>\n",
       "    <tr>\n",
       "      <th>2</th>\n",
       "      <td>mango_coconut</td>\n",
       "      <td>0.9</td>\n",
       "      <td>False</td>\n",
       "      <td>3.5</td>\n",
       "    </tr>\n",
       "    <tr>\n",
       "      <th>3</th>\n",
       "      <td>strawberry_cheese</td>\n",
       "      <td>0.5</td>\n",
       "      <td>True</td>\n",
       "      <td>4.3</td>\n",
       "    </tr>\n",
       "  </tbody>\n",
       "</table>\n",
       "</div>"
      ],
      "text/plain": [
       "          drink_name  sugar_level  has_pearls  customer_ratings\n",
       "0        brown_sugar          0.7        True               4.9\n",
       "1          thai_milk          0.3        True               4.6\n",
       "2      mango_coconut          0.9       False               3.5\n",
       "3  strawberry_cheese          0.5        True               4.3"
      ]
     },
     "execution_count": 6,
     "metadata": {},
     "output_type": "execute_result"
    }
   ],
   "source": [
    "mock = dataset.assets[0].mock\n",
    "print(mock.shape)\n",
    "\n",
    "mock_df = mock.syft_action_data\n",
    "mock_df.head()"
   ]
  },
  {
   "cell_type": "code",
   "execution_count": 7,
   "id": "6e258ffe",
   "metadata": {
    "tags": []
   },
   "outputs": [
    {
     "data": {
      "text/html": [
       "<div>\n",
       "<style scoped>\n",
       "    .dataframe tbody tr th:only-of-type {\n",
       "        vertical-align: middle;\n",
       "    }\n",
       "\n",
       "    .dataframe tbody tr th {\n",
       "        vertical-align: top;\n",
       "    }\n",
       "\n",
       "    .dataframe thead th {\n",
       "        text-align: right;\n",
       "    }\n",
       "</style>\n",
       "<table border=\"1\" class=\"dataframe\">\n",
       "  <thead>\n",
       "    <tr style=\"text-align: right;\">\n",
       "      <th></th>\n",
       "      <th>drink_name</th>\n",
       "      <th>sugar_level</th>\n",
       "      <th>has_pearls</th>\n",
       "      <th>customer_ratings</th>\n",
       "    </tr>\n",
       "  </thead>\n",
       "  <tbody>\n",
       "    <tr>\n",
       "      <th>0</th>\n",
       "      <td>brown_sugar</td>\n",
       "      <td>0.7</td>\n",
       "      <td>True</td>\n",
       "      <td>4.9</td>\n",
       "    </tr>\n",
       "    <tr>\n",
       "      <th>1</th>\n",
       "      <td>thai_milk</td>\n",
       "      <td>0.3</td>\n",
       "      <td>True</td>\n",
       "      <td>4.6</td>\n",
       "    </tr>\n",
       "  </tbody>\n",
       "</table>\n",
       "</div>"
      ],
      "text/plain": [
       "    drink_name  sugar_level  has_pearls  customer_ratings\n",
       "0  brown_sugar          0.7        True               4.9\n",
       "1    thai_milk          0.3        True               4.6"
      ]
     },
     "execution_count": 7,
     "metadata": {},
     "output_type": "execute_result"
    }
   ],
   "source": [
    "mock_df[0:2]"
   ]
  },
  {
   "cell_type": "code",
   "execution_count": 8,
   "id": "ed1e89b3",
   "metadata": {
    "tags": []
   },
   "outputs": [
    {
     "data": {
      "text/plain": [
       "0.9"
      ]
     },
     "execution_count": 8,
     "metadata": {},
     "output_type": "execute_result"
    }
   ],
   "source": [
    "mock_df[\"sugar_level\"].max()"
   ]
  },
  {
   "cell_type": "markdown",
   "id": "8548a669-beda-481f-b2df-4f8c0fe5bf89",
   "metadata": {},
   "source": [
    "## Writing queries"
   ]
  },
  {
   "cell_type": "markdown",
   "id": "3253cbe5",
   "metadata": {},
   "source": [
    " **Which bubble tea flavour has the best customer ratings?**"
   ]
  },
  {
   "cell_type": "markdown",
   "id": "83b9f85a",
   "metadata": {},
   "source": [
    "At first, let's check the true result in the mock data so that we can validate our custom function later on. "
   ]
  },
  {
   "cell_type": "code",
   "execution_count": 9,
   "id": "dc86254a",
   "metadata": {
    "tags": []
   },
   "outputs": [
    {
     "data": {
      "text/plain": [
       "'brown_sugar'"
      ]
     },
     "execution_count": 9,
     "metadata": {},
     "output_type": "execute_result"
    }
   ],
   "source": [
    "mock_df.iloc[mock_df['customer_ratings'].argmax()][\"drink_name\"]"
   ]
  },
  {
   "cell_type": "markdown",
   "id": "b6cc4dd5",
   "metadata": {},
   "source": [
    "Now that we know the true result, we will create our custom function which, if approved, will be used on real data on the high-side domain."
   ]
  },
  {
   "cell_type": "code",
   "execution_count": 10,
   "id": "e4740c71",
   "metadata": {
    "tags": []
   },
   "outputs": [],
   "source": [
    "@sy.syft_function(input_policy=sy.ExactMatch(drink_data=mock),\n",
    "                  output_policy=sy.SingleExecutionExactOutput())\n",
    "def most_liked_bubble_tea(drink_data):\n",
    "    import pandas as pd\n",
    "    from opendp.mod import enable_features\n",
    "    enable_features('contrib')\n",
    "    from opendp.measurements import make_base_laplace\n",
    "    aggregate = 0.\n",
    "    base_lap = make_base_laplace(scale=5.)\n",
    "    noise = base_lap(aggregate)\n",
    "\n",
    "    # your code:\n",
    "    df = drink_data\n",
    "    most_liked_drink_row = df.iloc[mock_df['customer_ratings'].argmax()]\n",
    "    return (# str(most_liked_drink_row[\"drink_name\"]),\n",
    "            float(most_liked_drink_row[\"customer_ratings\"]),\n",
    "            float(noise)\n",
    "           )"
   ]
  },
  {
   "cell_type": "markdown",
   "id": "be0a3bb0",
   "metadata": {},
   "source": [
    "Let's verify that the function and policy works on the mock data and returns the expected result."
   ]
  },
  {
   "cell_type": "code",
   "execution_count": 11,
   "id": "95a89599",
   "metadata": {
    "tags": []
   },
   "outputs": [
    {
     "data": {
      "text/plain": [
       "(4.9, -3.534334644938589)"
      ]
     },
     "execution_count": 11,
     "metadata": {},
     "output_type": "execute_result"
    }
   ],
   "source": [
    "result = most_liked_bubble_tea(drink_data=mock)\n",
    "result"
   ]
  },
  {
   "cell_type": "markdown",
   "id": "1a30ab15",
   "metadata": {},
   "source": [
    "The function works as expected."
   ]
  },
  {
   "cell_type": "markdown",
   "id": "7f67424f",
   "metadata": {},
   "source": [
    "## Inspecting the attributes of the code & policy"
   ]
  },
  {
   "cell_type": "code",
   "execution_count": 12,
   "id": "934db3b7",
   "metadata": {
    "tags": []
   },
   "outputs": [
    {
     "data": {
      "text/html": [
       "{NodeView(node_name=&#x27;Modest Karp&#x27;, verify_key=04137bfea77b4c86492df2b9849190bd4a19b7a2833b3c500dd37fef6957615c): {&#x27;drink_data&#x27;: &lt;UID: 4d6b7de22de8464ea7d53ec6a1ee5788&gt;}}"
      ],
      "text/plain": [
       "{NodeView(node_name='Modest Karp', verify_key=04137bfea77b4c86492df2b9849190bd4a19b7a2833b3c500dd37fef6957615c): {'drink_data': <UID: 4d6b7de22de8464ea7d53ec6a1ee5788>}}"
      ]
     },
     "execution_count": 12,
     "metadata": {},
     "output_type": "execute_result"
    }
   ],
   "source": [
    "most_liked_bubble_tea.kwargs"
   ]
  },
  {
   "cell_type": "code",
   "execution_count": 13,
   "id": "5cdbe90d",
   "metadata": {
    "tags": []
   },
   "outputs": [
    {
     "data": {
      "text/plain": [
       "syft.service.policy.policy.ExactMatch"
      ]
     },
     "execution_count": 13,
     "metadata": {},
     "output_type": "execute_result"
    }
   ],
   "source": [
    "most_liked_bubble_tea.input_policy_type"
   ]
  },
  {
   "cell_type": "code",
   "execution_count": 14,
   "id": "78b927b3",
   "metadata": {
    "tags": []
   },
   "outputs": [
    {
     "data": {
      "text/plain": [
       "syft.service.policy.policy.OutputPolicyExecuteOnce"
      ]
     },
     "execution_count": 14,
     "metadata": {},
     "output_type": "execute_result"
    }
   ],
   "source": [
    "most_liked_bubble_tea.output_policy_type"
   ]
  },
  {
   "cell_type": "code",
   "execution_count": 15,
   "id": "a6bd2313",
   "metadata": {
    "tags": []
   },
   "outputs": [
    {
     "data": {
      "text/plain": [
       "'@sy.syft_function(input_policy=sy.ExactMatch(drink_data=mock),\\n                  output_policy=sy.SingleExecutionExactOutput())\\ndef most_liked_bubble_tea(drink_data):\\n    import pandas as pd\\n    from opendp.mod import enable_features\\n    enable_features(\\'contrib\\')\\n    from opendp.measurements import make_base_laplace\\n    aggregate = 0.\\n    base_lap = make_base_laplace(scale=5.)\\n    noise = base_lap(aggregate)\\n\\n    # your code:\\n    df = drink_data\\n    most_liked_drink_row = df.iloc[mock_df[\\'customer_ratings\\'].argmax()]\\n    return (# str(most_liked_drink_row[\"drink_name\"]),\\n            float(most_liked_drink_row[\"customer_ratings\"]),\\n            float(noise)\\n           )\\n'"
      ]
     },
     "execution_count": 15,
     "metadata": {},
     "output_type": "execute_result"
    }
   ],
   "source": [
    "most_liked_bubble_tea.code"
   ]
  },
  {
   "cell_type": "markdown",
   "id": "abbd37dd",
   "metadata": {},
   "source": [
    "## Submit code for review on the Data Owner side"
   ]
  },
  {
   "cell_type": "code",
   "execution_count": 16,
   "id": "9451231c",
   "metadata": {
    "tags": []
   },
   "outputs": [],
   "source": [
    "new_project = sy.Project(name=\"My first query on bubble tea data\")\n",
    "proj_desc = \"\"\"Hi, I want to know which bubble tea flavour is the most liked\"\"\""
   ]
  },
  {
   "cell_type": "code",
   "execution_count": 17,
   "id": "8cb23990-5183-476f-b826-dbb9e1cb8c06",
   "metadata": {
    "tags": []
   },
   "outputs": [
    {
     "data": {
      "text/markdown": [
       "```python\n",
       "class Request:\n",
       "  id: str = 00bcdc0dfa8e49c2bd6872b14260ba5a\n",
       "  requesting_user_verify_key: str = 4ea8053fe7417899e19a84448a46ffceed451d06ed90eef0bc5b1f2aa9e10143\n",
       "  approving_user_verify_key: str = None\n",
       "  request_time: str = 2023-05-03 20:50:29\n",
       "  approval_time: str = None\n",
       "  status: str = RequestStatus.PENDING\n",
       "  node_uid: str = d87e4efcc9e8494b826df57b8670a2b3\n",
       "  request_hash: str = \"ee26272cbe1af80905ca61d73b00010d1a805efc7f803731701ce8da2774d6fd\"\n",
       "  changes: str = [syft.service.request.request.UserCodeStatusChange]\n",
       "\n",
       "```"
      ],
      "text/plain": [
       "syft.service.request.request.Request"
      ]
     },
     "execution_count": 17,
     "metadata": {},
     "output_type": "execute_result"
    }
   ],
   "source": [
    "guest_domain_client.api.services.code.request_code_execution(most_liked_bubble_tea)"
   ]
  },
  {
   "cell_type": "code",
   "execution_count": 18,
   "id": "39d86e7e",
   "metadata": {
    "tags": []
   },
   "outputs": [
    {
     "data": {
      "text/html": [
       "List - Size: 1\n",
       "<div>\n",
       "<style scoped>\n",
       "    .dataframe tbody tr th:only-of-type {\n",
       "        vertical-align: middle;\n",
       "    }\n",
       "\n",
       "    .dataframe tbody tr th {\n",
       "        vertical-align: top;\n",
       "    }\n",
       "\n",
       "    .dataframe thead th {\n",
       "        text-align: right;\n",
       "    }\n",
       "</style>\n",
       "<table border=\"1\" class=\"dataframe\">\n",
       "  <thead>\n",
       "    <tr style=\"text-align: right;\">\n",
       "      <th></th>\n",
       "      <th>type</th>\n",
       "      <th>id</th>\n",
       "      <th>status</th>\n",
       "      <th>service_func_name</th>\n",
       "    </tr>\n",
       "  </thead>\n",
       "  <tbody>\n",
       "    <tr>\n",
       "      <th>0</th>\n",
       "      <td>syft.service.code.user_code.UserCode</td>\n",
       "      <td>3b72f052e2a440179cecab37e723af6b</td>\n",
       "      <td>{NodeView(node_name='Modest Karp', verify_key=...</td>\n",
       "      <td>most_liked_bubble_tea</td>\n",
       "    </tr>\n",
       "  </tbody>\n",
       "</table>\n",
       "</div>"
      ],
      "text/plain": [
       "<syft.client.api.APIModule at 0x28965ed40>"
      ]
     },
     "execution_count": 18,
     "metadata": {},
     "output_type": "execute_result"
    }
   ],
   "source": [
    "guest_domain_client.api.services.code.request_code_execution(most_liked_bubble_tea)\n",
    "guest_domain_client.code"
   ]
  },
  {
   "cell_type": "code",
   "execution_count": 19,
   "id": "caea472a",
   "metadata": {
    "scrolled": true,
    "tags": []
   },
   "outputs": [
    {
     "data": {
      "text/markdown": [
       "```python\n",
       "class UserCode:\n",
       "  id: str = 3b72f052e2a440179cecab37e723af6b\n",
       "  node_uid: str = None\n",
       "  user_verify_key: str = 4ea8053fe7417899e19a84448a46ffceed451d06ed90eef0bc5b1f2aa9e10143\n",
       "  raw_code: str = \"@sy.syft_function(input_policy=sy.ExactMatch(drink_data=mock),\n",
       "                  output_policy=sy.SingleExecutionExactOutput())\n",
       "def most_liked_bubble_tea(drink_data):\n",
       "    import pandas as pd\n",
       "    from opendp.mod import enable_features\n",
       "    enable_features('contrib')\n",
       "    from opendp.measurements import make_base_laplace\n",
       "    aggregate = 0.\n",
       "    base_lap = make_base_laplace(scale=5.)\n",
       "    noise = base_lap(aggregate)\n",
       "\n",
       "    # your code:\n",
       "    df = drink_data\n",
       "    most_liked_drink_row = df.iloc[mock_df['customer_ratings'].argmax()]\n",
       "    return (# str(most_liked_drink_row[\"drink_name\"]),\n",
       "            float(most_liked_drink_row[\"customer_ratings\"]),\n",
       "            float(noise)\n",
       "           )\n",
       "\"\n",
       "  input_policy_type: str = <class 'syft.service.policy.policy.ExactMatch'>\n",
       "  input_policy_init_kwargs: str = {NodeView(node_name='Modest Karp', verify_key=04137bfea77b4c86492df2b9849190bd4a19b7a2833b3c500dd37fef6957615c): {'drink_data': <UID: 4d6b7de22de8464ea7d53ec6a1ee5788>}}\n",
       "  input_policy_state: str = b''\n",
       "  output_policy_type: str = <class 'syft.service.policy.policy.OutputPolicyExecuteOnce'>\n",
       "  output_policy_init_kwargs: str = {}\n",
       "  output_policy_state: str = b''\n",
       "  parsed_code: str = \"def user_func_most_liked_bubble_tea_4ea8053fe7417899e19a84448a46ffceed451d06ed90eef0bc5b1f2aa9e10143_b4bd04f2a5bd30a85536f05f53741ceb9121c015867cf1fc684d3217df0b60d4(drink_data):\n",
       "\n",
       "    def most_liked_bubble_tea(drink_data):\n",
       "        import pandas as pd\n",
       "        from opendp.mod import enable_features\n",
       "        enable_features('contrib')\n",
       "        from opendp.measurements import make_base_laplace\n",
       "        aggregate = 0.0\n",
       "        base_lap = make_base_laplace(scale=5.0)\n",
       "        noise = base_lap(aggregate)\n",
       "        df = drink_data\n",
       "        most_liked_drink_row = df.iloc[mock_df['customer_ratings'].argmax()]\n",
       "        return (float(most_liked_drink_row['customer_ratings']), float(noise))\n",
       "    result = most_liked_bubble_tea(drink_data=drink_data)\n",
       "    return result\"\n",
       "  service_func_name: str = \"most_liked_bubble_tea\"\n",
       "  unique_func_name: str = \"user_func_most_liked_bubble_tea_4ea8053fe7417899e19a84448a46ffceed451d06ed90eef0bc5b1f2aa9e10143_b4bd04f2a5bd30a85536f05f53741ceb9121c015867cf1fc684d3217df0b60d4\"\n",
       "  user_unique_func_name: str = \"user_func_most_liked_bubble_tea_4ea8053fe7417899e19a84448a46ffceed451d06ed90eef0bc5b1f2aa9e10143\"\n",
       "  code_hash: str = \"b4bd04f2a5bd30a85536f05f53741ceb9121c015867cf1fc684d3217df0b60d4\"\n",
       "  signature: str = (drink_data)\n",
       "  status: str = {NodeView(node_name='Modest Karp', verify_key=04137bfea77b4c86492df2b9849190bd4a19b7a2833b3c500dd37fef6957615c): <UserCodeStatus.SUBMITTED: 'submitted'>}\n",
       "  input_kwargs: str = ['drink_data']\n",
       "  enclave_metadata: str = None\n",
       "\n",
       "```"
      ],
      "text/plain": [
       "syft.service.code.user_code.UserCode"
      ]
     },
     "execution_count": 19,
     "metadata": {},
     "output_type": "execute_result"
    }
   ],
   "source": [
    "new_project.set_description(proj_desc)\n",
    "submitted_code = guest_domain_client.code[0]\n",
    "submitted_code"
   ]
  },
  {
   "cell_type": "code",
   "execution_count": 20,
   "id": "3597b9c0",
   "metadata": {
    "tags": []
   },
   "outputs": [
    {
     "data": {
      "text/html": [
       "List - Size: 1\n",
       "<div>\n",
       "<style scoped>\n",
       "    .dataframe tbody tr th:only-of-type {\n",
       "        vertical-align: middle;\n",
       "    }\n",
       "\n",
       "    .dataframe tbody tr th {\n",
       "        vertical-align: top;\n",
       "    }\n",
       "\n",
       "    .dataframe thead th {\n",
       "        text-align: right;\n",
       "    }\n",
       "</style>\n",
       "<table border=\"1\" class=\"dataframe\">\n",
       "  <thead>\n",
       "    <tr style=\"text-align: right;\">\n",
       "      <th></th>\n",
       "      <th>type</th>\n",
       "      <th>id</th>\n",
       "    </tr>\n",
       "  </thead>\n",
       "  <tbody>\n",
       "    <tr>\n",
       "      <th>0</th>\n",
       "      <td>syft.service.project.project.ObjectPermissionC...</td>\n",
       "      <td>532e01e8b5814360bb1803d84298db45</td>\n",
       "    </tr>\n",
       "  </tbody>\n",
       "</table>\n",
       "</div>"
      ],
      "text/plain": [
       "[syft.service.project.project.ObjectPermissionChange]"
      ]
     },
     "execution_count": 20,
     "metadata": {},
     "output_type": "execute_result"
    }
   ],
   "source": [
    "new_project.add_request(obj=submitted_code, permission=sy.UserCodeStatus.EXECUTE)\n",
    "new_project.changes"
   ]
  },
  {
   "cell_type": "code",
   "execution_count": 21,
   "id": "5a518617",
   "metadata": {
    "tags": []
   },
   "outputs": [
    {
     "data": {
      "text/markdown": [
       "```python\n",
       "class ProjectSubmit:\n",
       "  id: str = None\n",
       "  name: str = \"My first query on bubble tea data\"\n",
       "  description: str = \"Hi, I want to know which bubble tea flavour is the most liked\"\n",
       "  changes: str = [syft.service.project.project.ObjectPermissionChange]\n",
       "\n",
       "```"
      ],
      "text/plain": [
       "syft.service.project.project.ProjectSubmit"
      ]
     },
     "execution_count": 21,
     "metadata": {},
     "output_type": "execute_result"
    }
   ],
   "source": [
    "new_project"
   ]
  },
  {
   "cell_type": "markdown",
   "id": "979c95be",
   "metadata": {},
   "source": [
    "Now we are ready to submit the code."
   ]
  },
  {
   "cell_type": "code",
   "execution_count": 22,
   "id": "fd01e70e",
   "metadata": {
    "tags": []
   },
   "outputs": [
    {
     "data": {
      "text/html": [
       "<div class=\"alert-success\" style=\"padding:5px;\"><strong>SyftSuccess</strong>: Project Submitted</div><br />"
      ],
      "text/plain": [
       "<class 'syft.service.response.SyftSuccess'>: Project Submitted"
      ]
     },
     "execution_count": 22,
     "metadata": {},
     "output_type": "execute_result"
    }
   ],
   "source": [
    "guest_domain_client.submit_project(new_project)"
   ]
  },
  {
   "cell_type": "markdown",
   "id": "7c65d17e",
   "metadata": {},
   "source": [
    "**At this point, we will go back to the data-owner-workflow notebook to review the submitted code and either approve or reject it.**"
   ]
  },
  {
   "cell_type": "code",
   "execution_count": null,
   "id": "7fc2b68d",
   "metadata": {},
   "outputs": [],
   "source": []
  }
 ],
 "metadata": {
  "kernelspec": {
   "display_name": "Python 3 (ipykernel)",
   "language": "python",
   "name": "python3"
  },
  "language_info": {
   "codemirror_mode": {
    "name": "ipython",
    "version": 3
   },
   "file_extension": ".py",
   "mimetype": "text/x-python",
   "name": "python",
   "nbconvert_exporter": "python",
   "pygments_lexer": "ipython3",
   "version": "3.10.10"
  }
 },
 "nbformat": 4,
 "nbformat_minor": 5
}
