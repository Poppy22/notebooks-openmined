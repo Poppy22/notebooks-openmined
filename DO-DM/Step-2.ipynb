{
 "cells": [
  {
   "cell_type": "markdown",
   "id": "d7d15e1e-b3fe-4c69-9c22-c9aaf092e268",
   "metadata": {},
   "source": [
    "## Intro"
   ]
  },
  {
   "cell_type": "markdown",
   "id": "48d8b5d2-8509-4b8d-88df-0f94a075cd45",
   "metadata": {},
   "source": [
    "These instructions are intended for data owners / data scientists.\n",
    "\n",
    "To be able to continue, you should have received instructions from the IT specialist about how to access the domain node UI (URL, port, credentials, etc). If not, check with the designated IT responsible."
   ]
  },
  {
   "cell_type": "markdown",
   "id": "5e5caafd-5652-4ee6-abff-d9e7f3881c75",
   "metadata": {},
   "source": [
    "## Prepare your dataset"
   ]
  },
  {
   "cell_type": "markdown",
   "id": "3edf03fe-30f1-41d4-9b9c-8799b8fbb908",
   "metadata": {},
   "source": [
    "Before uploading the dataset, make sure it contains the necessary data and in the right format.\n",
    "\n",
    "PySyft support Pandas Dataframes objects, so make sure your dataset can be parsed as such using the [Python Pandas](https://pandas.pydata.org) library."
   ]
  },
  {
   "cell_type": "markdown",
   "id": "c2d490ab-cd74-4b6c-a252-448968dc360a",
   "metadata": {},
   "source": [
    "## Logging into the domain"
   ]
  },
  {
   "cell_type": "code",
   "execution_count": 1,
   "id": "e04d6a2e-2791-4e5b-bfaa-0422e0dd1648",
   "metadata": {
    "tags": []
   },
   "outputs": [],
   "source": [
    "import syft as sy"
   ]
  },
  {
   "cell_type": "code",
   "execution_count": 2,
   "id": "aaf3f8a9-726a-4d46-aa08-aa9af5c4ace5",
   "metadata": {
    "tags": []
   },
   "outputs": [],
   "source": [
    "domain = sy.login(url=\"\",\n",
    "                  port=\"\",\n",
    "                  email=\"\",\n",
    "                  password=\"\")\n",
    "\n",
    "# all these credentials should have been provided by the IT specialist"
   ]
  },
  {
   "cell_type": "markdown",
   "id": "cb9b35a4-5021-4a0b-9587-0d6b75f52f91",
   "metadata": {},
   "source": [
    "## Create mock data"
   ]
  },
  {
   "cell_type": "code",
   "execution_count": null,
   "id": "8275ec98-bd62-4151-9353-f203bdf303f8",
   "metadata": {},
   "outputs": [],
   "source": []
  }
 ],
 "metadata": {
  "kernelspec": {
   "display_name": "Python 3 (ipykernel)",
   "language": "python",
   "name": "python3"
  },
  "language_info": {
   "codemirror_mode": {
    "name": "ipython",
    "version": 3
   },
   "file_extension": ".py",
   "mimetype": "text/x-python",
   "name": "python",
   "nbconvert_exporter": "python",
   "pygments_lexer": "ipython3",
   "version": "3.10.10"
  }
 },
 "nbformat": 4,
 "nbformat_minor": 5
}
