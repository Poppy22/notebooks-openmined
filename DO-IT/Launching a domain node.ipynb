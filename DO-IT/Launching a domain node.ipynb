{
 "cells": [
  {
   "cell_type": "markdown",
   "id": "ad060c26-ee9b-46b0-80d2-bf52e10aff07",
   "metadata": {},
   "source": [
    "## Intro"
   ]
  },
  {
   "cell_type": "markdown",
   "id": "bf42912e-9cc0-4e2a-89d5-1d40b70c0685",
   "metadata": {},
   "source": [
    "These instructions are indended for IT specialists. You will learn how to launch a **domain node** and how to edit the login credentials. Additionally, you might want to add extra security layers, such as VPN or firewall."
   ]
  },
  {
   "cell_type": "markdown",
   "id": "99c58494-dc42-4913-866f-14f96b4d4be8",
   "metadata": {},
   "source": [
    "These steps are universal for launching both **high-side** and **low-side** domains."
   ]
  },
  {
   "cell_type": "markdown",
   "id": "b42ca829-7b6d-455e-b4e7-c2fb1321c75d",
   "metadata": {},
   "source": [
    "## System requirements"
   ]
  },
  {
   "cell_type": "markdown",
   "id": "b7a7bae1-8e7f-45bb-8c32-839298df249b",
   "metadata": {},
   "source": [
    "We recommend the following specifications for the VM where you will launch a domain:\n",
    "- OS: Linux Ubuntu 20.04\n",
    "- RAM: 32-64GB \n",
    "- CPUs: 8-16 Cores\n",
    "- Storage : >100GBs"
   ]
  },
  {
   "cell_type": "markdown",
   "id": "fc8f7bf1-122e-4d0e-a4b2-2fd90c959dce",
   "metadata": {},
   "source": [
    "Then install hagrid:"
   ]
  },
  {
   "cell_type": "code",
   "execution_count": null,
   "id": "9cb528f2-db7a-4a42-bba8-c39bba82e3fd",
   "metadata": {},
   "outputs": [],
   "source": [
    "!pip install hagrid"
   ]
  },
  {
   "cell_type": "markdown",
   "id": "59e4f06d-9007-4243-9b41-779d8853da32",
   "metadata": {},
   "source": [
    "After installation, launch:"
   ]
  },
  {
   "cell_type": "code",
   "execution_count": null,
   "id": "c72fcba1-ae4a-40dd-9766-23d91041f99c",
   "metadata": {},
   "outputs": [],
   "source": [
    "!hagrid quickstart"
   ]
  },
  {
   "cell_type": "markdown",
   "id": "b174cef2-1992-4abd-9b2f-256b159e8b02",
   "metadata": {},
   "source": [
    "In the newly-launched Jupyter Notebook, you will find ```01-install-wizard.ipynb```. Run the commands there and make sure you have everything for the next steps:\\\n",
    "✅ hagrid\\\n",
    "✅ syft\\\n",
    "✅ docker"
   ]
  },
  {
   "cell_type": "markdown",
   "id": "37f4ae50-f44c-40cd-b774-c2a3b13ae750",
   "metadata": {
    "tags": []
   },
   "source": [
    "## Launch a domain\n"
   ]
  },
  {
   "cell_type": "markdown",
   "id": "af6c3969-4f15-43d5-9944-ccfaff94203f",
   "metadata": {},
   "source": [
    "First, decide on a domain name."
   ]
  },
  {
   "cell_type": "code",
   "execution_count": 10,
   "id": "7c116b22-2226-4865-98e5-c720ed060935",
   "metadata": {
    "tags": []
   },
   "outputs": [],
   "source": [
    "DOMAIN_NAME = \"My Domain\" # edit your domain name here"
   ]
  },
  {
   "cell_type": "markdown",
   "id": "258ef3ef-f4c9-411f-a2de-5911a4348abd",
   "metadata": {},
   "source": [
    "The next command will launch the new domain node. If something fails, it could be because the port is in use already. Try changing the port number in that case."
   ]
  },
  {
   "cell_type": "code",
   "execution_count": 11,
   "id": "d1560c1a-91ae-454c-b032-252825cbc82e",
   "metadata": {
    "tags": []
   },
   "outputs": [
    {
     "name": "stdout",
     "output_type": "stream",
     "text": [
      "PORT is not a valid port option. Try: docker:8081+\n"
     ]
    }
   ],
   "source": [
    "!hagrid launch DOMAIN_NAME domain to docker:8081 --tag=latest"
   ]
  },
  {
   "cell_type": "markdown",
   "id": "5cc14d5f-0753-4874-9e89-bd386c98bc80",
   "metadata": {
    "tags": []
   },
   "source": [
    "## Health checks"
   ]
  },
  {
   "cell_type": "markdown",
   "id": "53925194-2a8e-4fe1-9e51-5a48cf60f021",
   "metadata": {},
   "source": [
    "Now that the domain has been launched, let's do some health checks. Remember to change the port if you edited the port in the command above.\n",
    "\n",
    "The expected output is that the UI and the API of the domain node running on that server work (✅)."
   ]
  },
  {
   "cell_type": "code",
   "execution_count": 14,
   "id": "c0cdd1ed-4a1c-4ada-b3d8-f8437b8d47e5",
   "metadata": {
    "tags": []
   },
   "outputs": [
    {
     "data": {
      "text/html": [
       "<pre style=\"white-space:pre;overflow-x:auto;line-height:normal;font-family:Menlo,'DejaVu Sans Mono',consolas,'Courier New',monospace\">┏━━━━━━━━━━━┳━━━━━━━━━━━━━━━━━━━━━━━━━━━━━━━━━━━━━━━━━━━┳━━━━┓\n",
       "┃<span style=\"font-weight: bold\"> PyGrid    </span>┃<span style=\"font-weight: bold\"> Info                                      </span>┃<span style=\"font-weight: bold\">    </span>┃\n",
       "┡━━━━━━━━━━━╇━━━━━━━━━━━━━━━━━━━━━━━━━━━━━━━━━━━━━━━━━━━╇━━━━┩\n",
       "│<span style=\"color: #800080; text-decoration-color: #800080\"> UI (βeta) </span>│ http://localhost:8082/login               │ ✅ │\n",
       "│<span style=\"color: #800080; text-decoration-color: #800080\"> api       </span>│ http://localhost:8082/api/v1/openapi.json │ ✅ │\n",
       "└───────────┴───────────────────────────────────────────┴────┘\n",
       "</pre>\n"
      ],
      "text/plain": [
       "┏━━━━━━━━━━━┳━━━━━━━━━━━━━━━━━━━━━━━━━━━━━━━━━━━━━━━━━━━┳━━━━┓\n",
       "┃\u001b[1m \u001b[0m\u001b[1mPyGrid   \u001b[0m\u001b[1m \u001b[0m┃\u001b[1m \u001b[0m\u001b[1mInfo                                     \u001b[0m\u001b[1m \u001b[0m┃\u001b[1m \u001b[0m\u001b[1m  \u001b[0m\u001b[1m \u001b[0m┃\n",
       "┡━━━━━━━━━━━╇━━━━━━━━━━━━━━━━━━━━━━━━━━━━━━━━━━━━━━━━━━━╇━━━━┩\n",
       "│\u001b[35m \u001b[0m\u001b[35mUI (βeta)\u001b[0m\u001b[35m \u001b[0m│ http://localhost:8082/login               │ ✅ │\n",
       "│\u001b[35m \u001b[0m\u001b[35mapi      \u001b[0m\u001b[35m \u001b[0m│ http://localhost:8082/api/v1/openapi.json │ ✅ │\n",
       "└───────────┴───────────────────────────────────────────┴────┘\n"
      ]
     },
     "metadata": {},
     "output_type": "display_data"
    }
   ],
   "source": [
    "hagrid.check('localhost:8081', timeout=120)"
   ]
  },
  {
   "cell_type": "markdown",
   "id": "fd831f6f-b72a-4103-9236-c15577c9a31e",
   "metadata": {
    "tags": []
   },
   "source": [
    "## Logging in into the domain programatically"
   ]
  },
  {
   "cell_type": "markdown",
   "id": "c265632e-f8f9-41ff-95a7-e18f4abaad40",
   "metadata": {},
   "source": [
    "Use the command below to login into the domain node. Again, make sure the port is the correct one.\n",
    "\n",
    "The credentials have default value and should be changed. This can be done in the UI in the next section."
   ]
  },
  {
   "cell_type": "code",
   "execution_count": 15,
   "id": "66394660-a798-4c61-a8d6-3af5b94752aa",
   "metadata": {
    "tags": []
   },
   "outputs": [
    {
     "name": "stdout",
     "output_type": "stream",
     "text": [
      "\u001b[93mWARNING:\u001b[0m CHANGE YOUR USERNAME AND PASSWORD!!! \n",
      "\n",
      "Anyone can login as an admin to your node right now because your password is still the default PySyft username and password!!!\n",
      "\n",
      "Connecting to localhost... done! \t Logging into domain_name... done!\n"
     ]
    }
   ],
   "source": [
    "import syft as sy\n",
    "domain = sy.login(email=\"info@openmined.org\", password=\"changethis\",port=8082)"
   ]
  },
  {
   "cell_type": "markdown",
   "id": "2187e44b-9609-4b25-a289-015530e0fac9",
   "metadata": {
    "tags": []
   },
   "source": [
    "## Logging in into the domain via UI"
   ]
  },
  {
   "cell_type": "markdown",
   "id": "146320a9-fa85-4367-a0e6-440bfc36be5c",
   "metadata": {},
   "source": [
    "Access the UI: http://localhost:8081/ (or the selected port!)\\\n",
    "Type in the default credentials: \"info@openmined.org\" and password \"changethis\""
   ]
  },
  {
   "cell_type": "markdown",
   "id": "5a861de9-e84f-49a1-bb7e-cbbeb4eb82e5",
   "metadata": {},
   "source": [
    "After logging in, click on your profile in the down-left corner. Update your details (name, email, organization, new password). This account might be created for and used by a data manager, so make sure to add their credentials there."
   ]
  },
  {
   "cell_type": "markdown",
   "id": "859fad5e-c8d5-416d-836a-403252a4b950",
   "metadata": {
    "tags": []
   },
   "source": [
    "## Configure VPN/Firewall"
   ]
  },
  {
   "cell_type": "markdown",
   "id": "120026ad-59d9-486c-a987-a775de2119a9",
   "metadata": {},
   "source": [
    "Do not forget to configure VPN and/or firewall for the deployed domain. We strongly recommend adding this extra security step.\n",
    "\n",
    "**Note**: for the low-side domain, make sure the firewall is open"
   ]
  },
  {
   "cell_type": "markdown",
   "id": "06993f2a-b2b3-4f1b-990b-d21f2e871a6a",
   "metadata": {},
   "source": [
    "## Tearing down the domain"
   ]
  },
  {
   "cell_type": "code",
   "execution_count": null,
   "id": "a81524a1-0b6e-438e-b84a-914f357ef427",
   "metadata": {},
   "outputs": [],
   "source": [
    "!hagrid land DOMAIN_NAME"
   ]
  },
  {
   "cell_type": "markdown",
   "id": "409909b8-4c54-4d6b-b803-fad9de1b0707",
   "metadata": {
    "tags": []
   },
   "source": [
    "## Final thoughts"
   ]
  },
  {
   "cell_type": "markdown",
   "id": "7b3778ab-f25e-48d4-9c38-b63a550a65ec",
   "metadata": {},
   "source": [
    "Now that you launched and configured the domain, you might want to communicate practical details to the data manager (such as the login credentials, the URL where they can access the domain node, and instructions on how to by-pass the VPN)."
   ]
  },
  {
   "cell_type": "markdown",
   "id": "af028fdd-b650-4017-9728-b0c576e91eac",
   "metadata": {},
   "source": [
    "Congrats on deploying the domain node! Here's what you should have achieved from this tutorial:\\\n",
    "✅ configured the VMs\\\n",
    "✅ launched the high-side domain\\\n",
    "✅ launched the low-side domain\\\n",
    "✅ changed the default login credentials for both domains\\\n",
    "✅ set-up VPN/firewall (more strict for high-side, but open firewall for low-side)"
   ]
  }
 ],
 "metadata": {
  "kernelspec": {
   "display_name": "Python 3 (ipykernel)",
   "language": "python",
   "name": "python3"
  },
  "language_info": {
   "codemirror_mode": {
    "name": "ipython",
    "version": 3
   },
   "file_extension": ".py",
   "mimetype": "text/x-python",
   "name": "python",
   "nbconvert_exporter": "python",
   "pygments_lexer": "ipython3",
   "version": "3.10.10"
  }
 },
 "nbformat": 4,
 "nbformat_minor": 5
}
