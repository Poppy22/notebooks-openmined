{
 "cells": [
  {
   "cell_type": "code",
   "execution_count": 1,
   "id": "a50a3c5d-110f-405f-bd37-efd5a7475929",
   "metadata": {
    "tags": []
   },
   "outputs": [
    {
     "name": "stderr",
     "output_type": "stream",
     "text": [
      "kj/filesystem-disk-unix.c++:1703: warning: PWD environment variable doesn't match current directory; pwd = /Users/carmenpopa/.hagrid/quickstart\n"
     ]
    }
   ],
   "source": [
    "import syft as sy\n",
    "\n",
    "import pandas as pd"
   ]
  },
  {
   "cell_type": "code",
   "execution_count": 2,
   "id": "b561344e-0835-4930-a96d-51f3502f1854",
   "metadata": {
    "tags": []
   },
   "outputs": [],
   "source": [
    "import hagrid\n",
    "from hagrid import wizard"
   ]
  },
  {
   "cell_type": "code",
   "execution_count": 3,
   "id": "19cc63a2-d3a7-4be2-98f2-b4b4033aca2f",
   "metadata": {
    "tags": []
   },
   "outputs": [
    {
     "data": {
      "text/html": [
       "✅ macOS<br />✅ Python 3.10.10<br />✅ syft==0.8.0.post2 (latest stable)<br />"
      ],
      "text/plain": [
       "<hagrid.nb_output.NBOutput at 0x105e9e8f0>"
      ]
     },
     "execution_count": 3,
     "metadata": {},
     "output_type": "execute_result"
    }
   ],
   "source": [
    "wizard.check_syft"
   ]
  },
  {
   "cell_type": "markdown",
   "id": "6ea00920-68dd-472c-b385-5edbc8c9cdd8",
   "metadata": {
    "tags": []
   },
   "source": [
    "!pip install syft==0.8.0b8"
   ]
  },
  {
   "cell_type": "markdown",
   "id": "a66c4c4b-81e4-49ec-9ce6-5bdd1f11d484",
   "metadata": {},
   "source": [
    "### Create dataset"
   ]
  },
  {
   "cell_type": "code",
   "execution_count": 4,
   "id": "1b345b3c-7260-40c0-bc1b-4ce3ca6017a3",
   "metadata": {
    "tags": []
   },
   "outputs": [],
   "source": [
    "mock_data = {\n",
    "    \"PostId\" : [\"id1\", \"id2\", \"id3\", \"id4\", \"id5\", \"id6\"],\n",
    "    \"Link\": [\"bt/brown-sugar1\", \"bt/brown-sugar1\", \"bt/oolong1\", \"bt/oolong1\", \"bt/taro1\", \"bt/taro1\"],\n",
    "    \"HealthScore (1-5)\": [2, 2, 4, 4, 3, 3],\n",
    "    \"Impression\": [120, 275, 181, 49, 122, 138],\n",
    "    \"Bucket\": [\"Control\", \"Treatment\", \"Control\", \"Treatment\", \"Control\", \"Treatment\"]\n",
    "}"
   ]
  },
  {
   "cell_type": "code",
   "execution_count": 5,
   "id": "02fba85e-c2be-4752-ac14-d9f1985ab891",
   "metadata": {
    "tags": []
   },
   "outputs": [],
   "source": [
    "mock_df = pd.DataFrame(mock_data)"
   ]
  },
  {
   "cell_type": "code",
   "execution_count": 6,
   "id": "04a1871f-1953-40ec-80f3-f24b81c8ff62",
   "metadata": {
    "tags": []
   },
   "outputs": [
    {
     "data": {
      "text/html": [
       "<div>\n",
       "<style scoped>\n",
       "    .dataframe tbody tr th:only-of-type {\n",
       "        vertical-align: middle;\n",
       "    }\n",
       "\n",
       "    .dataframe tbody tr th {\n",
       "        vertical-align: top;\n",
       "    }\n",
       "\n",
       "    .dataframe thead th {\n",
       "        text-align: right;\n",
       "    }\n",
       "</style>\n",
       "<table border=\"1\" class=\"dataframe\">\n",
       "  <thead>\n",
       "    <tr style=\"text-align: right;\">\n",
       "      <th></th>\n",
       "      <th>PostId</th>\n",
       "      <th>Link</th>\n",
       "      <th>HealthScore (1-5)</th>\n",
       "      <th>Impression</th>\n",
       "      <th>Bucket</th>\n",
       "    </tr>\n",
       "  </thead>\n",
       "  <tbody>\n",
       "    <tr>\n",
       "      <th>0</th>\n",
       "      <td>id1</td>\n",
       "      <td>bt/brown-sugar1</td>\n",
       "      <td>2</td>\n",
       "      <td>120</td>\n",
       "      <td>Control</td>\n",
       "    </tr>\n",
       "    <tr>\n",
       "      <th>1</th>\n",
       "      <td>id2</td>\n",
       "      <td>bt/brown-sugar1</td>\n",
       "      <td>2</td>\n",
       "      <td>275</td>\n",
       "      <td>Treatment</td>\n",
       "    </tr>\n",
       "    <tr>\n",
       "      <th>2</th>\n",
       "      <td>id3</td>\n",
       "      <td>bt/oolong1</td>\n",
       "      <td>4</td>\n",
       "      <td>181</td>\n",
       "      <td>Control</td>\n",
       "    </tr>\n",
       "    <tr>\n",
       "      <th>3</th>\n",
       "      <td>id4</td>\n",
       "      <td>bt/oolong1</td>\n",
       "      <td>4</td>\n",
       "      <td>49</td>\n",
       "      <td>Treatment</td>\n",
       "    </tr>\n",
       "    <tr>\n",
       "      <th>4</th>\n",
       "      <td>id5</td>\n",
       "      <td>bt/taro1</td>\n",
       "      <td>3</td>\n",
       "      <td>122</td>\n",
       "      <td>Control</td>\n",
       "    </tr>\n",
       "  </tbody>\n",
       "</table>\n",
       "</div>"
      ],
      "text/plain": [
       "  PostId             Link  HealthScore (1-5)  Impression     Bucket\n",
       "0    id1  bt/brown-sugar1                  2         120    Control\n",
       "1    id2  bt/brown-sugar1                  2         275  Treatment\n",
       "2    id3       bt/oolong1                  4         181    Control\n",
       "3    id4       bt/oolong1                  4          49  Treatment\n",
       "4    id5         bt/taro1                  3         122    Control"
      ]
     },
     "execution_count": 6,
     "metadata": {},
     "output_type": "execute_result"
    }
   ],
   "source": [
    "mock_df.head()"
   ]
  },
  {
   "cell_type": "code",
   "execution_count": 7,
   "id": "b6011e19-fb2c-4583-89b5-2f5384324c11",
   "metadata": {
    "tags": []
   },
   "outputs": [
    {
     "data": {
      "text/plain": [
       "(6, 5)"
      ]
     },
     "execution_count": 7,
     "metadata": {},
     "output_type": "execute_result"
    }
   ],
   "source": [
    "mock_df.shape"
   ]
  },
  {
   "cell_type": "markdown",
   "id": "6ad87b74-0fa5-4508-9007-2bc5f3d6602b",
   "metadata": {},
   "source": [
    "### Create mock dataset"
   ]
  },
  {
   "cell_type": "code",
   "execution_count": 8,
   "id": "fbb061fc-1b00-4e20-9ec5-1872fa5b8795",
   "metadata": {
    "tags": []
   },
   "outputs": [],
   "source": [
    "dataset = sy.Dataset(name=\"Algorithmic study - Bubble tea mock data\")\n",
    "dataset.set_description(\"\"\"The fake dataset for the bubble tea algorithmic study\"\"\")"
   ]
  },
  {
   "cell_type": "code",
   "execution_count": 9,
   "id": "d5521153-1d69-4fbf-8406-5b7ef3eeb87b",
   "metadata": {
    "tags": []
   },
   "outputs": [],
   "source": [
    "dataset.add_citation(\"Carmen Popa\")"
   ]
  },
  {
   "cell_type": "code",
   "execution_count": 10,
   "id": "e1157642-7e91-47ae-ae01-4eb3306fc4fb",
   "metadata": {
    "tags": []
   },
   "outputs": [],
   "source": [
    "dataset.add_contributor(role=sy.roles.UPLOADER, \n",
    "                                name=\"Carmen Popa\", \n",
    "                                email=\"carmen@openmined.org\",\n",
    "                                note=\"Carmen runs this domain and prepared the dataset.\")\n",
    "\n",
    "dataset.add_contributor(role=sy.roles.EDITOR, \n",
    "                                name=\"Irina Bejan\", \n",
    "                                email=\"irina@openmined.org\",\n",
    "                                note=\"Adding Irina in case of changes.\")"
   ]
  },
  {
   "cell_type": "code",
   "execution_count": 11,
   "id": "de72738a-31ac-40c5-8fae-8a71df7fe16c",
   "metadata": {
    "tags": []
   },
   "outputs": [],
   "source": [
    "ctf = sy.Asset(name=\"bubble_tea_data_model_auditing\")\n",
    "ctf.set_description(\"Mock data for bubble tea social media study\")"
   ]
  },
  {
   "cell_type": "code",
   "execution_count": 12,
   "id": "a8a010d7-8728-4e93-bfcc-dd79eeff11d6",
   "metadata": {
    "tags": []
   },
   "outputs": [],
   "source": [
    "ctf.set_obj(mock_df)\n",
    "ctf.set_shape(mock_df.shape)\n",
    "ctf.set_mock(mock_df, mock_is_real=False)"
   ]
  },
  {
   "cell_type": "code",
   "execution_count": 13,
   "id": "59dc5a3c-c9fb-41ef-8df8-2df0bb69cb45",
   "metadata": {
    "tags": []
   },
   "outputs": [
    {
     "data": {
      "text/markdown": [
       "```python\n",
       "class CreateAsset:\n",
       "  id: str = None\n",
       "  name: str = \"bubble_tea_data_model_auditing\"\n",
       "  description: str = \"Mock data for bubble tea social media study\"\n",
       "  contributors: str = []\n",
       "  data_subjects: str = []\n",
       "  node_uid: str = None\n",
       "  action_id: str = None\n",
       "  data: str =   PostId             Link  HealthScore (1-5)  Impression     Bucket\n",
       "0    id1  bt/brown-sugar1                  2         120    Control\n",
       "1    id2  bt/brown-sugar1                  2         275  Treatment\n",
       "2    id3       bt/oolong1                  4         181    Control\n",
       "3    id4       bt/oolong1                  4          49  Treatment\n",
       "4    id5         bt/taro1                  3         122    Control\n",
       "5    id6         bt/taro1                  3         138  Treatment\n",
       "  mock: str =   PostId             Link  HealthScore (1-5)  Impression     Bucket\n",
       "0    id1  bt/brown-sugar1                  2         120    Control\n",
       "1    id2  bt/brown-sugar1                  2         275  Treatment\n",
       "2    id3       bt/oolong1                  4         181    Control\n",
       "3    id4       bt/oolong1                  4          49  Treatment\n",
       "4    id5         bt/taro1                  3         122    Control\n",
       "5    id6         bt/taro1                  3         138  Treatment\n",
       "  shape: str = (6, 5)\n",
       "  mock_is_real: str = False\n",
       "\n",
       "```"
      ],
      "text/plain": [
       "syft.service.dataset.dataset.CreateAsset"
      ]
     },
     "execution_count": 13,
     "metadata": {},
     "output_type": "execute_result"
    }
   ],
   "source": [
    "ctf"
   ]
  },
  {
   "cell_type": "code",
   "execution_count": 14,
   "id": "08192908-d5e5-4463-91cb-68db1caeb037",
   "metadata": {
    "tags": []
   },
   "outputs": [],
   "source": [
    "dataset.add_asset(ctf)"
   ]
  },
  {
   "cell_type": "code",
   "execution_count": 15,
   "id": "7d8960b2-3fb5-4623-92d4-b8dc22137ace",
   "metadata": {
    "tags": []
   },
   "outputs": [
    {
     "data": {
      "text/markdown": [
       "```python\n",
       "Syft Dataset: Algorithmic study - Bubble tea mock data\n",
       "Assets:\n",
       "\tbubble_tea_data_model_auditing: Mock data for bubble tea social media study\n",
       "Citation: Carmen Popa\n",
       "Description: The fake dataset for the bubble tea algorithmic study\n",
       "\n",
       "```"
      ],
      "text/plain": [
       "syft.service.dataset.dataset.CreateDataset"
      ]
     },
     "execution_count": 15,
     "metadata": {},
     "output_type": "execute_result"
    }
   ],
   "source": [
    "dataset"
   ]
  },
  {
   "cell_type": "markdown",
   "id": "04465851-7f43-4db3-88f1-a2e56d1efb3e",
   "metadata": {},
   "source": [
    "### Launch domain"
   ]
  },
  {
   "cell_type": "code",
   "execution_count": 16,
   "id": "9e6ec321-48e8-4138-a101-6f9edb79c393",
   "metadata": {
    "tags": []
   },
   "outputs": [
    {
     "name": "stdout",
     "output_type": "stream",
     "text": [
      "\u001b[2K✅ Updated HAGrid from branch: \u001b[1;36m0.8\u001b[0mh: 0.8\u001b[0m0m\n",
      "\u001b[2K\u001b[32m⠦\u001b[0m \u001b[1;34mUpdating HAGrid from branch: 0.8\u001b[0m\n",
      "\u001b[2K\u001b[32m⠦\u001b[0m \u001b[1;34mChecking for Docker Service\u001b[0m   ice\u001b[0m   \n",
      "\u001b[1A\u001b[2K✅ Docker service is running\n",
      "✅ Git 2.39.2\n",
      "✅ Docker 20.10.22\n",
      "✅ Docker Compose 2.15.1\n",
      "\n",
      "Launching a PyGrid Domain node on port 8081!\n",
      "\n",
      "  - NAME: lowside\n",
      "  - RELEASE: production\n",
      "  - ARCH: linux/arm64\n",
      "  - TYPE: domain\n",
      "  - DOCKER_TAG: latest\n",
      "  - HAGRID_VERSION: 0.3.7\n",
      "  - PORT: 8081\n",
      "  - DOCKER COMPOSE: v2.15.1\n",
      "\n",
      "\n",
      "\u001b[1;32m⠋\u001b[0m\u001b[1;34m Launching Containers \u001b[0m\u001b[1;32m \u001b[0m\n",
      "\u001b[2K  ✅ \u001b[1;32mPulling [5 / 5]\u001b[0m \u001b[90m━━━━━━━━━━━━━━━━━━━━━━━━━━━━━━━━━━━━━━━━\u001b[0m \u001b[35m100.00%   \u001b[0m0m \u001b[35m80.00%   \u001b[0m\n",
      "\u001b[2K  ✅ \u001b[1;32mLaunching [5 / 5]\u001b[0m \u001b[90m━━━━━━━━━━━━━━━━━━━━━━━━━━━━━━━━━━━━━━━━\u001b[0m \u001b[35m100.00%   \u001b[0m[0m \u001b[35m80.00%   \u001b[0m\n",
      "\u001b[?25h\n",
      "\u001b[1;32m⠋\u001b[0m\u001b[1;34m Checking node API \u001b[0m\u001b[1;32m \u001b[0m   \n",
      "\u001b[2K✅ lowside Domain Containers Creatediner Creation\u001b[0m0m\n",
      "\u001b[2K✅ Backendm \u001b[1;91mStarting Backend\u001b[0meation\u001b[0m\n",
      "\u001b[2K✅ Startup Completeting Backend\u001b[0m\n",
      "\u001b[2K\u001b[32m⠙\u001b[0m \u001b[1;91mStarting Backend\u001b[0m\n",
      "\u001b[1A\u001b[2K┏━━━━━━━━━━━┳━━━━━━━━━━━━━━━━━━━━━━━━━━━━━━━━━━━━━━━━━━━┳━━━━━┓\n",
      "┃\u001b[1m \u001b[0m\u001b[1mPyGrid   \u001b[0m\u001b[1m \u001b[0m┃\u001b[1m \u001b[0m\u001b[1mInfo                                     \u001b[0m\u001b[1m \u001b[0m┃\u001b[1m \u001b[0m\u001b[1m600\u001b[0m\u001b[1m \u001b[0m┃\n",
      "┡━━━━━━━━━━━╇━━━━━━━━━━━━━━━━━━━━━━━━━━━━━━━━━━━━━━━━━━━╇━━━━━┩\n",
      "│\u001b[35m \u001b[0m\u001b[35mUI (βeta)\u001b[0m\u001b[35m \u001b[0m│ http://localhost:8081/login               │ ✅  │\n",
      "│\u001b[35m \u001b[0m\u001b[35mapi      \u001b[0m\u001b[35m \u001b[0m│ http://localhost:8081/api/v1/openapi.json │ ✅  │\n",
      "└───────────┴───────────────────────────────────────────┴─────┘\n",
      "╭───────────────────────────────────────────────────╮\n",
      "│ ✨ To view container logs run \u001b[1;32mhagrid logs lowside\u001b[0m │\n",
      "╰───────────────────────────────────────────────────╯\n"
     ]
    }
   ],
   "source": [
    "!hagrid launch lowSide domain to docker --tag=latest"
   ]
  },
  {
   "cell_type": "code",
   "execution_count": 17,
   "id": "820ae1b5-48f8-415c-94b4-bb35b198861e",
   "metadata": {
    "tags": []
   },
   "outputs": [
    {
     "name": "stdout",
     "output_type": "stream",
     "text": [
      "Logged into Objective Pesenti as <info@openmined.org>\n"
     ]
    },
    {
     "data": {
      "text/plain": [
       "<SyftClient - Objective Pesenti <06a6118fef8f413d903aed4549ffabf7>: HTTPConnection: http://localhost:8081>"
      ]
     },
     "execution_count": 17,
     "metadata": {},
     "output_type": "execute_result"
    }
   ],
   "source": [
    "domain_client_low_side = sy.login(url = \"http://localhost:8081\", email=\"info@openmined.org\", password=\"changethis\")\n",
    "domain_client_low_side"
   ]
  },
  {
   "cell_type": "code",
   "execution_count": 18,
   "id": "52dad9a6-ab4f-4a7c-89ca-1d2389b95c04",
   "metadata": {
    "tags": []
   },
   "outputs": [
    {
     "name": "stderr",
     "output_type": "stream",
     "text": [
      "100%|██████████| 1/1 [00:00<00:00,  7.59it/s]"
     ]
    },
    {
     "name": "stdout",
     "output_type": "stream",
     "text": [
      "Uploading: bubble_tea_data_model_auditing\n"
     ]
    },
    {
     "name": "stderr",
     "output_type": "stream",
     "text": [
      "\n"
     ]
    },
    {
     "data": {
      "text/html": [
       "<div class=\"alert-success\" style=\"padding:5px;\"><strong>SyftSuccess</strong>: Dataset Added</div><br />"
      ],
      "text/plain": [
       "<class 'syft.service.response.SyftSuccess'>: Dataset Added"
      ]
     },
     "execution_count": 18,
     "metadata": {},
     "output_type": "execute_result"
    }
   ],
   "source": [
    "domain_client_low_side.upload_dataset(dataset)"
   ]
  },
  {
   "cell_type": "code",
   "execution_count": 19,
   "id": "115fe810-c516-465e-be3e-fd16318d91e7",
   "metadata": {
    "tags": []
   },
   "outputs": [
    {
     "data": {
      "text/html": [
       "List - Size: 1\n",
       "<div>\n",
       "<style scoped>\n",
       "    .dataframe tbody tr th:only-of-type {\n",
       "        vertical-align: middle;\n",
       "    }\n",
       "\n",
       "    .dataframe tbody tr th {\n",
       "        vertical-align: top;\n",
       "    }\n",
       "\n",
       "    .dataframe thead th {\n",
       "        text-align: right;\n",
       "    }\n",
       "</style>\n",
       "<table border=\"1\" class=\"dataframe\">\n",
       "  <thead>\n",
       "    <tr style=\"text-align: right;\">\n",
       "      <th></th>\n",
       "      <th>type</th>\n",
       "      <th>id</th>\n",
       "      <th>name</th>\n",
       "      <th>url</th>\n",
       "    </tr>\n",
       "  </thead>\n",
       "  <tbody>\n",
       "    <tr>\n",
       "      <th>0</th>\n",
       "      <td>syft.service.dataset.dataset.Dataset</td>\n",
       "      <td>71b33b86000b44e3960c3e3069bc6816</td>\n",
       "      <td>Algorithmic study - Bubble tea mock data</td>\n",
       "      <td>None</td>\n",
       "    </tr>\n",
       "  </tbody>\n",
       "</table>\n",
       "</div>"
      ],
      "text/plain": [
       "<syft.client.api.APIModule at 0x16a863d30>"
      ]
     },
     "execution_count": 19,
     "metadata": {},
     "output_type": "execute_result"
    }
   ],
   "source": [
    "domain_client_low_side.datasets"
   ]
  },
  {
   "cell_type": "markdown",
   "id": "0a54927c-c5dd-4bf5-a066-9e16dee554d8",
   "metadata": {},
   "source": [
    "### Create data scientist account"
   ]
  },
  {
   "cell_type": "code",
   "execution_count": 20,
   "id": "eee1482b-837f-45a6-a6d1-6b57efc17899",
   "metadata": {
    "tags": []
   },
   "outputs": [
    {
     "data": {
      "text/html": [
       "<div class=\"alert-success\" style=\"padding:5px;\"><strong>SyftSuccess</strong>: ana.banana@uni.org User successfully registered !!!</div><br />"
      ],
      "text/plain": [
       "<class 'syft.service.response.SyftSuccess'>: ana.banana@uni.org User successfully registered !!!"
      ]
     },
     "execution_count": 20,
     "metadata": {},
     "output_type": "execute_result"
    }
   ],
   "source": [
    "domain_client_low_side.register(name='Ana Banana', email='ana.banana@uni.org', password='student')"
   ]
  },
  {
   "cell_type": "code",
   "execution_count": null,
   "id": "15acf62b-2a44-48d5-b525-3a3828435fe2",
   "metadata": {
    "tags": []
   },
   "outputs": [],
   "source": [
    "!hagrid land domain_name --silent --force"
   ]
  },
  {
   "cell_type": "markdown",
   "id": "04c2481c-3e8f-40ec-9672-80c93b4c85b5",
   "metadata": {},
   "source": [
    "## Approve req"
   ]
  },
  {
   "cell_type": "code",
   "execution_count": 21,
   "id": "00cc48ee-c510-4b6d-b5e5-f135de676c14",
   "metadata": {},
   "outputs": [
    {
     "name": "stdout",
     "output_type": "stream",
     "text": [
      "Logged into Objective Pesenti as <info@openmined.org>\n"
     ]
    },
    {
     "data": {
      "text/plain": [
       "<SyftClient - Objective Pesenti <06a6118fef8f413d903aed4549ffabf7>: HTTPConnection: http://localhost:8081>"
      ]
     },
     "execution_count": 21,
     "metadata": {},
     "output_type": "execute_result"
    }
   ],
   "source": [
    "# log in again\n",
    "\n",
    "domain_client_low_side = sy.login(url = \"http://localhost:8081\", email=\"info@openmined.org\", password=\"changethis\")\n",
    "domain_client_low_side"
   ]
  },
  {
   "cell_type": "code",
   "execution_count": 22,
   "id": "41e26091-a59c-4ceb-8a3a-d569cfdd7a9c",
   "metadata": {
    "tags": []
   },
   "outputs": [],
   "source": [
    "messages = domain_client_low_side.notifications"
   ]
  },
  {
   "cell_type": "code",
   "execution_count": 23,
   "id": "63a2d774-9135-46a0-88a7-8e1a74ddf760",
   "metadata": {
    "tags": []
   },
   "outputs": [
    {
     "data": {
      "text/html": [
       "List - Size: 3\n",
       "<div>\n",
       "<style scoped>\n",
       "    .dataframe tbody tr th:only-of-type {\n",
       "        vertical-align: middle;\n",
       "    }\n",
       "\n",
       "    .dataframe tbody tr th {\n",
       "        vertical-align: top;\n",
       "    }\n",
       "\n",
       "    .dataframe thead th {\n",
       "        text-align: right;\n",
       "    }\n",
       "</style>\n",
       "<table border=\"1\" class=\"dataframe\">\n",
       "  <thead>\n",
       "    <tr style=\"text-align: right;\">\n",
       "      <th></th>\n",
       "      <th>type</th>\n",
       "      <th>id</th>\n",
       "      <th>subject</th>\n",
       "      <th>status</th>\n",
       "      <th>created_at</th>\n",
       "      <th>linked_obj</th>\n",
       "    </tr>\n",
       "  </thead>\n",
       "  <tbody>\n",
       "    <tr>\n",
       "      <th>0</th>\n",
       "      <td>syft.service.message.messages.Message</td>\n",
       "      <td>ee4cf44155554b289b1055bd24dedc81</td>\n",
       "      <td>Approval Request</td>\n",
       "      <td>MessageStatus.UNDELIVERED</td>\n",
       "      <td>2023-05-23 21:17:29</td>\n",
       "      <td>&lt;&lt;class 'syft.service.request.request.Request'...</td>\n",
       "    </tr>\n",
       "    <tr>\n",
       "      <th>1</th>\n",
       "      <td>syft.service.message.messages.Message</td>\n",
       "      <td>640a8b0e9da441879081aed94899a759</td>\n",
       "      <td>Approval Request</td>\n",
       "      <td>MessageStatus.UNDELIVERED</td>\n",
       "      <td>2023-05-23 21:17:29</td>\n",
       "      <td>&lt;&lt;class 'syft.service.request.request.Request'...</td>\n",
       "    </tr>\n",
       "    <tr>\n",
       "      <th>2</th>\n",
       "      <td>syft.service.message.messages.Message</td>\n",
       "      <td>23afb594d01044b189ec3e43fe811652</td>\n",
       "      <td>Project Approval</td>\n",
       "      <td>MessageStatus.UNDELIVERED</td>\n",
       "      <td>2023-05-23 21:17:29</td>\n",
       "      <td>&lt;&lt;class 'syft.service.project.project.Project'...</td>\n",
       "    </tr>\n",
       "  </tbody>\n",
       "</table>\n",
       "</div>"
      ],
      "text/plain": [
       "<syft.client.api.APIModule at 0x16ab6b100>"
      ]
     },
     "execution_count": 23,
     "metadata": {},
     "output_type": "execute_result"
    }
   ],
   "source": [
    "messages"
   ]
  },
  {
   "cell_type": "code",
   "execution_count": 24,
   "id": "f4f282a1-7e3a-46ca-b622-f5732a883f42",
   "metadata": {
    "tags": []
   },
   "outputs": [],
   "source": [
    "project_message = None\n",
    "for message in messages:\n",
    "    if issubclass(message.linked_obj.object_type, sy.service.project.project.Project):\n",
    "        project_message = message"
   ]
  },
  {
   "cell_type": "code",
   "execution_count": 25,
   "id": "af7ae362-e943-4239-a480-8be59901b094",
   "metadata": {
    "tags": []
   },
   "outputs": [
    {
     "data": {
      "text/markdown": [
       "```python\n",
       "class Message:\n",
       "  id: str = 23afb594d01044b189ec3e43fe811652\n",
       "  subject: str = \"Project Approval\"\n",
       "  node_uid: str = 06a6118fef8f413d903aed4549ffabf7\n",
       "  from_user_verify_key: str = e3b1f9a75efc90a3cebc6317ff54b5872684768a9c627ca560da9cc2f5cfecd4\n",
       "  to_user_verify_key: str = db02ac147ba833356852fdd0a1b5bfeb794cfd4400945dceb2cccff81ff2124c\n",
       "  created_at: str = 2023-05-23 21:17:29\n",
       "  status: str = MessageStatus.UNDELIVERED\n",
       "  linked_obj: str = <<class 'syft.service.project.project.Project'>: 2d2001f0774044dc84bd9c33baa3ed3f@<Node: 06a6118fef8f413d903aed4549ffabf7>\n",
       "\n",
       "```"
      ],
      "text/plain": [
       "syft.service.message.messages.Message"
      ]
     },
     "execution_count": 25,
     "metadata": {},
     "output_type": "execute_result"
    }
   ],
   "source": [
    "project_message"
   ]
  },
  {
   "cell_type": "code",
   "execution_count": 26,
   "id": "a395080f-d51f-4298-a6b2-828eacef33ab",
   "metadata": {
    "tags": []
   },
   "outputs": [],
   "source": [
    "request = project_message.link.requests[0]"
   ]
  },
  {
   "cell_type": "code",
   "execution_count": 27,
   "id": "6c7405b8-016f-4bd7-aa5a-a051a7a3d1af",
   "metadata": {
    "tags": []
   },
   "outputs": [
    {
     "data": {
      "text/markdown": [
       "```python\n",
       "class Request:\n",
       "  id: str = af64c86a9e1c4f8b91b32c378c77b0bb\n",
       "  requesting_user_verify_key: str = e3b1f9a75efc90a3cebc6317ff54b5872684768a9c627ca560da9cc2f5cfecd4\n",
       "  approving_user_verify_key: str = None\n",
       "  request_time: str = 2023-05-23 21:17:29\n",
       "  approval_time: str = None\n",
       "  status: str = RequestStatus.PENDING\n",
       "  node_uid: str = 06a6118fef8f413d903aed4549ffabf7\n",
       "  request_hash: str = \"6351eb1d6496b41f124cc722996c9696e502ce530b1237c69cea542f78753628\"\n",
       "  changes: str = [syft.service.request.request.UserCodeStatusChange, syft.service.request.request.UserCodeStatusChange]\n",
       "\n",
       "```"
      ],
      "text/plain": [
       "syft.service.request.request.Request"
      ]
     },
     "execution_count": 27,
     "metadata": {},
     "output_type": "execute_result"
    }
   ],
   "source": [
    "request"
   ]
  },
  {
   "cell_type": "code",
   "execution_count": 28,
   "id": "02ad35c7-0e0b-4495-8d30-48b3fc0c0c1c",
   "metadata": {
    "tags": []
   },
   "outputs": [
    {
     "data": {
      "text/markdown": [
       "```python\n",
       "class UserCode:\n",
       "  id: str = e35964f49a8846c0a830d67465d803ea\n",
       "  node_uid: str = 06a6118fef8f413d903aed4549ffabf7\n",
       "  user_verify_key: str = e3b1f9a75efc90a3cebc6317ff54b5872684768a9c627ca560da9cc2f5cfecd4\n",
       "  raw_code: str = \"@sy.syft_function(input_policy=sy.ExactMatch(bubble_tea_data=mock),\n",
       "                  output_policy=sy.SingleExecutionExactOutput())\n",
       "def average_impression_treatment_query_v1(bubble_tea_data):\n",
       "    # customize your query here\n",
       "    \n",
       "    df = bubble_tea_data\n",
       "    result = df[df['Bucket'] == 'Treatment']['Impression'].mean()\n",
       "    \n",
       "    return float(result)\n",
       "\"\n",
       "  input_policy_type: str = <class 'syft.service.policy.policy.ExactMatch'>\n",
       "  input_policy_init_kwargs: str = {NodeView(node_name='Objective Pesenti', verify_key=db02ac147ba833356852fdd0a1b5bfeb794cfd4400945dceb2cccff81ff2124c): {'bubble_tea_data': <UID: e31b14447dab4e58a0687931098d8a94>}}\n",
       "  input_policy_state: str = b''\n",
       "  output_policy_type: str = <class 'syft.service.policy.policy.OutputPolicyExecuteOnce'>\n",
       "  output_policy_init_kwargs: str = {}\n",
       "  output_policy_state: str = b''\n",
       "  parsed_code: str = \"def user_func_average_impression_treatment_query_v1_e3b1f9a75efc90a3cebc6317ff54b5872684768a9c627ca560da9cc2f5cfecd4_70f2109d25e4e9da0f06feb7856ec071d59c3f491dcaabe78d67f0d24b8b88d5(bubble_tea_data):\n",
       "\n",
       "    def average_impression_treatment_query_v1(bubble_tea_data):\n",
       "        df = bubble_tea_data\n",
       "        result = df[df['Bucket'] == 'Treatment']['Impression'].mean()\n",
       "        return float(result)\n",
       "    result = average_impression_treatment_query_v1(bubble_tea_data=bubble_tea_data)\n",
       "    return result\"\n",
       "  service_func_name: str = \"average_impression_treatment_query_v1\"\n",
       "  unique_func_name: str = \"user_func_average_impression_treatment_query_v1_e3b1f9a75efc90a3cebc6317ff54b5872684768a9c627ca560da9cc2f5cfecd4_70f2109d25e4e9da0f06feb7856ec071d59c3f491dcaabe78d67f0d24b8b88d5\"\n",
       "  user_unique_func_name: str = \"user_func_average_impression_treatment_query_v1_e3b1f9a75efc90a3cebc6317ff54b5872684768a9c627ca560da9cc2f5cfecd4\"\n",
       "  code_hash: str = \"70f2109d25e4e9da0f06feb7856ec071d59c3f491dcaabe78d67f0d24b8b88d5\"\n",
       "  signature: str = (bubble_tea_data)\n",
       "  status: str = {NodeView(node_name='Objective Pesenti', verify_key=db02ac147ba833356852fdd0a1b5bfeb794cfd4400945dceb2cccff81ff2124c): <UserCodeStatus.SUBMITTED: 'submitted'>}\n",
       "  input_kwargs: str = ['bubble_tea_data']\n",
       "  enclave_metadata: str = None\n",
       "\n",
       "```"
      ],
      "text/plain": [
       "syft.service.code.user_code.UserCode"
      ]
     },
     "execution_count": 28,
     "metadata": {},
     "output_type": "execute_result"
    }
   ],
   "source": [
    "func = request.changes[0].link\n",
    "func"
   ]
  },
  {
   "cell_type": "code",
   "execution_count": 29,
   "id": "c1d3ca3b-b159-4c5c-a4fb-bc9a7f3c8336",
   "metadata": {},
   "outputs": [
    {
     "data": {
      "text/html": [
       "<div class=\"alert-success\" style=\"padding:5px;\"><strong>SyftSuccess</strong>: Request af64c86a9e1c4f8b91b32c378c77b0bb changes applied</div><br />"
      ],
      "text/plain": [
       "<class 'syft.service.response.SyftSuccess'>: Request af64c86a9e1c4f8b91b32c378c77b0bb changes applied"
      ]
     },
     "execution_count": 29,
     "metadata": {},
     "output_type": "execute_result"
    }
   ],
   "source": [
    "real_result = 154.0\n",
    "result = request.accept_by_depositing_result(real_result)\n",
    "result"
   ]
  },
  {
   "cell_type": "code",
   "execution_count": null,
   "id": "cdbfb0e6-93b8-4ff4-b8f8-145a40e85f7c",
   "metadata": {},
   "outputs": [],
   "source": []
  }
 ],
 "metadata": {
  "kernelspec": {
   "display_name": "Python 3 (ipykernel)",
   "language": "python",
   "name": "python3"
  },
  "language_info": {
   "codemirror_mode": {
    "name": "ipython",
    "version": 3
   },
   "file_extension": ".py",
   "mimetype": "text/x-python",
   "name": "python",
   "nbconvert_exporter": "python",
   "pygments_lexer": "ipython3",
   "version": "3.10.10"
  }
 },
 "nbformat": 4,
 "nbformat_minor": 5
}
