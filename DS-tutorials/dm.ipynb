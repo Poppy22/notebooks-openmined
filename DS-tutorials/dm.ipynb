{
 "cells": [
  {
   "cell_type": "code",
   "execution_count": 1,
   "id": "a50a3c5d-110f-405f-bd37-efd5a7475929",
   "metadata": {
    "tags": []
   },
   "outputs": [
    {
     "name": "stderr",
     "output_type": "stream",
     "text": [
      "kj/filesystem-disk-unix.c++:1703: warning: PWD environment variable doesn't match current directory; pwd = /Users/carmenpopa/.hagrid/quickstart\n"
     ]
    }
   ],
   "source": [
    "import syft as sy\n",
    "\n",
    "import pandas as pd"
   ]
  },
  {
   "cell_type": "code",
   "execution_count": 2,
   "id": "b561344e-0835-4930-a96d-51f3502f1854",
   "metadata": {
    "tags": []
   },
   "outputs": [],
   "source": [
    "import hagrid\n",
    "from hagrid import wizard"
   ]
  },
  {
   "cell_type": "code",
   "execution_count": 3,
   "id": "19cc63a2-d3a7-4be2-98f2-b4b4033aca2f",
   "metadata": {
    "tags": []
   },
   "outputs": [
    {
     "data": {
      "text/html": [
       "✅ macOS<br />✅ Python 3.10.10<br />✅ syft==0.8.0.post2 (latest stable)<br />"
      ],
      "text/plain": [
       "<hagrid.nb_output.NBOutput at 0x107cf38e0>"
      ]
     },
     "execution_count": 3,
     "metadata": {},
     "output_type": "execute_result"
    }
   ],
   "source": [
    "wizard.check_syft"
   ]
  },
  {
   "cell_type": "markdown",
   "id": "6ea00920-68dd-472c-b385-5edbc8c9cdd8",
   "metadata": {
    "tags": []
   },
   "source": [
    "!pip install syft==0.8.0b8"
   ]
  },
  {
   "cell_type": "markdown",
   "id": "a66c4c4b-81e4-49ec-9ce6-5bdd1f11d484",
   "metadata": {},
   "source": [
    "### Create dataset"
   ]
  },
  {
   "cell_type": "code",
   "execution_count": 2,
   "id": "1b345b3c-7260-40c0-bc1b-4ce3ca6017a3",
   "metadata": {
    "tags": []
   },
   "outputs": [],
   "source": [
    "mock_data = {\n",
    "    \"PostId\" : [\"id1\", \"id2\", \"id3\", \"id4\", \"id5\", \"id6\"],\n",
    "    \"Link\": [\"bt/brown-sugar1\", \"bt/brown-sugar1\", \"bt/oolong1\", \"bt/oolong1\", \"bt/taro1\", \"bt/taro1\"],\n",
    "    \"Impression\": [120, 275, 181, 49, 122, 138],\n",
    "    \"Bucket\": [\"Control\", \"Treatment\", \"Control\", \"Treatment\", \"Control\", \"Treatment\"]\n",
    "}"
   ]
  },
  {
   "cell_type": "code",
   "execution_count": 3,
   "id": "02fba85e-c2be-4752-ac14-d9f1985ab891",
   "metadata": {
    "tags": []
   },
   "outputs": [],
   "source": [
    "mock_df = pd.DataFrame(mock_data)"
   ]
  },
  {
   "cell_type": "code",
   "execution_count": 4,
   "id": "04a1871f-1953-40ec-80f3-f24b81c8ff62",
   "metadata": {
    "tags": []
   },
   "outputs": [
    {
     "data": {
      "text/html": [
       "<div>\n",
       "<style scoped>\n",
       "    .dataframe tbody tr th:only-of-type {\n",
       "        vertical-align: middle;\n",
       "    }\n",
       "\n",
       "    .dataframe tbody tr th {\n",
       "        vertical-align: top;\n",
       "    }\n",
       "\n",
       "    .dataframe thead th {\n",
       "        text-align: right;\n",
       "    }\n",
       "</style>\n",
       "<table border=\"1\" class=\"dataframe\">\n",
       "  <thead>\n",
       "    <tr style=\"text-align: right;\">\n",
       "      <th></th>\n",
       "      <th>PostId</th>\n",
       "      <th>Link</th>\n",
       "      <th>Impression</th>\n",
       "      <th>Bucket</th>\n",
       "    </tr>\n",
       "  </thead>\n",
       "  <tbody>\n",
       "    <tr>\n",
       "      <th>0</th>\n",
       "      <td>id1</td>\n",
       "      <td>bt/brown-sugar1</td>\n",
       "      <td>120</td>\n",
       "      <td>Control</td>\n",
       "    </tr>\n",
       "    <tr>\n",
       "      <th>1</th>\n",
       "      <td>id2</td>\n",
       "      <td>bt/brown-sugar1</td>\n",
       "      <td>275</td>\n",
       "      <td>Treatment</td>\n",
       "    </tr>\n",
       "    <tr>\n",
       "      <th>2</th>\n",
       "      <td>id3</td>\n",
       "      <td>bt/oolong1</td>\n",
       "      <td>181</td>\n",
       "      <td>Control</td>\n",
       "    </tr>\n",
       "    <tr>\n",
       "      <th>3</th>\n",
       "      <td>id4</td>\n",
       "      <td>bt/oolong1</td>\n",
       "      <td>49</td>\n",
       "      <td>Treatment</td>\n",
       "    </tr>\n",
       "    <tr>\n",
       "      <th>4</th>\n",
       "      <td>id5</td>\n",
       "      <td>bt/taro1</td>\n",
       "      <td>122</td>\n",
       "      <td>Control</td>\n",
       "    </tr>\n",
       "  </tbody>\n",
       "</table>\n",
       "</div>"
      ],
      "text/plain": [
       "  PostId             Link  Impression     Bucket\n",
       "0    id1  bt/brown-sugar1         120    Control\n",
       "1    id2  bt/brown-sugar1         275  Treatment\n",
       "2    id3       bt/oolong1         181    Control\n",
       "3    id4       bt/oolong1          49  Treatment\n",
       "4    id5         bt/taro1         122    Control"
      ]
     },
     "execution_count": 4,
     "metadata": {},
     "output_type": "execute_result"
    }
   ],
   "source": [
    "mock_df.head()"
   ]
  },
  {
   "cell_type": "code",
   "execution_count": 5,
   "id": "b6011e19-fb2c-4583-89b5-2f5384324c11",
   "metadata": {
    "tags": []
   },
   "outputs": [
    {
     "data": {
      "text/plain": [
       "(6, 4)"
      ]
     },
     "execution_count": 5,
     "metadata": {},
     "output_type": "execute_result"
    }
   ],
   "source": [
    "mock_df.shape"
   ]
  },
  {
   "cell_type": "markdown",
   "id": "6ad87b74-0fa5-4508-9007-2bc5f3d6602b",
   "metadata": {},
   "source": [
    "### Create mock dataset"
   ]
  },
  {
   "cell_type": "code",
   "execution_count": 8,
   "id": "fbb061fc-1b00-4e20-9ec5-1872fa5b8795",
   "metadata": {
    "tags": []
   },
   "outputs": [],
   "source": [
    "dataset = sy.Dataset(name=\"Bubble tea mock data\")\n",
    "dataset.set_description(\"\"\"The fake data to show bubble tea trends for consumers\"\"\")"
   ]
  },
  {
   "cell_type": "code",
   "execution_count": 9,
   "id": "d5521153-1d69-4fbf-8406-5b7ef3eeb87b",
   "metadata": {
    "tags": []
   },
   "outputs": [],
   "source": [
    "dataset.add_citation(\"Carmen Popa\")"
   ]
  },
  {
   "cell_type": "code",
   "execution_count": 10,
   "id": "e1157642-7e91-47ae-ae01-4eb3306fc4fb",
   "metadata": {
    "tags": []
   },
   "outputs": [],
   "source": [
    "dataset.add_contributor(role=sy.roles.UPLOADER, \n",
    "                                name=\"Carmen Popa\", \n",
    "                                email=\"carmen@openmined.org\",\n",
    "                                note=\"Carmen runs this domain and prepared the dataset.\")\n",
    "\n",
    "dataset.add_contributor(role=sy.roles.EDITOR, \n",
    "                                name=\"Irina Bejan\", \n",
    "                                email=\"irina@openmined.org\",\n",
    "                                note=\"Adding Irina in case of changes.\")"
   ]
  },
  {
   "cell_type": "code",
   "execution_count": 11,
   "id": "de72738a-31ac-40c5-8fae-8a71df7fe16c",
   "metadata": {
    "tags": []
   },
   "outputs": [],
   "source": [
    "ctf = sy.Asset(name=\"mock_bubble_tea_data\")\n",
    "ctf.set_description(\"Mock data for bubble tea consumption\")"
   ]
  },
  {
   "cell_type": "code",
   "execution_count": 12,
   "id": "a8a010d7-8728-4e93-bfcc-dd79eeff11d6",
   "metadata": {
    "tags": []
   },
   "outputs": [],
   "source": [
    "ctf.set_obj(mock_df)\n",
    "ctf.set_shape(mock_df.shape)\n",
    "ctf.set_mock(mock_df, mock_is_real=False)"
   ]
  },
  {
   "cell_type": "code",
   "execution_count": 13,
   "id": "59dc5a3c-c9fb-41ef-8df8-2df0bb69cb45",
   "metadata": {
    "tags": []
   },
   "outputs": [
    {
     "data": {
      "text/markdown": [
       "```python\n",
       "class CreateAsset:\n",
       "  id: str = None\n",
       "  name: str = \"mock_bubble_tea_data\"\n",
       "  description: str = \"Mock data for bubble tea consumption\"\n",
       "  contributors: str = []\n",
       "  data_subjects: str = []\n",
       "  node_uid: str = None\n",
       "  action_id: str = None\n",
       "  data: str =           drink_name  sugar_level  has_pearls  customer_ratings\n",
       "0        brown_sugar          0.7        True               4.9\n",
       "1          thai_milk          0.3        True               4.6\n",
       "2      mango_coconut          0.9       False               3.5\n",
       "3  strawberry_cheese          0.5        True               4.3\n",
       "  mock: str =           drink_name  sugar_level  has_pearls  customer_ratings\n",
       "0        brown_sugar          0.7        True               4.9\n",
       "1          thai_milk          0.3        True               4.6\n",
       "2      mango_coconut          0.9       False               3.5\n",
       "3  strawberry_cheese          0.5        True               4.3\n",
       "  shape: str = (4, 4)\n",
       "  mock_is_real: str = False\n",
       "\n",
       "```"
      ],
      "text/plain": [
       "syft.service.dataset.dataset.CreateAsset"
      ]
     },
     "execution_count": 13,
     "metadata": {},
     "output_type": "execute_result"
    }
   ],
   "source": [
    "ctf"
   ]
  },
  {
   "cell_type": "code",
   "execution_count": 14,
   "id": "08192908-d5e5-4463-91cb-68db1caeb037",
   "metadata": {
    "tags": []
   },
   "outputs": [],
   "source": [
    "dataset.add_asset(ctf)"
   ]
  },
  {
   "cell_type": "code",
   "execution_count": 15,
   "id": "7d8960b2-3fb5-4623-92d4-b8dc22137ace",
   "metadata": {
    "tags": []
   },
   "outputs": [
    {
     "data": {
      "text/markdown": [
       "```python\n",
       "Syft Dataset: Bubble tea mock data\n",
       "Assets:\n",
       "\tmock_bubble_tea_data: Mock data for bubble tea consumption\n",
       "Citation: Carmen Popa\n",
       "Description: The fake data to show bubble tea trends for consumers\n",
       "\n",
       "```"
      ],
      "text/plain": [
       "syft.service.dataset.dataset.CreateDataset"
      ]
     },
     "execution_count": 15,
     "metadata": {},
     "output_type": "execute_result"
    }
   ],
   "source": [
    "dataset"
   ]
  },
  {
   "cell_type": "markdown",
   "id": "04465851-7f43-4db3-88f1-a2e56d1efb3e",
   "metadata": {},
   "source": [
    "### Launch domain"
   ]
  },
  {
   "cell_type": "code",
   "execution_count": 18,
   "id": "9e6ec321-48e8-4138-a101-6f9edb79c393",
   "metadata": {
    "tags": []
   },
   "outputs": [
    {
     "name": "stdout",
     "output_type": "stream",
     "text": [
      "\u001b[2K✅ Updated HAGrid from branch: \u001b[1;36m0.8\u001b[0mh: 0.8\u001b[0m0m\n",
      "\u001b[2K\u001b[32m⠦\u001b[0m \u001b[1;34mUpdating HAGrid from branch: 0.8\u001b[0m\n",
      "\u001b[2K\u001b[32m⠧\u001b[0m \u001b[1;34mChecking for Docker Service\u001b[0m   ice\u001b[0m   \n",
      "\u001b[1A\u001b[2K✅ Docker service is running\n",
      "✅ Git 2.39.2\n",
      "✅ Docker 20.10.22\n",
      "✅ Docker Compose 2.15.1\n",
      "\n",
      "Launching a PyGrid Domain node on port 8082!\n",
      "\n",
      "  - NAME: lowside\n",
      "  - RELEASE: production\n",
      "  - ARCH: linux/arm64\n",
      "  - TYPE: domain\n",
      "  - DOCKER_TAG: latest\n",
      "  - HAGRID_VERSION: 0.3.7\n",
      "  - PORT: 8082\n",
      "  - DOCKER COMPOSE: v2.15.1\n",
      "\n",
      "\n",
      "\u001b[1;32m⠋\u001b[0m\u001b[1;34m Launching Containers \u001b[0m\u001b[1;32m \u001b[0m\n",
      "\u001b[2K  ✅ \u001b[1;32mPulling [5 / 5]\u001b[0m \u001b[90m━━━━━━━━━━━━━━━━━━━━━━━━━━━━━━━━━━━━━━━━\u001b[0m \u001b[35m100.00%   \u001b[0m0m \u001b[35m80.00%   \u001b[0m\n",
      "\u001b[2K  ✅ \u001b[1;32mLaunching [5 / 5]\u001b[0m \u001b[90m━━━━━━━━━━━━━━━━━━━━━━━━━━━━━━━━━━━━━━━━\u001b[0m \u001b[35m100.00%   \u001b[0m[0m \u001b[35m80.00%   \u001b[0m\n",
      "\u001b[?25h\n",
      "\u001b[1;32m⠋\u001b[0m\u001b[1;34m Checking node API \u001b[0m\u001b[1;32m \u001b[0m   \n",
      "\u001b[2K✅ lowside Domain Containers Creatediner Creation\u001b[0m0m\n",
      "\u001b[2K✅ Backendm \u001b[1;91mStarting Backend\u001b[0meation\u001b[0m\n",
      "\u001b[2K✅ Startup Completeting Backend\u001b[0m\n",
      "\u001b[2K\u001b[32m⠸\u001b[0m \u001b[1;91mStarting Backend\u001b[0m\n",
      "\u001b[1A\u001b[2K┏━━━━━━━━━━━┳━━━━━━━━━━━━━━━━━━━━━━━━━━━━━━━━━━━━━━━━━━━┳━━━━━┓\n",
      "┃\u001b[1m \u001b[0m\u001b[1mPyGrid   \u001b[0m\u001b[1m \u001b[0m┃\u001b[1m \u001b[0m\u001b[1mInfo                                     \u001b[0m\u001b[1m \u001b[0m┃\u001b[1m \u001b[0m\u001b[1m600\u001b[0m\u001b[1m \u001b[0m┃\n",
      "┡━━━━━━━━━━━╇━━━━━━━━━━━━━━━━━━━━━━━━━━━━━━━━━━━━━━━━━━━╇━━━━━┩\n",
      "│\u001b[35m \u001b[0m\u001b[35mUI (βeta)\u001b[0m\u001b[35m \u001b[0m│ http://localhost:8082/login               │ ✅  │\n",
      "│\u001b[35m \u001b[0m\u001b[35mapi      \u001b[0m\u001b[35m \u001b[0m│ http://localhost:8082/api/v1/openapi.json │ ✅  │\n",
      "└───────────┴───────────────────────────────────────────┴─────┘\n",
      "╭───────────────────────────────────────────────────╮\n",
      "│ ✨ To view container logs run \u001b[1;32mhagrid logs lowside\u001b[0m │\n",
      "╰───────────────────────────────────────────────────╯\n"
     ]
    }
   ],
   "source": [
    "!hagrid launch lowSide domain to docker --tag=latest"
   ]
  },
  {
   "cell_type": "code",
   "execution_count": 20,
   "id": "820ae1b5-48f8-415c-94b4-bb35b198861e",
   "metadata": {
    "tags": []
   },
   "outputs": [
    {
     "name": "stdout",
     "output_type": "stream",
     "text": [
      "Logged into Trusting Silver as <info@openmined.org>\n"
     ]
    },
    {
     "data": {
      "text/plain": [
       "<SyftClient - Trusting Silver <d87e4efcc9e8494b826df57b8670a2b3>: HTTPConnection: http://localhost:8082>"
      ]
     },
     "execution_count": 20,
     "metadata": {},
     "output_type": "execute_result"
    }
   ],
   "source": [
    "domain_client_low_side = sy.login(url = \"http://localhost:8082\", email=\"info@openmined.org\", password=\"changethis\")\n",
    "domain_client_low_side"
   ]
  },
  {
   "cell_type": "code",
   "execution_count": 21,
   "id": "52dad9a6-ab4f-4a7c-89ca-1d2389b95c04",
   "metadata": {
    "tags": []
   },
   "outputs": [
    {
     "name": "stderr",
     "output_type": "stream",
     "text": [
      "  0%|          | 0/1 [00:00<?, ?it/s]"
     ]
    },
    {
     "name": "stdout",
     "output_type": "stream",
     "text": [
      "Uploading: mock_bubble_tea_data\n"
     ]
    },
    {
     "name": "stderr",
     "output_type": "stream",
     "text": [
      "100%|██████████| 1/1 [00:00<00:00,  3.96it/s]\n"
     ]
    },
    {
     "data": {
      "text/html": [
       "<div class=\"alert-danger\" style=\"padding:5px;\"><strong>SyftError</strong>: Duplicate Key Error for syft.service.dataset.dataset.Dataset: E11000 duplicate key error collection: app.Dataset index: Dataset_index_name dup key: { name: \"Bubble tea mock data\" }, full error: {'index': 0, 'code': 11000, 'errmsg': 'E11000 duplicate key error collection: app.Dataset index: Dataset_index_name dup key: { name: \"Bubble tea mock data\" }', 'keyPattern': {'name': 1}, 'keyValue': {'name': 'Bubble tea mock data'}}</div><br />"
      ],
      "text/plain": [
       "<class 'syft.service.response.SyftError'>: Duplicate Key Error for syft.service.dataset.dataset.Dataset: E11000 duplicate key error collection: app.Dataset index: Dataset_index_name dup key: { name: \"Bubble tea mock data\" }, full error: {'index': 0, 'code': 11000, 'errmsg': 'E11000 duplicate key error collection: app.Dataset index: Dataset_index_name dup key: { name: \"Bubble tea mock data\" }', 'keyPattern': {'name': 1}, 'keyValue': {'name': 'Bubble tea mock data'}}"
      ]
     },
     "execution_count": 21,
     "metadata": {},
     "output_type": "execute_result"
    }
   ],
   "source": [
    "domain_client_low_side.upload_dataset(dataset)"
   ]
  },
  {
   "cell_type": "code",
   "execution_count": 22,
   "id": "115fe810-c516-465e-be3e-fd16318d91e7",
   "metadata": {
    "tags": []
   },
   "outputs": [
    {
     "data": {
      "text/html": [
       "List - Size: 1\n",
       "<div>\n",
       "<style scoped>\n",
       "    .dataframe tbody tr th:only-of-type {\n",
       "        vertical-align: middle;\n",
       "    }\n",
       "\n",
       "    .dataframe tbody tr th {\n",
       "        vertical-align: top;\n",
       "    }\n",
       "\n",
       "    .dataframe thead th {\n",
       "        text-align: right;\n",
       "    }\n",
       "</style>\n",
       "<table border=\"1\" class=\"dataframe\">\n",
       "  <thead>\n",
       "    <tr style=\"text-align: right;\">\n",
       "      <th></th>\n",
       "      <th>type</th>\n",
       "      <th>id</th>\n",
       "      <th>name</th>\n",
       "      <th>url</th>\n",
       "    </tr>\n",
       "  </thead>\n",
       "  <tbody>\n",
       "    <tr>\n",
       "      <th>0</th>\n",
       "      <td>syft.service.dataset.dataset.Dataset</td>\n",
       "      <td>3d404c84206b40b4a93f8d1c8ad0dd3a</td>\n",
       "      <td>Bubble tea mock data</td>\n",
       "      <td>None</td>\n",
       "    </tr>\n",
       "  </tbody>\n",
       "</table>\n",
       "</div>"
      ],
      "text/plain": [
       "<syft.client.api.APIModule at 0x288b3ec50>"
      ]
     },
     "execution_count": 22,
     "metadata": {},
     "output_type": "execute_result"
    }
   ],
   "source": [
    "domain_client_low_side.datasets"
   ]
  },
  {
   "cell_type": "markdown",
   "id": "0a54927c-c5dd-4bf5-a066-9e16dee554d8",
   "metadata": {},
   "source": [
    "### Create data scientist account"
   ]
  },
  {
   "cell_type": "code",
   "execution_count": 23,
   "id": "eee1482b-837f-45a6-a6d1-6b57efc17899",
   "metadata": {
    "tags": []
   },
   "outputs": [
    {
     "data": {
      "text/html": [
       "<div class=\"alert-danger\" style=\"padding:5px;\"><strong>SyftError</strong>: User Registration failed: User already exists with email: ana.banana@uni.org</div><br />"
      ],
      "text/plain": [
       "<class 'syft.service.response.SyftError'>: User Registration failed: User already exists with email: ana.banana@uni.org"
      ]
     },
     "execution_count": 23,
     "metadata": {},
     "output_type": "execute_result"
    }
   ],
   "source": [
    "domain_client_low_side.register(name='Ana Banana', email='ana.banana@uni.org', password='student')"
   ]
  },
  {
   "cell_type": "code",
   "execution_count": null,
   "id": "15acf62b-2a44-48d5-b525-3a3828435fe2",
   "metadata": {
    "tags": []
   },
   "outputs": [],
   "source": [
    "!hagrid land domain_name --silent --force"
   ]
  },
  {
   "cell_type": "markdown",
   "id": "04c2481c-3e8f-40ec-9672-80c93b4c85b5",
   "metadata": {},
   "source": [
    "## Approve req"
   ]
  },
  {
   "cell_type": "code",
   "execution_count": 28,
   "id": "41e26091-a59c-4ceb-8a3a-d569cfdd7a9c",
   "metadata": {
    "tags": []
   },
   "outputs": [
    {
     "data": {
      "text/html": [
       "List - Size: 4\n",
       "<div>\n",
       "<style scoped>\n",
       "    .dataframe tbody tr th:only-of-type {\n",
       "        vertical-align: middle;\n",
       "    }\n",
       "\n",
       "    .dataframe tbody tr th {\n",
       "        vertical-align: top;\n",
       "    }\n",
       "\n",
       "    .dataframe thead th {\n",
       "        text-align: right;\n",
       "    }\n",
       "</style>\n",
       "<table border=\"1\" class=\"dataframe\">\n",
       "  <thead>\n",
       "    <tr style=\"text-align: right;\">\n",
       "      <th></th>\n",
       "      <th>type</th>\n",
       "      <th>id</th>\n",
       "      <th>subject</th>\n",
       "      <th>status</th>\n",
       "      <th>created_at</th>\n",
       "      <th>linked_obj</th>\n",
       "    </tr>\n",
       "  </thead>\n",
       "  <tbody>\n",
       "    <tr>\n",
       "      <th>0</th>\n",
       "      <td>syft.service.message.messages.Message</td>\n",
       "      <td>7fe4ae2beb434518bfd8676cfc746d14</td>\n",
       "      <td>Approval Request</td>\n",
       "      <td>MessageStatus.UNDELIVERED</td>\n",
       "      <td>2023-05-03 20:50:29</td>\n",
       "      <td>&lt;&lt;class 'syft.service.request.request.Request'...</td>\n",
       "    </tr>\n",
       "    <tr>\n",
       "      <th>1</th>\n",
       "      <td>syft.service.message.messages.Message</td>\n",
       "      <td>520935dafd8c40f1bb4b01649ee993ea</td>\n",
       "      <td>Project Approval</td>\n",
       "      <td>MessageStatus.UNDELIVERED</td>\n",
       "      <td>2023-05-03 20:50:50</td>\n",
       "      <td>&lt;&lt;class 'syft.service.project.project.Project'...</td>\n",
       "    </tr>\n",
       "    <tr>\n",
       "      <th>2</th>\n",
       "      <td>syft.service.message.messages.Message</td>\n",
       "      <td>3e799ba3ea29482ab98ca17114764e5b</td>\n",
       "      <td>Approval Request</td>\n",
       "      <td>MessageStatus.UNDELIVERED</td>\n",
       "      <td>2023-05-06 15:24:51</td>\n",
       "      <td>&lt;&lt;class 'syft.service.request.request.Request'...</td>\n",
       "    </tr>\n",
       "    <tr>\n",
       "      <th>3</th>\n",
       "      <td>syft.service.message.messages.Message</td>\n",
       "      <td>839d776e7a0542d482295def49976b31</td>\n",
       "      <td>Project Approval</td>\n",
       "      <td>MessageStatus.UNDELIVERED</td>\n",
       "      <td>2023-05-06 16:24:11</td>\n",
       "      <td>&lt;&lt;class 'syft.service.project.project.Project'...</td>\n",
       "    </tr>\n",
       "  </tbody>\n",
       "</table>\n",
       "</div>"
      ],
      "text/plain": [
       "<syft.client.api.APIModule at 0x288b3d420>"
      ]
     },
     "execution_count": 28,
     "metadata": {},
     "output_type": "execute_result"
    }
   ],
   "source": [
    "messages = domain_client_low_side.notifications\n",
    "messages"
   ]
  },
  {
   "cell_type": "code",
   "execution_count": 29,
   "id": "f4f282a1-7e3a-46ca-b622-f5732a883f42",
   "metadata": {
    "tags": []
   },
   "outputs": [],
   "source": [
    "project_message = None\n",
    "for message in messages:\n",
    "    if issubclass(message.linked_obj.object_type, sy.service.project.project.Project):\n",
    "        project_message = message"
   ]
  },
  {
   "cell_type": "code",
   "execution_count": 30,
   "id": "af7ae362-e943-4239-a480-8be59901b094",
   "metadata": {
    "tags": []
   },
   "outputs": [
    {
     "data": {
      "text/markdown": [
       "```python\n",
       "class Message:\n",
       "  id: str = 839d776e7a0542d482295def49976b31\n",
       "  subject: str = \"Project Approval\"\n",
       "  node_uid: str = d87e4efcc9e8494b826df57b8670a2b3\n",
       "  from_user_verify_key: str = 4ea8053fe7417899e19a84448a46ffceed451d06ed90eef0bc5b1f2aa9e10143\n",
       "  to_user_verify_key: str = 04137bfea77b4c86492df2b9849190bd4a19b7a2833b3c500dd37fef6957615c\n",
       "  created_at: str = 2023-05-06 16:24:11\n",
       "  status: str = MessageStatus.UNDELIVERED\n",
       "  linked_obj: str = <<class 'syft.service.project.project.Project'>: abd4e03734c444bd996f04fcbb2da75c@<Node: d87e4efcc9e8494b826df57b8670a2b3>\n",
       "\n",
       "```"
      ],
      "text/plain": [
       "syft.service.message.messages.Message"
      ]
     },
     "execution_count": 30,
     "metadata": {},
     "output_type": "execute_result"
    }
   ],
   "source": [
    "project_message"
   ]
  },
  {
   "cell_type": "code",
   "execution_count": 31,
   "id": "a395080f-d51f-4298-a6b2-828eacef33ab",
   "metadata": {
    "tags": []
   },
   "outputs": [],
   "source": [
    "request = project_message.link.requests[0]"
   ]
  },
  {
   "cell_type": "code",
   "execution_count": 33,
   "id": "6c7405b8-016f-4bd7-aa5a-a051a7a3d1af",
   "metadata": {
    "tags": []
   },
   "outputs": [
    {
     "data": {
      "text/markdown": [
       "```python\n",
       "class Request:\n",
       "  id: str = 3221f11e9140403191f7596f9629a334\n",
       "  requesting_user_verify_key: str = 4ea8053fe7417899e19a84448a46ffceed451d06ed90eef0bc5b1f2aa9e10143\n",
       "  approving_user_verify_key: str = None\n",
       "  request_time: str = 2023-05-06 16:24:11\n",
       "  approval_time: str = None\n",
       "  status: str = RequestStatus.PENDING\n",
       "  node_uid: str = d87e4efcc9e8494b826df57b8670a2b3\n",
       "  request_hash: str = \"8169eb2bc4288c4036c425ff60222346c0713ee9a4bc988520fb7e67c2d2083b\"\n",
       "  changes: str = [syft.service.request.request.UserCodeStatusChange, syft.service.request.request.UserCodeStatusChange]\n",
       "\n",
       "```"
      ],
      "text/plain": [
       "syft.service.request.request.Request"
      ]
     },
     "execution_count": 33,
     "metadata": {},
     "output_type": "execute_result"
    }
   ],
   "source": [
    "request"
   ]
  },
  {
   "cell_type": "code",
   "execution_count": 34,
   "id": "02ad35c7-0e0b-4495-8d30-48b3fc0c0c1c",
   "metadata": {
    "tags": []
   },
   "outputs": [
    {
     "data": {
      "text/markdown": [
       "```python\n",
       "class UserCode:\n",
       "  id: str = 3b72f052e2a440179cecab37e723af6b\n",
       "  node_uid: str = d87e4efcc9e8494b826df57b8670a2b3\n",
       "  user_verify_key: str = 4ea8053fe7417899e19a84448a46ffceed451d06ed90eef0bc5b1f2aa9e10143\n",
       "  raw_code: str = \"@sy.syft_function(input_policy=sy.ExactMatch(drink_data=mock),\n",
       "                  output_policy=sy.SingleExecutionExactOutput())\n",
       "def most_liked_bubble_tea(drink_data):\n",
       "    import pandas as pd\n",
       "    from opendp.mod import enable_features\n",
       "    enable_features('contrib')\n",
       "    from opendp.measurements import make_base_laplace\n",
       "    aggregate = 0.\n",
       "    base_lap = make_base_laplace(scale=5.)\n",
       "    noise = base_lap(aggregate)\n",
       "\n",
       "    # your code:\n",
       "    df = drink_data\n",
       "    most_liked_drink_row = df.iloc[mock_df['customer_ratings'].argmax()]\n",
       "    return (# str(most_liked_drink_row[\"drink_name\"]),\n",
       "            float(most_liked_drink_row[\"customer_ratings\"]),\n",
       "            float(noise)\n",
       "           )\n",
       "\"\n",
       "  input_policy_type: str = <class 'syft.service.policy.policy.ExactMatch'>\n",
       "  input_policy_init_kwargs: str = {NodeView(node_name='Modest Karp', verify_key=04137bfea77b4c86492df2b9849190bd4a19b7a2833b3c500dd37fef6957615c): {'drink_data': <UID: 4d6b7de22de8464ea7d53ec6a1ee5788>}}\n",
       "  input_policy_state: str = b''\n",
       "  output_policy_type: str = <class 'syft.service.policy.policy.OutputPolicyExecuteOnce'>\n",
       "  output_policy_init_kwargs: str = {}\n",
       "  output_policy_state: str = b''\n",
       "  parsed_code: str = \"def user_func_most_liked_bubble_tea_4ea8053fe7417899e19a84448a46ffceed451d06ed90eef0bc5b1f2aa9e10143_b4bd04f2a5bd30a85536f05f53741ceb9121c015867cf1fc684d3217df0b60d4(drink_data):\n",
       "\n",
       "    def most_liked_bubble_tea(drink_data):\n",
       "        import pandas as pd\n",
       "        from opendp.mod import enable_features\n",
       "        enable_features('contrib')\n",
       "        from opendp.measurements import make_base_laplace\n",
       "        aggregate = 0.0\n",
       "        base_lap = make_base_laplace(scale=5.0)\n",
       "        noise = base_lap(aggregate)\n",
       "        df = drink_data\n",
       "        most_liked_drink_row = df.iloc[mock_df['customer_ratings'].argmax()]\n",
       "        return (float(most_liked_drink_row['customer_ratings']), float(noise))\n",
       "    result = most_liked_bubble_tea(drink_data=drink_data)\n",
       "    return result\"\n",
       "  service_func_name: str = \"most_liked_bubble_tea\"\n",
       "  unique_func_name: str = \"user_func_most_liked_bubble_tea_4ea8053fe7417899e19a84448a46ffceed451d06ed90eef0bc5b1f2aa9e10143_b4bd04f2a5bd30a85536f05f53741ceb9121c015867cf1fc684d3217df0b60d4\"\n",
       "  user_unique_func_name: str = \"user_func_most_liked_bubble_tea_4ea8053fe7417899e19a84448a46ffceed451d06ed90eef0bc5b1f2aa9e10143\"\n",
       "  code_hash: str = \"b4bd04f2a5bd30a85536f05f53741ceb9121c015867cf1fc684d3217df0b60d4\"\n",
       "  signature: str = (drink_data)\n",
       "  status: str = {NodeView(node_name='Modest Karp', verify_key=04137bfea77b4c86492df2b9849190bd4a19b7a2833b3c500dd37fef6957615c): <UserCodeStatus.SUBMITTED: 'submitted'>}\n",
       "  input_kwargs: str = ['drink_data']\n",
       "  enclave_metadata: str = None\n",
       "\n",
       "```"
      ],
      "text/plain": [
       "syft.service.code.user_code.UserCode"
      ]
     },
     "execution_count": 34,
     "metadata": {},
     "output_type": "execute_result"
    }
   ],
   "source": [
    "func = request.changes[0].link\n",
    "func"
   ]
  },
  {
   "cell_type": "code",
   "execution_count": 32,
   "id": "c1d3ca3b-b159-4c5c-a4fb-bc9a7f3c8336",
   "metadata": {},
   "outputs": [
    {
     "ename": "AttributeError",
     "evalue": "'NoneType' object has no attribute 'apply_output'",
     "output_type": "error",
     "traceback": [
      "\u001b[0;31m---------------------------------------------------------------------------\u001b[0m",
      "\u001b[0;31mAttributeError\u001b[0m                            Traceback (most recent call last)",
      "Cell \u001b[0;32mIn[32], line 2\u001b[0m\n\u001b[1;32m      1\u001b[0m real_result \u001b[38;5;241m=\u001b[39m (\u001b[38;5;241m0.6\u001b[39m, \u001b[38;5;241m2.02\u001b[39m)\n\u001b[0;32m----> 2\u001b[0m result \u001b[38;5;241m=\u001b[39m \u001b[43mrequest\u001b[49m\u001b[38;5;241;43m.\u001b[39;49m\u001b[43maccept_by_depositing_result\u001b[49m\u001b[43m(\u001b[49m\u001b[43mreal_result\u001b[49m\u001b[43m)\u001b[49m\n\u001b[1;32m      3\u001b[0m result\n",
      "File \u001b[0;32m~/.hagrid/quickstart/.venv/lib/python3.10/site-packages/syft/service/request/request.py:188\u001b[0m, in \u001b[0;36mRequest.accept_by_depositing_result\u001b[0;34m(self, result)\u001b[0m\n\u001b[1;32m    185\u001b[0m state \u001b[38;5;241m=\u001b[39m code\u001b[38;5;241m.\u001b[39moutput_policy\n\u001b[1;32m    186\u001b[0m ctx \u001b[38;5;241m=\u001b[39m AuthedServiceContext(credentials\u001b[38;5;241m=\u001b[39mapi\u001b[38;5;241m.\u001b[39msigning_key\u001b[38;5;241m.\u001b[39mverify_key)\n\u001b[0;32m--> 188\u001b[0m \u001b[43mstate\u001b[49m\u001b[38;5;241;43m.\u001b[39;49m\u001b[43mapply_output\u001b[49m(context\u001b[38;5;241m=\u001b[39mctx, outputs\u001b[38;5;241m=\u001b[39maction_object)\n\u001b[1;32m    189\u001b[0m policy_state_mutation \u001b[38;5;241m=\u001b[39m ObjectMutation(\n\u001b[1;32m    190\u001b[0m     linked_obj\u001b[38;5;241m=\u001b[39mchange\u001b[38;5;241m.\u001b[39mlinked_obj,\n\u001b[1;32m    191\u001b[0m     attr_name\u001b[38;5;241m=\u001b[39m\u001b[38;5;124m\"\u001b[39m\u001b[38;5;124moutput_policy\u001b[39m\u001b[38;5;124m\"\u001b[39m,\n\u001b[1;32m    192\u001b[0m     match_type\u001b[38;5;241m=\u001b[39m\u001b[38;5;28;01mTrue\u001b[39;00m,\n\u001b[1;32m    193\u001b[0m     value\u001b[38;5;241m=\u001b[39mstate,\n\u001b[1;32m    194\u001b[0m )\n\u001b[1;32m    196\u001b[0m action_object_link \u001b[38;5;241m=\u001b[39m LinkedObject\u001b[38;5;241m.\u001b[39mfrom_obj(\n\u001b[1;32m    197\u001b[0m     action_object, node_uid\u001b[38;5;241m=\u001b[39m\u001b[38;5;28mself\u001b[39m\u001b[38;5;241m.\u001b[39mnode_uid\n\u001b[1;32m    198\u001b[0m )\n",
      "\u001b[0;31mAttributeError\u001b[0m: 'NoneType' object has no attribute 'apply_output'"
     ]
    }
   ],
   "source": [
    "real_result = (0.6, 2.02)\n",
    "result = request.accept_by_depositing_result(real_result)\n",
    "result"
   ]
  },
  {
   "cell_type": "code",
   "execution_count": null,
   "id": "cdbfb0e6-93b8-4ff4-b8f8-145a40e85f7c",
   "metadata": {},
   "outputs": [],
   "source": []
  }
 ],
 "metadata": {
  "kernelspec": {
   "display_name": "Python 3 (ipykernel)",
   "language": "python",
   "name": "python3"
  },
  "language_info": {
   "codemirror_mode": {
    "name": "ipython",
    "version": 3
   },
   "file_extension": ".py",
   "mimetype": "text/x-python",
   "name": "python",
   "nbconvert_exporter": "python",
   "pygments_lexer": "ipython3",
   "version": "3.10.10"
  }
 },
 "nbformat": 4,
 "nbformat_minor": 5
}
