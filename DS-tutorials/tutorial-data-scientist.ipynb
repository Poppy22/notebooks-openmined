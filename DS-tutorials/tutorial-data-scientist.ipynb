{
 "cells": [
  {
   "cell_type": "markdown",
   "id": "8d2fdd84-96be-4c5e-87ab-4276f0bdd17a",
   "metadata": {},
   "source": [
    "## Introduction"
   ]
  },
  {
   "cell_type": "markdown",
   "id": "0206f6e0-91e1-44c3-ae65-0acb3058dcd7",
   "metadata": {},
   "source": [
    "Welcome 👋!\n",
    "\n",
    "First of all, thank you for helping the world become more privacy-friendly by using PySyft. This notebook will guide you into how to make use of all the capabilities PySyft has to offer in the latest version 0.8.\n",
    "\n",
    "This tutorial will cover three parts:\\\n",
    "(1) 👉 Understanding the workflow\\\n",
    "(2) 👉 How to send your first code request\\\n",
    "(3) 👉 What queries are supported in syft 0.8"
   ]
  },
  {
   "cell_type": "markdown",
   "id": "2e7086bb-61e0-4017-96a5-e25eb951c90d",
   "metadata": {},
   "source": [
    "## Part 1 - Understanding the workflow"
   ]
  },
  {
   "cell_type": "markdown",
   "id": "2a72b379-f686-4096-9487-2b6e8102bdf4",
   "metadata": {},
   "source": [
    "#### Context\n",
    "Let's imagine you want to do research into X because Y. You found a dataset which contains the information you would need to answer your questions. The dataset is owned by a company and mentained by Amie, one of their employees. For this scenario, Amie has the role of **data manager**."
   ]
  },
  {
   "cell_type": "markdown",
   "id": "880ce136-38b7-49d5-9208-0f4d3b2cec61",
   "metadata": {
    "tags": []
   },
   "source": [
    "#### The role of data managers\n",
    "Data managers are PySyft users who are responsible for datasets. They can upload, edit and remove datasets. Most importantly, a data manager is the person who is approving project requests and code submissions."
   ]
  },
  {
   "cell_type": "markdown",
   "id": "a4b5522e-144b-4389-9bff-5ef059c00e07",
   "metadata": {},
   "source": [
    "#### Project request\n",
    "Once you find Amie's dataset listed on {Platform name?}, you can submit a project request where you request access to the data. In your project request, you should include the reasons why you need access to the data, and any other trustworthy information that prove you have good intentions, such as university affiliation (this will increase your chances of getting your project request approved).\n",
    "\n",
    "We'll see how to submit a project request in part (2) of the tutorial."
   ]
  },
  {
   "cell_type": "markdown",
   "id": "8b514164-a6bf-4d11-b48b-b709dc5a7669",
   "metadata": {},
   "source": [
    "#### Code request\n",
    "After your project request is approved, you will be able to submit code queries, which will allow you to learn from the data. We'll see how to do this in part (2) of this tutorial."
   ]
  },
  {
   "cell_type": "markdown",
   "id": "edf20ba6-cdef-4cd5-81e2-21e66897fbcd",
   "metadata": {},
   "source": [
    "#### However...\n",
    "\n",
    "You won't directly have access to the data stored in the dataset. This is convenient for data managers, as they retain ownership of the data and prevent it from getting copied elsewhere. However, you will still be able to learn relevant statistical information from the dataset, even without having access to the data per se. This is good for data scientists like you, as you can still make use of the knowledge contained in the dataset and be able to advance your research. Win-win!"
   ]
  },
  {
   "cell_type": "markdown",
   "id": "892610b3-897e-4ccf-9c3f-22ff8ce0b362",
   "metadata": {},
   "source": [
    "#### Real data and mock data\n",
    "\n",
    "How it works is that there will be two datasets:\n",
    "- the real dataset, containing the true unaltered information\n",
    "- a mock dataset, containing fake data generated to be of the same type and shape to the real one\n",
    "\n",
    "The real dataset will be kept private in what is called *the high side domain*. Only the data manager or other company employess will have direct access to it, and not data scientist.\n",
    "\n",
    "The mock dataset will be stored into the *low side domain* and you will have direct access to it via code request."
   ]
  },
  {
   "cell_type": "markdown",
   "id": "b32cf997-ec52-4689-a34c-3f07cc652aa0",
   "metadata": {},
   "source": [
    "#### Workflow altogether\n",
    "\n",
    "Let's assume Amie approved your project request to study the dataset, and now you can start learning from it via code requests.\n",
    "\n",
    "You would first prepare your query:\n",
    "TODO explain the diagram"
   ]
  },
  {
   "cell_type": "markdown",
   "id": "e3409955-27d8-499e-a50b-668c8fa4d6d6",
   "metadata": {},
   "source": [
    "![Screenshot 2023-04-26 at 22.23.04.png](level-0.png)"
   ]
  },
  {
   "cell_type": "code",
   "execution_count": null,
   "id": "8a6e3c27-0026-45b6-8150-2b3e2d919399",
   "metadata": {},
   "outputs": [],
   "source": []
  }
 ],
 "metadata": {
  "kernelspec": {
   "display_name": "Python 3 (ipykernel)",
   "language": "python",
   "name": "python3"
  },
  "language_info": {
   "codemirror_mode": {
    "name": "ipython",
    "version": 3
   },
   "file_extension": ".py",
   "mimetype": "text/x-python",
   "name": "python",
   "nbconvert_exporter": "python",
   "pygments_lexer": "ipython3",
   "version": "3.10.10"
  }
 },
 "nbformat": 4,
 "nbformat_minor": 5
}
