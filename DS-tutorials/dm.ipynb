{
 "cells": [
  {
   "cell_type": "code",
   "execution_count": 1,
   "id": "a50a3c5d-110f-405f-bd37-efd5a7475929",
   "metadata": {
    "tags": []
   },
   "outputs": [
    {
     "name": "stderr",
     "output_type": "stream",
     "text": [
      "kj/filesystem-disk-unix.c++:1703: warning: PWD environment variable doesn't match current directory; pwd = /Users/carmenpopa/.hagrid/quickstart\n"
     ]
    }
   ],
   "source": [
    "import syft as sy\n",
    "\n",
    "import pandas as pd"
   ]
  },
  {
   "cell_type": "code",
   "execution_count": 2,
   "id": "b561344e-0835-4930-a96d-51f3502f1854",
   "metadata": {
    "tags": []
   },
   "outputs": [],
   "source": [
    "import hagrid\n",
    "from hagrid import wizard"
   ]
  },
  {
   "cell_type": "code",
   "execution_count": 3,
   "id": "19cc63a2-d3a7-4be2-98f2-b4b4033aca2f",
   "metadata": {
    "tags": []
   },
   "outputs": [
    {
     "data": {
      "text/html": [
       "✅ macOS<br />✅ Python 3.10.10<br />✅ syft==0.8.0b9 (latest pre-release)<br />"
      ],
      "text/plain": [
       "<hagrid.nb_output.NBOutput at 0x1063f3610>"
      ]
     },
     "execution_count": 3,
     "metadata": {},
     "output_type": "execute_result"
    }
   ],
   "source": [
    "wizard.check_syft"
   ]
  },
  {
   "cell_type": "markdown",
   "id": "6ea00920-68dd-472c-b385-5edbc8c9cdd8",
   "metadata": {
    "tags": []
   },
   "source": [
    "!pip install syft==0.8.0b8"
   ]
  },
  {
   "cell_type": "markdown",
   "id": "a66c4c4b-81e4-49ec-9ce6-5bdd1f11d484",
   "metadata": {},
   "source": [
    "### Create dataset"
   ]
  },
  {
   "cell_type": "code",
   "execution_count": 4,
   "id": "1b345b3c-7260-40c0-bc1b-4ce3ca6017a3",
   "metadata": {
    "tags": []
   },
   "outputs": [],
   "source": [
    "mock_data = {\n",
    "    \"drink_name\" : [\"brown_sugar\", \"thai_milk\", \"mango_coconut\", \"strawberry_cheese\"],\n",
    "    \"sugar_level\": [0.7, 0.3, 0.9, 0.5],\n",
    "    \"has_pearls\": [True, True, False, True],\n",
    "    \"customer_ratings\": [4.9, 4.6, 3.5, 4.3]\n",
    "}"
   ]
  },
  {
   "cell_type": "code",
   "execution_count": 5,
   "id": "02fba85e-c2be-4752-ac14-d9f1985ab891",
   "metadata": {
    "tags": []
   },
   "outputs": [],
   "source": [
    "mock_df = pd.DataFrame(mock_data)"
   ]
  },
  {
   "cell_type": "code",
   "execution_count": 6,
   "id": "04a1871f-1953-40ec-80f3-f24b81c8ff62",
   "metadata": {
    "tags": []
   },
   "outputs": [
    {
     "data": {
      "text/html": [
       "<div>\n",
       "<style scoped>\n",
       "    .dataframe tbody tr th:only-of-type {\n",
       "        vertical-align: middle;\n",
       "    }\n",
       "\n",
       "    .dataframe tbody tr th {\n",
       "        vertical-align: top;\n",
       "    }\n",
       "\n",
       "    .dataframe thead th {\n",
       "        text-align: right;\n",
       "    }\n",
       "</style>\n",
       "<table border=\"1\" class=\"dataframe\">\n",
       "  <thead>\n",
       "    <tr style=\"text-align: right;\">\n",
       "      <th></th>\n",
       "      <th>drink_name</th>\n",
       "      <th>sugar_level</th>\n",
       "      <th>has_pearls</th>\n",
       "      <th>customer_ratings</th>\n",
       "    </tr>\n",
       "  </thead>\n",
       "  <tbody>\n",
       "    <tr>\n",
       "      <th>0</th>\n",
       "      <td>brown_sugar</td>\n",
       "      <td>0.7</td>\n",
       "      <td>True</td>\n",
       "      <td>4.9</td>\n",
       "    </tr>\n",
       "    <tr>\n",
       "      <th>1</th>\n",
       "      <td>thai_milk</td>\n",
       "      <td>0.3</td>\n",
       "      <td>True</td>\n",
       "      <td>4.6</td>\n",
       "    </tr>\n",
       "    <tr>\n",
       "      <th>2</th>\n",
       "      <td>mango_coconut</td>\n",
       "      <td>0.9</td>\n",
       "      <td>False</td>\n",
       "      <td>3.5</td>\n",
       "    </tr>\n",
       "    <tr>\n",
       "      <th>3</th>\n",
       "      <td>strawberry_cheese</td>\n",
       "      <td>0.5</td>\n",
       "      <td>True</td>\n",
       "      <td>4.3</td>\n",
       "    </tr>\n",
       "  </tbody>\n",
       "</table>\n",
       "</div>"
      ],
      "text/plain": [
       "          drink_name  sugar_level  has_pearls  customer_ratings\n",
       "0        brown_sugar          0.7        True               4.9\n",
       "1          thai_milk          0.3        True               4.6\n",
       "2      mango_coconut          0.9       False               3.5\n",
       "3  strawberry_cheese          0.5        True               4.3"
      ]
     },
     "execution_count": 6,
     "metadata": {},
     "output_type": "execute_result"
    }
   ],
   "source": [
    "mock_df.head()"
   ]
  },
  {
   "cell_type": "code",
   "execution_count": 7,
   "id": "b6011e19-fb2c-4583-89b5-2f5384324c11",
   "metadata": {
    "tags": []
   },
   "outputs": [
    {
     "data": {
      "text/plain": [
       "(4, 4)"
      ]
     },
     "execution_count": 7,
     "metadata": {},
     "output_type": "execute_result"
    }
   ],
   "source": [
    "mock_df.shape"
   ]
  },
  {
   "cell_type": "markdown",
   "id": "6ad87b74-0fa5-4508-9007-2bc5f3d6602b",
   "metadata": {},
   "source": [
    "### Create mock dataset"
   ]
  },
  {
   "cell_type": "code",
   "execution_count": 8,
   "id": "fbb061fc-1b00-4e20-9ec5-1872fa5b8795",
   "metadata": {
    "tags": []
   },
   "outputs": [],
   "source": [
    "dataset = sy.Dataset(name=\"Bubble tea mock data\")\n",
    "dataset.set_description(\"\"\"The fake data to show bubble tea trends for consumers\"\"\")"
   ]
  },
  {
   "cell_type": "code",
   "execution_count": 9,
   "id": "d5521153-1d69-4fbf-8406-5b7ef3eeb87b",
   "metadata": {
    "tags": []
   },
   "outputs": [],
   "source": [
    "dataset.add_citation(\"Carmen Popa\")"
   ]
  },
  {
   "cell_type": "code",
   "execution_count": 10,
   "id": "e1157642-7e91-47ae-ae01-4eb3306fc4fb",
   "metadata": {
    "tags": []
   },
   "outputs": [],
   "source": [
    "dataset.add_contributor(role=sy.roles.UPLOADER, \n",
    "                                name=\"Carmen Popa\", \n",
    "                                email=\"carmen@openmined.org\",\n",
    "                                note=\"Carmen runs this domain and prepared the dataset.\")\n",
    "\n",
    "dataset.add_contributor(role=sy.roles.EDITOR, \n",
    "                                name=\"Irina Bejan\", \n",
    "                                email=\"irina@openmined.org\",\n",
    "                                note=\"Adding Irina in case of changes.\")"
   ]
  },
  {
   "cell_type": "code",
   "execution_count": 11,
   "id": "de72738a-31ac-40c5-8fae-8a71df7fe16c",
   "metadata": {
    "tags": []
   },
   "outputs": [],
   "source": [
    "ctf = sy.Asset(name=\"mock_bubble_tea_data\")\n",
    "ctf.set_description(\"Mock data for bubble tea consumption\")"
   ]
  },
  {
   "cell_type": "code",
   "execution_count": 12,
   "id": "a8a010d7-8728-4e93-bfcc-dd79eeff11d6",
   "metadata": {
    "tags": []
   },
   "outputs": [],
   "source": [
    "ctf.set_obj(mock_df)\n",
    "ctf.set_shape(mock_df.shape)\n",
    "ctf.set_mock(mock_df, mock_is_real=False)"
   ]
  },
  {
   "cell_type": "code",
   "execution_count": 13,
   "id": "59dc5a3c-c9fb-41ef-8df8-2df0bb69cb45",
   "metadata": {
    "tags": []
   },
   "outputs": [
    {
     "data": {
      "text/markdown": [
       "```python\n",
       "class CreateAsset:\n",
       "  id: str = None\n",
       "  name: str = \"mock_bubble_tea_data\"\n",
       "  description: str = \"Mock data for bubble tea consumption\"\n",
       "  contributors: str = []\n",
       "  data_subjects: str = []\n",
       "  node_uid: str = None\n",
       "  action_id: str = None\n",
       "  data: str =           drink_name  sugar_level  has_pearls  customer_ratings\n",
       "0        brown_sugar          0.7        True               4.9\n",
       "1          thai_milk          0.3        True               4.6\n",
       "2      mango_coconut          0.9       False               3.5\n",
       "3  strawberry_cheese          0.5        True               4.3\n",
       "  mock: str =           drink_name  sugar_level  has_pearls  customer_ratings\n",
       "0        brown_sugar          0.7        True               4.9\n",
       "1          thai_milk          0.3        True               4.6\n",
       "2      mango_coconut          0.9       False               3.5\n",
       "3  strawberry_cheese          0.5        True               4.3\n",
       "  shape: str = (4, 4)\n",
       "  mock_is_real: str = False\n",
       "\n",
       "```"
      ],
      "text/plain": [
       "syft.service.dataset.dataset.CreateAsset"
      ]
     },
     "execution_count": 13,
     "metadata": {},
     "output_type": "execute_result"
    }
   ],
   "source": [
    "ctf"
   ]
  },
  {
   "cell_type": "code",
   "execution_count": 14,
   "id": "08192908-d5e5-4463-91cb-68db1caeb037",
   "metadata": {
    "tags": []
   },
   "outputs": [],
   "source": [
    "dataset.add_asset(ctf)"
   ]
  },
  {
   "cell_type": "code",
   "execution_count": 15,
   "id": "7d8960b2-3fb5-4623-92d4-b8dc22137ace",
   "metadata": {
    "tags": []
   },
   "outputs": [
    {
     "data": {
      "text/markdown": [
       "```python\n",
       "Syft Dataset: Bubble tea mock data\n",
       "Assets:\n",
       "\tmock_bubble_tea_data: Mock data for bubble tea consumption\n",
       "Citation: Carmen Popa\n",
       "Description: The fake data to show bubble tea trends for consumers\n",
       "\n",
       "```"
      ],
      "text/plain": [
       "syft.service.dataset.dataset.CreateDataset"
      ]
     },
     "execution_count": 15,
     "metadata": {},
     "output_type": "execute_result"
    }
   ],
   "source": [
    "dataset"
   ]
  },
  {
   "cell_type": "markdown",
   "id": "04465851-7f43-4db3-88f1-a2e56d1efb3e",
   "metadata": {},
   "source": [
    "### Launch domain"
   ]
  },
  {
   "cell_type": "code",
   "execution_count": 16,
   "id": "9e6ec321-48e8-4138-a101-6f9edb79c393",
   "metadata": {
    "tags": []
   },
   "outputs": [
    {
     "name": "stdout",
     "output_type": "stream",
     "text": [
      "\u001b[2K✅ Updated HAGrid from branch: dev from branch: dev\u001b[0m0m\n",
      "\u001b[2K\u001b[32m⠦\u001b[0m \u001b[1;34mUpdating HAGrid from branch: dev\u001b[0m\n",
      "\u001b[2K\u001b[32m⠦\u001b[0m \u001b[1;34mChecking for Docker Service\u001b[0m   ice\u001b[0m   \n",
      "\u001b[1A\u001b[2K✅ Docker service is running\n",
      "✅ Git 2.39.2\n",
      "✅ Docker 20.10.22\n",
      "✅ Docker Compose 2.15.1\n",
      "\n",
      "\n",
      " _   _       _     _                 _   _                       _\n",
      "| | | |     | |   | |               | | | |                     | |\n",
      "| |_| | ___ | | __| |   ___  _ __   | |_| | __ _ _ __ _ __ _   _| |\n",
      "|  _  |/ _ \\| |/ _` |  / _ \\| '_ \\  |  _  |/ _` | '__| '__| | | | |\n",
      "| | | | (_) | | (_| | | (_) | | | | | | | | (_| | |  | |  | |_| |_|\n",
      "\\_| |_/\\___/|_|\\__,_|  \\___/|_| |_| \\_| |_/\\__,_|_|  |_|   \\__, (_)\n",
      "                                                            __/ |\n",
      "                                                           |___/\n",
      "        \n",
      "Launching a PyGrid Domain node on port 8081!\n",
      "\n",
      "  - NAME: pedantic_bostrom\n",
      "  - RELEASE: production\n",
      "  - ARCH: linux/arm64\n",
      "  - TYPE: domain\n",
      "  - DOCKER_TAG: 0.8.0-beta.9\n",
      "  - HAGRID_VERSION: 0.3.2\n",
      "  - PORT: 8081\n",
      "  - DOCKER COMPOSE: v2.15.1\n",
      "\n",
      "\n",
      "\u001b[1;32m⠋\u001b[0m\u001b[1;34m Launching Containers \u001b[0m\u001b[1;32m \u001b[0m\n",
      "\u001b[2K  ✅ \u001b[1;32mPulling [5 / 5]\u001b[0m \u001b[90m━━━━━━━━━━━━━━━━━━━━━━━━━━━━━━━━━━━━━━━━\u001b[0m \u001b[35m100.00%   \u001b[0m0m \u001b[35m80.00%   \u001b[0m\n",
      "\u001b[2K  ✅ \u001b[1;32mLaunching [5 / 5]\u001b[0m \u001b[90m━━━━━━━━━━━━━━━━━━━━━━━━━━━━━━━━━━━━━━━━\u001b[0m \u001b[35m100.00%   \u001b[0m[0m \u001b[35m80.00%   \u001b[0m\n",
      "\u001b[?25h\n",
      "\u001b[1;32m⠋\u001b[0m\u001b[1;34m Checking node API \u001b[0m\u001b[1;32m \u001b[0m   \n",
      "\u001b[2K✅ pedantic_bostrom Domain Containers Createdtion\u001b[0m0m\n",
      "\u001b[2K✅ Backendm \u001b[1;91mStarting Backend\u001b[0meation\u001b[0m\n",
      "\u001b[2K✅ Startup Completeting Backend\u001b[0m\n",
      "\u001b[2K\u001b[32m⠹\u001b[0m \u001b[1;91mStarting Backend\u001b[0m\n",
      "\u001b[1A\u001b[2K┏━━━━━━━━━━━┳━━━━━━━━━━━━━━━━━━━━━━━━━━━━━━━━━━━━━━━━━━━┳━━━━━┓\n",
      "┃\u001b[1m \u001b[0m\u001b[1mPyGrid   \u001b[0m\u001b[1m \u001b[0m┃\u001b[1m \u001b[0m\u001b[1mInfo                                     \u001b[0m\u001b[1m \u001b[0m┃\u001b[1m \u001b[0m\u001b[1m600\u001b[0m\u001b[1m \u001b[0m┃\n",
      "┡━━━━━━━━━━━╇━━━━━━━━━━━━━━━━━━━━━━━━━━━━━━━━━━━━━━━━━━━╇━━━━━┩\n",
      "│\u001b[35m \u001b[0m\u001b[35mUI (βeta)\u001b[0m\u001b[35m \u001b[0m│ http://localhost:8081/login               │ ✅  │\n",
      "│\u001b[35m \u001b[0m\u001b[35mapi      \u001b[0m\u001b[35m \u001b[0m│ http://localhost:8081/api/v1/openapi.json │ ✅  │\n",
      "└───────────┴───────────────────────────────────────────┴─────┘\n",
      "╭────────────────────────────────────────────────────────────╮\n",
      "│ ✨ To view container logs run \u001b[1;32mhagrid logs pedantic_bostrom\u001b[0m │\n",
      "╰────────────────────────────────────────────────────────────╯\n"
     ]
    }
   ],
   "source": [
    "!hagrid launch domain to docker --tag=0.8.0-beta.9 --build-src=dev"
   ]
  },
  {
   "cell_type": "code",
   "execution_count": 18,
   "id": "60fe1b38-825e-413e-86b6-8ae16f0f11da",
   "metadata": {
    "tags": []
   },
   "outputs": [
    {
     "name": "stdout",
     "output_type": "stream",
     "text": [
      "\u001b[2K✅ Updated HAGrid from branch: dev from branch: dev\u001b[0m0m\n",
      "\u001b[2K\u001b[32m⠙\u001b[0m \u001b[1;34mUpdating HAGrid from branch: dev\u001b[0m\n",
      "\u001b[2K\u001b[32m⠇\u001b[0m \u001b[1;34mChecking for Docker Service\u001b[0m   ice\u001b[0m   \n",
      "\u001b[1A\u001b[2K✅ Docker service is running\n",
      "✅ Git 2.39.2\n",
      "✅ Docker 20.10.22\n",
      "✅ Docker Compose 2.15.1\n",
      "\n",
      "\n",
      "                                             `\n",
      "                                         `.+yys/.`\n",
      "                                       ``/NMMMNNs`\n",
      "                                    `./shNMMMMMMNs``    `..`\n",
      "                                  `-smNMMNNMMMMMMN/.``......`\n",
      "                                `.yNMMMMNmmmmNNMMm/.`....`\n",
      "                              `:sdNMMMMMMNNNNddddds-`.`` `--. `\n",
      "                           `.+dNNNNMMMMMMMMMNNNNmddohmh//hddy/.```..`\n",
      "                          `-hNMMMMMMMMMMMMNNdmNNMNNdNNd:sdyoo+/++:..`\n",
      "                        ../mMMMMMMMMMMMMMMNNmmmmNMNmNNmdmd/hNNNd+:`\n",
      "                        `:mMNNMMMMMMMMMMMMNMNNmmmNNNNNdNNd/NMMMMm::\n",
      "                       `:mMNNNMMMMMMMMMMMMMMMNNNNdNMNNmmNd:smMMmh//\n",
      "                     ``/mMMMMMMMMMMMMMMMMMMMMMMNmdmNNMMNNNy/osoo/-`\n",
      "                    `-sNMMMMMMMMMMMMMMMMMMMMMMMMNNmmMMMMNh-....`\n",
      "                   `/dNMMMMMMMMMMMMMMMMMMMMMMMMMMMNNMMMNy.`\n",
      "                ``.omNNMMMMMMMMMMMMNMMMMMMMNmmmmNNMMMMN+`\n",
      "                `:hmNNMMMMMMMMMMMNo/ohNNNNho+os+-+hNys/`\n",
      "                -mNNNNNNMMMMMMMMm+``-yNdd+/mMMMms.-:`\n",
      "                .+dmNNNNMMMMMMNd:``:dNN+y`oMMMMMm-.`\n",
      "                `+dmmmNNNmmmmy+.   `-+m/s/+MMMMm/--\n",
      "               `+mmmhNy/-...```     ``-.-sosyys+/-`\n",
      "            ``.smmmsoo``               .oh+-:/:.\n",
      "          `.:odmdh/````             `.+d+``````\n",
      "     ```/sydNdhy+.`              ``-sds.\n",
      "    `:hdmhs::-````               `oNs.`\n",
      "```.sdmh/``                    `-ym+`\n",
      " ``ssy+`                     `-yms.`\n",
      "   ``                      `:hNy-``\n",
      "   `                     `-yMN/```\n",
      "                       `-yNhy-\n",
      "                     `/yNd/`\n",
      "                   `:dNMs``\n",
      "                 `.+mNy/.`\n",
      "              `.+hNMMs``\n",
      "             `:dMMMMh.`\n",
      "\n",
      " _   _       _     _                 _   _                       _\n",
      "| | | |     | |   | |               | | | |                     | |\n",
      "| |_| | ___ | | __| |   ___  _ __   | |_| | __ _ _ __ _ __ _   _| |\n",
      "|  _  |/ _ \\| |/ _` |  / _ \\| '_ \\  |  _  |/ _` | '__| '__| | | | |\n",
      "| | | | (_) | | (_| | | (_) | | | | | | | | (_| | |  | |  | |_| |_|\n",
      "\\_| |_/\\___/|_|\\__,_|  \\___/|_| |_| \\_| |_/\\__,_|_|  |_|   \\__, (_)\n",
      "                                                            __/ |\n",
      "                                                           |___/\n",
      "        \n",
      "Launching a PyGrid Domain node on port 8081!\n",
      "\n",
      "  - NAME: eager_goertzel\n",
      "  - RELEASE: production\n",
      "  - ARCH: linux/arm64\n",
      "  - TYPE: domain\n",
      "  - DOCKER_TAG: beta\n",
      "  - HAGRID_VERSION: 0.3.2\n",
      "  - PORT: 8081\n",
      "  - DOCKER COMPOSE: v2.15.1\n",
      "\n",
      "\n",
      "\u001b[1;32m⠋\u001b[0m\u001b[1;34m Launching Containers \u001b[0m\u001b[1;32m \u001b[0m\n",
      "\u001b[2K  ✅ \u001b[1;32mPulling [5 / 5]\u001b[0m \u001b[90m━━━━━━━━━━━━━━━━━━━━━━━━━━━━━━━━━━━━━━━━\u001b[0m \u001b[35m100.00%   \u001b[0m0m \u001b[35m80.00%   \u001b[0m\n",
      "\u001b[2K  ❌ \u001b[1;31mLaunching\u001b[0m [0 / 0] \u001b[90m━━━━━━━━━━━━━━━━━━━━━━━━━━━━━━━━━━━━━━━━\u001b[0m \u001b[35m0.00%   \u001b[0m  \u001b[0m\n",
      "\n",
      " \u001b[31m ERROR \u001b[0m: \u001b[1mfailed to create network eager_goertzel_default: Error response from \u001b[0m\n",
      "\u001b[1mdaemon: could not find an available, non-overlapping IPv4 address pool among the\u001b[0m\n",
      "\u001b[1mdefaults to assign to the network\u001b[0m\n",
      "\n",
      "Failed to run cmd: RELEASE=production COMPOSE_DOCKER_CLI_BUILD=1 DOCKER_BUILDKIT=1 HTTP_PORT=8081 HTTPS_PORT=444 TRAEFIK_TAG=5ad86b7ab5d9c491b657919adec2a50f0477d2173f4ba95bb6b49920af3f8716 NODE_NAME=eager_goertzel NODE_TYPE=domain TRAEFIK_PUBLIC_NETWORK_IS_EXTERNAL=False VERSION=beta VERSION_HASH=dockerhub USE_BLOB_STORAGE=True FRONTEND_TARGET=grid-ui-production STACK_API_KEY=Cj9mcQcRN86B3lumKvVTzLzdOXsw22jZq7aSlzph1rPH5YY8 ENABLE_OBLV=false docker compose -p eager_goertzel --env-file /Users/carmenpopa/.hagrid/PySyft/packages/grid/.envfile --profile vpn --profile blob-storage --profile frontend --file docker-compose.yml up -d. \n",
      "\n",
      "\u001b[1;32m⠋\u001b[0m\u001b[1;34m Checking node API \u001b[0m\u001b[1;32m \u001b[0m   \n",
      "\u001b[2K\u001b[32m⠙\u001b[0m \u001b[1;91mWaiting for Container Creation\u001b[0m0m\n",
      "\u001b[1A\u001b[2KHagrid check command timed out after: \u001b[1;36m300\u001b[0m seconds 🕛\n",
      "Please try increasing the timeout or kindly check the docker containers for \n",
      "error logs.\n",
      "You can view your container logs using the following tool:\n",
      "Tool: \u001b]8;id=253378;https://ctop.sh\u001b\\Ctop\u001b]8;;\u001b\\\n",
      "Video Explanation: \u001b[4;94mhttps://youtu.be/BJhlCxerQP4\u001b[0m \n",
      "\n",
      "╭──────────────────────────────────────────────────────────╮\n",
      "│ ✨ To view container logs run \u001b[1;32mhagrid logs eager_goertzel\u001b[0m │\n",
      "╰──────────────────────────────────────────────────────────╯\n"
     ]
    }
   ],
   "source": [
    "# !hagrid launch domain to docker --tag=beta --build-src=dev"
   ]
  },
  {
   "cell_type": "code",
   "execution_count": 37,
   "id": "820ae1b5-48f8-415c-94b4-bb35b198861e",
   "metadata": {
    "tags": []
   },
   "outputs": [
    {
     "ename": "ConnectionError",
     "evalue": "Failed to fetch http://localhost:8082/api/v1/new/metadata. Response returned with code 404",
     "output_type": "error",
     "traceback": [
      "\u001b[0;31m---------------------------------------------------------------------------\u001b[0m",
      "\u001b[0;31mConnectionError\u001b[0m                           Traceback (most recent call last)",
      "Cell \u001b[0;32mIn[37], line 1\u001b[0m\n\u001b[0;32m----> 1\u001b[0m domain_client_low_side \u001b[38;5;241m=\u001b[39m \u001b[43msy\u001b[49m\u001b[38;5;241;43m.\u001b[39;49m\u001b[43mlogin\u001b[49m\u001b[43m(\u001b[49m\u001b[43murl\u001b[49m\u001b[43m \u001b[49m\u001b[38;5;241;43m=\u001b[39;49m\u001b[43m \u001b[49m\u001b[38;5;124;43m\"\u001b[39;49m\u001b[38;5;124;43mhttp://localhost:8082\u001b[39;49m\u001b[38;5;124;43m\"\u001b[39;49m\u001b[43m,\u001b[49m\u001b[43m \u001b[49m\u001b[43memail\u001b[49m\u001b[38;5;241;43m=\u001b[39;49m\u001b[38;5;124;43m\"\u001b[39;49m\u001b[38;5;124;43minfo@openmined.org\u001b[39;49m\u001b[38;5;124;43m\"\u001b[39;49m\u001b[43m,\u001b[49m\u001b[43m \u001b[49m\u001b[43mpassword\u001b[49m\u001b[38;5;241;43m=\u001b[39;49m\u001b[38;5;124;43m\"\u001b[39;49m\u001b[38;5;124;43mchangethis\u001b[39;49m\u001b[38;5;124;43m\"\u001b[39;49m\u001b[43m)\u001b[49m\n\u001b[1;32m      2\u001b[0m domain_client_low_side\n",
      "File \u001b[0;32m~/.hagrid/quickstart/.venv/lib/python3.10/site-packages/syft/core/node/new/client.py:556\u001b[0m, in \u001b[0;36mlogin\u001b[0;34m(url, node, port, email, password, cache)\u001b[0m\n\u001b[1;32m    547\u001b[0m \u001b[38;5;129m@instrument\u001b[39m\n\u001b[1;32m    548\u001b[0m \u001b[38;5;28;01mdef\u001b[39;00m \u001b[38;5;21mlogin\u001b[39m(\n\u001b[1;32m    549\u001b[0m     url: Union[\u001b[38;5;28mstr\u001b[39m, GridURL] \u001b[38;5;241m=\u001b[39m DEFAULT_PYGRID_ADDRESS,\n\u001b[0;32m   (...)\u001b[0m\n\u001b[1;32m    554\u001b[0m     cache: \u001b[38;5;28mbool\u001b[39m \u001b[38;5;241m=\u001b[39m \u001b[38;5;28;01mTrue\u001b[39;00m,\n\u001b[1;32m    555\u001b[0m ) \u001b[38;5;241m-\u001b[39m\u001b[38;5;241m>\u001b[39m SyftClient:\n\u001b[0;32m--> 556\u001b[0m     _client \u001b[38;5;241m=\u001b[39m \u001b[43mconnect\u001b[49m\u001b[43m(\u001b[49m\u001b[43murl\u001b[49m\u001b[38;5;241;43m=\u001b[39;49m\u001b[43murl\u001b[49m\u001b[43m,\u001b[49m\u001b[43m \u001b[49m\u001b[43mnode\u001b[49m\u001b[38;5;241;43m=\u001b[39;49m\u001b[43mnode\u001b[49m\u001b[43m,\u001b[49m\u001b[43m \u001b[49m\u001b[43mport\u001b[49m\u001b[38;5;241;43m=\u001b[39;49m\u001b[43mport\u001b[49m\u001b[43m)\u001b[49m\n\u001b[1;32m    557\u001b[0m     connection \u001b[38;5;241m=\u001b[39m _client\u001b[38;5;241m.\u001b[39mconnection\n\u001b[1;32m    559\u001b[0m     login_credentials \u001b[38;5;241m=\u001b[39m \u001b[38;5;28;01mNone\u001b[39;00m\n",
      "File \u001b[0;32m~/.hagrid/quickstart/.venv/lib/python3.10/site-packages/syft/core/node/new/client.py:543\u001b[0m, in \u001b[0;36mconnect\u001b[0;34m(url, node, port)\u001b[0m\n\u001b[1;32m    541\u001b[0m         url\u001b[38;5;241m.\u001b[39mset_port(\u001b[38;5;28mint\u001b[39m(port))\n\u001b[1;32m    542\u001b[0m     connection \u001b[38;5;241m=\u001b[39m HTTPConnection(url\u001b[38;5;241m=\u001b[39murl)\n\u001b[0;32m--> 543\u001b[0m _client \u001b[38;5;241m=\u001b[39m \u001b[43mSyftClient\u001b[49m\u001b[43m(\u001b[49m\u001b[43mconnection\u001b[49m\u001b[38;5;241;43m=\u001b[39;49m\u001b[43mconnection\u001b[49m\u001b[43m)\u001b[49m\n\u001b[1;32m    544\u001b[0m \u001b[38;5;28;01mreturn\u001b[39;00m _client\n",
      "File \u001b[0;32m~/.hagrid/quickstart/.venv/lib/python3.10/site-packages/syft/core/node/new/client.py:317\u001b[0m, in \u001b[0;36mSyftClient.__init__\u001b[0;34m(self, connection, metadata, credentials, api)\u001b[0m\n\u001b[1;32m    314\u001b[0m \u001b[38;5;28mself\u001b[39m\u001b[38;5;241m.\u001b[39mcredentials: Optional[SyftSigningKey] \u001b[38;5;241m=\u001b[39m credentials\n\u001b[1;32m    315\u001b[0m \u001b[38;5;28mself\u001b[39m\u001b[38;5;241m.\u001b[39m_api \u001b[38;5;241m=\u001b[39m api\n\u001b[0;32m--> 317\u001b[0m \u001b[38;5;28;43mself\u001b[39;49m\u001b[38;5;241;43m.\u001b[39;49m\u001b[43mpost_init\u001b[49m\u001b[43m(\u001b[49m\u001b[43m)\u001b[49m\n",
      "File \u001b[0;32m~/.hagrid/quickstart/.venv/lib/python3.10/site-packages/syft/core/node/new/client.py:321\u001b[0m, in \u001b[0;36mSyftClient.post_init\u001b[0;34m(self)\u001b[0m\n\u001b[1;32m    319\u001b[0m \u001b[38;5;28;01mdef\u001b[39;00m \u001b[38;5;21mpost_init\u001b[39m(\u001b[38;5;28mself\u001b[39m) \u001b[38;5;241m-\u001b[39m\u001b[38;5;241m>\u001b[39m \u001b[38;5;28;01mNone\u001b[39;00m:\n\u001b[1;32m    320\u001b[0m     \u001b[38;5;28;01mif\u001b[39;00m \u001b[38;5;28mself\u001b[39m\u001b[38;5;241m.\u001b[39mmetadata \u001b[38;5;129;01mis\u001b[39;00m \u001b[38;5;28;01mNone\u001b[39;00m:\n\u001b[0;32m--> 321\u001b[0m         \u001b[38;5;28;43mself\u001b[39;49m\u001b[38;5;241;43m.\u001b[39;49m\u001b[43m_fetch_node_metadata\u001b[49m\u001b[43m(\u001b[49m\u001b[38;5;28;43mself\u001b[39;49m\u001b[38;5;241;43m.\u001b[39;49m\u001b[43mcredentials\u001b[49m\u001b[43m)\u001b[49m\n",
      "File \u001b[0;32m~/.hagrid/quickstart/.venv/lib/python3.10/site-packages/syft/core/node/new/client.py:514\u001b[0m, in \u001b[0;36mSyftClient._fetch_node_metadata\u001b[0;34m(self, credentials)\u001b[0m\n\u001b[1;32m    513\u001b[0m \u001b[38;5;28;01mdef\u001b[39;00m \u001b[38;5;21m_fetch_node_metadata\u001b[39m(\u001b[38;5;28mself\u001b[39m, credentials: SyftSigningKey) \u001b[38;5;241m-\u001b[39m\u001b[38;5;241m>\u001b[39m \u001b[38;5;28;01mNone\u001b[39;00m:\n\u001b[0;32m--> 514\u001b[0m     metadata \u001b[38;5;241m=\u001b[39m \u001b[38;5;28;43mself\u001b[39;49m\u001b[38;5;241;43m.\u001b[39;49m\u001b[43mconnection\u001b[49m\u001b[38;5;241;43m.\u001b[39;49m\u001b[43mget_node_metadata\u001b[49m\u001b[43m(\u001b[49m\u001b[43mcredentials\u001b[49m\u001b[38;5;241;43m=\u001b[39;49m\u001b[43mcredentials\u001b[49m\u001b[43m)\u001b[49m\n\u001b[1;32m    515\u001b[0m     \u001b[38;5;28;01mif\u001b[39;00m \u001b[38;5;28misinstance\u001b[39m(metadata, NodeMetadataJSON):\n\u001b[1;32m    516\u001b[0m         metadata\u001b[38;5;241m.\u001b[39mcheck_version(__version__)\n",
      "File \u001b[0;32m~/.hagrid/quickstart/.venv/lib/python3.10/site-packages/syft/core/node/new/client.py:171\u001b[0m, in \u001b[0;36mHTTPConnection.get_node_metadata\u001b[0;34m(self, credentials)\u001b[0m\n\u001b[1;32m    169\u001b[0m     \u001b[38;5;28;01mreturn\u001b[39;00m response\u001b[38;5;241m.\u001b[39mto(NodeMetadataJSON)\n\u001b[1;32m    170\u001b[0m \u001b[38;5;28;01melse\u001b[39;00m:\n\u001b[0;32m--> 171\u001b[0m     response \u001b[38;5;241m=\u001b[39m \u001b[38;5;28;43mself\u001b[39;49m\u001b[38;5;241;43m.\u001b[39;49m\u001b[43m_make_get\u001b[49m\u001b[43m(\u001b[49m\u001b[38;5;28;43mself\u001b[39;49m\u001b[38;5;241;43m.\u001b[39;49m\u001b[43mroutes\u001b[49m\u001b[38;5;241;43m.\u001b[39;49m\u001b[43mROUTE_METADATA\u001b[49m\u001b[38;5;241;43m.\u001b[39;49m\u001b[43mvalue\u001b[49m\u001b[43m)\u001b[49m\n\u001b[1;32m    172\u001b[0m     metadata_json \u001b[38;5;241m=\u001b[39m json\u001b[38;5;241m.\u001b[39mloads(response)\n\u001b[1;32m    173\u001b[0m     \u001b[38;5;28;01mreturn\u001b[39;00m NodeMetadataJSON(\u001b[38;5;241m*\u001b[39m\u001b[38;5;241m*\u001b[39mmetadata_json)\n",
      "File \u001b[0;32m~/.hagrid/quickstart/.venv/lib/python3.10/site-packages/syft/core/node/new/client.py:127\u001b[0m, in \u001b[0;36mHTTPConnection._make_get\u001b[0;34m(self, path, params)\u001b[0m\n\u001b[1;32m    123\u001b[0m response \u001b[38;5;241m=\u001b[39m \u001b[38;5;28mself\u001b[39m\u001b[38;5;241m.\u001b[39msession\u001b[38;5;241m.\u001b[39mget(\n\u001b[1;32m    124\u001b[0m     \u001b[38;5;28mstr\u001b[39m(url), verify\u001b[38;5;241m=\u001b[39mverify_tls(), proxies\u001b[38;5;241m=\u001b[39m{}, params\u001b[38;5;241m=\u001b[39mparams\n\u001b[1;32m    125\u001b[0m )\n\u001b[1;32m    126\u001b[0m \u001b[38;5;28;01mif\u001b[39;00m response\u001b[38;5;241m.\u001b[39mstatus_code \u001b[38;5;241m!=\u001b[39m \u001b[38;5;241m200\u001b[39m:\n\u001b[0;32m--> 127\u001b[0m     \u001b[38;5;28;01mraise\u001b[39;00m requests\u001b[38;5;241m.\u001b[39mConnectionError(\n\u001b[1;32m    128\u001b[0m         \u001b[38;5;124mf\u001b[39m\u001b[38;5;124m\"\u001b[39m\u001b[38;5;124mFailed to fetch \u001b[39m\u001b[38;5;132;01m{\u001b[39;00murl\u001b[38;5;132;01m}\u001b[39;00m\u001b[38;5;124m. Response returned with code \u001b[39m\u001b[38;5;132;01m{\u001b[39;00mresponse\u001b[38;5;241m.\u001b[39mstatus_code\u001b[38;5;132;01m}\u001b[39;00m\u001b[38;5;124m\"\u001b[39m\n\u001b[1;32m    129\u001b[0m     )\n\u001b[1;32m    131\u001b[0m \u001b[38;5;66;03m# upgrade to tls if available\u001b[39;00m\n\u001b[1;32m    132\u001b[0m \u001b[38;5;28mself\u001b[39m\u001b[38;5;241m.\u001b[39murl \u001b[38;5;241m=\u001b[39m upgrade_tls(\u001b[38;5;28mself\u001b[39m\u001b[38;5;241m.\u001b[39murl, response)\n",
      "\u001b[0;31mConnectionError\u001b[0m: Failed to fetch http://localhost:8082/api/v1/new/metadata. Response returned with code 404"
     ]
    }
   ],
   "source": [
    "domain_client_low_side = sy.login(url = \"http://localhost:8081\", email=\"info@openmined.org\", password=\"changethis\")\n",
    "domain_client_low_side"
   ]
  },
  {
   "cell_type": "code",
   "execution_count": null,
   "id": "52dad9a6-ab4f-4a7c-89ca-1d2389b95c04",
   "metadata": {
    "tags": []
   },
   "outputs": [],
   "source": [
    "domain_client_low_side.upload_dataset(dataset)"
   ]
  },
  {
   "cell_type": "markdown",
   "id": "0a54927c-c5dd-4bf5-a066-9e16dee554d8",
   "metadata": {},
   "source": [
    "### Create data scientist account"
   ]
  },
  {
   "cell_type": "code",
   "execution_count": null,
   "id": "eee1482b-837f-45a6-a6d1-6b57efc17899",
   "metadata": {
    "tags": []
   },
   "outputs": [],
   "source": [
    "domain_client_low_side.register(name='Ana Banana', email='ana.banana@uni.org', password='student')"
   ]
  },
  {
   "cell_type": "code",
   "execution_count": null,
   "id": "15acf62b-2a44-48d5-b525-3a3828435fe2",
   "metadata": {
    "tags": []
   },
   "outputs": [],
   "source": [
    "!hagrid land domain_name --silent --force"
   ]
  },
  {
   "cell_type": "code",
   "execution_count": null,
   "id": "c1d3ca3b-b159-4c5c-a4fb-bc9a7f3c8336",
   "metadata": {},
   "outputs": [],
   "source": []
  }
 ],
 "metadata": {
  "kernelspec": {
   "display_name": "Python 3 (ipykernel)",
   "language": "python",
   "name": "python3"
  },
  "language_info": {
   "codemirror_mode": {
    "name": "ipython",
    "version": 3
   },
   "file_extension": ".py",
   "mimetype": "text/x-python",
   "name": "python",
   "nbconvert_exporter": "python",
   "pygments_lexer": "ipython3",
   "version": "3.10.10"
  }
 },
 "nbformat": 4,
 "nbformat_minor": 5
}
