{
 "cells": [
  {
   "cell_type": "markdown",
   "id": "73d9f9cb-e83c-4ea6-b202-227d4f0b6b38",
   "metadata": {},
   "source": [
    "## Intro"
   ]
  },
  {
   "cell_type": "markdown",
   "id": "6180b191-8822-4806-8de1-d04b0c7b1079",
   "metadata": {},
   "source": [
    "These instructions are intended for data owners / data managers. This tutorial will generating a mock dataset that follows the schema of the real dataset, as well as annotating the mock dataset and uploading it to the server.\n",
    "\n",
    "For this step, you should have a real dataset for which to generate the mock one."
   ]
  },
  {
   "cell_type": "markdown",
   "id": "61659a47-87ca-4f7a-ab1d-89c1868dcfe2",
   "metadata": {},
   "source": [
    "## Define the schema for the mock dataset"
   ]
  },
  {
   "cell_type": "markdown",
   "id": "64d960e4-52cf-4ce9-9bbc-5d74694e3886",
   "metadata": {},
   "source": [
    "First, we will define the data schema for the synthetic data such that it matches with the original data structure.\n",
    "\n",
    "For example, assume the real dataset has the columns:\n",
    "- video_id: unique, int\n",
    "- video_url: unique, string\n",
    "- video_suggestive_score (0-1): int\n",
    "- video_description: unique, string\n",
    "- algorithm: categorical (label)\n",
    "- recommendations_id: categorical (label)\n",
    "\n",
    "Then, the synthetic one will have the same columns, with the same datatypes."
   ]
  },
  {
   "cell_type": "markdown",
   "id": "522ae597-d68c-428b-acfb-d59a7c516537",
   "metadata": {},
   "source": [
    "### Generate numerical values"
   ]
  },
  {
   "cell_type": "markdown",
   "id": "fe0a814d-7d90-42f6-b2a0-41b691d93299",
   "metadata": {},
   "source": [
    "The method below is an example of how mock numerical values can be populated. In our example, `video_id` and `video_suggestive_score` both store numerical values. For random numberic value generation, we will use the `random` function from `numpy` library."
   ]
  },
  {
   "cell_type": "code",
   "execution_count": null,
   "id": "c3b7f28c-d716-4fa4-b69b-3970333dc462",
   "metadata": {},
   "outputs": [],
   "source": [
    "def generate_numeric_columns(num):\n",
    "    \n",
    "    video_id_list = np.arange(1000, num + 2000)\n",
    "    suggestive_score_list = [random.uniform(0, 1) for _ in range(num)]\n",
    "\n",
    "    video_id = np.random.choice(video_id_list, size=num, replace=False)\n",
    "    suggestive_score = np.random.choice(suggestive_score_list, size=num, replace=True)\n",
    "\n",
    "    return video_id, suggestive_score"
   ]
  },
  {
   "cell_type": "markdown",
   "id": "b643b87d-3ff1-4050-b25e-35089a32a929",
   "metadata": {},
   "source": [
    "### Generating string values"
   ]
  },
  {
   "cell_type": "markdown",
   "id": "35c01a27-c90c-4863-9652-b545a34a7afe",
   "metadata": {},
   "source": [
    "We will use a python library called [Faker](https://faker.readthedocs.io/en/master/). `Faker` is a Python package that generates fake data for you based on the specifications you provide it."
   ]
  },
  {
   "cell_type": "code",
   "execution_count": null,
   "id": "c676d3f2-0146-4d5c-92e4-ac1c04096d54",
   "metadata": {},
   "outputs": [],
   "source": [
    "!pip install Faker"
   ]
  },
  {
   "cell_type": "code",
   "execution_count": null,
   "id": "34dc4bd5-a929-4d31-8ba2-298fe4c645ec",
   "metadata": {},
   "outputs": [],
   "source": [
    "# random.seed(1234)\n",
    "from faker import Faker\n",
    "\n",
    "Faker.seed(0)\n",
    "faker = Faker()"
   ]
  },
  {
   "cell_type": "code",
   "execution_count": null,
   "id": "13385b76-d748-4104-b8ff-68d10c065a94",
   "metadata": {},
   "outputs": [],
   "source": [
    "def make_fake_data(num):\n",
    "    \n",
    "    fake_data = [\n",
    "        {\n",
    "            \"video_url\": faker.md5(raw_output=False),\n",
    "            \"video_description\": faker.text(max_nb_chars=50),\n",
    "        }\n",
    "        for x in range(num)\n",
    "    ]\n",
    "\n",
    "    return fake_data"
   ]
  },
  {
   "cell_type": "markdown",
   "id": "f2b4b807-ccdf-415d-996a-e4d3969d92c4",
   "metadata": {},
   "source": [
    "### Generate categorical data"
   ]
  },
  {
   "cell_type": "code",
   "execution_count": null,
   "id": "61cc4faa-40d6-4c99-b447-f7e86d9375f1",
   "metadata": {},
   "outputs": [],
   "source": [
    "def make_algo_and_recommendations_id(num):\n",
    "    \n",
    "    algo_list = [\"A\", \"B\", \"C\", \"D\", \"E\"]\n",
    "    video_id_list = np.arange(2000, num + 3000)\n",
    "\n",
    "    algorithm = np.random.choice(algo_list, size=num, replace=True)\n",
    "    recommendations_id = np.random.choice(video_id_list, size=num, replace=True)\n",
    "\n",
    "    return algorithm, recommendations_id"
   ]
  },
  {
   "cell_type": "markdown",
   "id": "f2f87aef-8e8d-4988-a4d7-0696d557c24d",
   "metadata": {},
   "source": [
    "Lastly, combine the generated columns as you find fit for the usecase of your project in order to complete the mock dataset.\n",
    "\n",
    "If the real data changes, you can easily update the way in which the mocked data is generated (for example, updating ranges from numerical values, adding/removing columns etc)."
   ]
  },
  {
   "cell_type": "markdown",
   "id": "d34ed60e-114c-479f-9c12-41a28c983fd4",
   "metadata": {},
   "source": [
    "## Uploading the dataset"
   ]
  },
  {
   "cell_type": "markdown",
   "id": "4e36207c-42e7-4e59-b04b-d3c46515be21",
   "metadata": {},
   "source": [
    "After generating the dataset, it first needs annotations before being uploaded. The next steps are identical to those described in the previous notebook. Please follow the steps there to login into the domain node, annotate the data and then upload it.\n",
    "\n",
    "```hagrid quickstart https://github.com/Poppy22/notebooks-openmined/blob/master/DO-DM/annotating_data.ipynb```"
   ]
  },
  {
   "cell_type": "markdown",
   "id": "c09ab1bc-4f51-4339-a9a7-e2223f9343f4",
   "metadata": {},
   "source": [
    "## Final thoughts"
   ]
  },
  {
   "cell_type": "markdown",
   "id": "dd6a784c-4231-438e-b187-f95108f78906",
   "metadata": {},
   "source": [
    "Congratulations on generating mock data! In this tutorial you should have achieved:\\\n",
    "✅ generating mocked data by following the structure of the real data\\\n",
    "✅ dealing with various column types when generating mocked data\\\n",
    "✅ annotating and uploading the dataset"
   ]
  }
 ],
 "metadata": {
  "kernelspec": {
   "display_name": "Python 3 (ipykernel)",
   "language": "python",
   "name": "python3"
  },
  "language_info": {
   "codemirror_mode": {
    "name": "ipython",
    "version": 3
   },
   "file_extension": ".py",
   "mimetype": "text/x-python",
   "name": "python",
   "nbconvert_exporter": "python",
   "pygments_lexer": "ipython3",
   "version": "3.10.10"
  }
 },
 "nbformat": 4,
 "nbformat_minor": 5
}
