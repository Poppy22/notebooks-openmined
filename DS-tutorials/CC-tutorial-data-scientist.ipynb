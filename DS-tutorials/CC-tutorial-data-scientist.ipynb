{
 "cells": [
  {
   "cell_type": "markdown",
   "id": "8d2fdd84-96be-4c5e-87ab-4276f0bdd17a",
   "metadata": {},
   "source": [
    "## Introduction"
   ]
  },
  {
   "cell_type": "markdown",
   "id": "0206f6e0-91e1-44c3-ae65-0acb3058dcd7",
   "metadata": {},
   "source": [
    "Welcome 👋!\n",
    "\n",
    "First of all, thank you for helping the world become more privacy-friendly by using PySyft. This notebook is primarily intended for **data scientists** and it will guide you into how to make use of all the capabilities PySyft has to offer in the latest version 0.8.\n",
    "\n",
    "This tutorial will cover five parts:\\\n",
    "(1) 👉 Understanding the workflow\\\n",
    "(2) 👉 Understanding the dataset\\\n",
    "(3) 👉 Writing a code request\\\n",
    "(4) 👉 Sending a code request\\\n",
    "(5) 👉 What queries are supported in syft 0.8"
   ]
  },
  {
   "cell_type": "markdown",
   "id": "2e7086bb-61e0-4017-96a5-e25eb951c90d",
   "metadata": {
    "jp-MarkdownHeadingCollapsed": true,
    "tags": []
   },
   "source": [
    "## Part 1 - Understanding the workflow"
   ]
  },
  {
   "cell_type": "markdown",
   "id": "2a72b379-f686-4096-9487-2b6e8102bdf4",
   "metadata": {},
   "source": [
    "#### Getting started\n",
    "You would like to pursue research in the field of algorithmic transparency to protect the rights of social media users. We collaborated with private companies that made available via PySyft an initial set of datasets to enable such research.\n",
    "\n",
    "They will provide access to their data, as explained below. At this stage, you should have received an URL and credential information (email and password) from a designated data manager. A data manager is a company representative who will collaborate with you to provide access to the data.\n",
    "\n",
    "Without the credentials, you cannot login into PySyft API or platform, and thus cannot carry out your research tasks. Please reach out to the data managers if you have not received instructions about logging in."
   ]
  },
  {
   "cell_type": "markdown",
   "id": "880ce136-38b7-49d5-9208-0f4d3b2cec61",
   "metadata": {
    "tags": []
   },
   "source": [
    "#### The role of data managers\n",
    "Data managers are PySyft users on behalf of companies, who are responsible for datasets. They can upload, edit and remove datasets. Most importantly, a data manager is the person who will share the login credentials with you in the first place, and and who will approve your code requests (also named code queries, or code submissions)."
   ]
  },
  {
   "cell_type": "markdown",
   "id": "8b514164-a6bf-4d11-b48b-b709dc5a7669",
   "metadata": {},
   "source": [
    "#### Code request\n",
    "Once you receive your credentials to log into the domain, you will be able to submit code queries, which will allow you to learn from the data. A code query can be seen as a function which will give you a desired answer (for example, the average rating for a post type, the highest/lowest value with specific criteria etc). We'll see how to send code queries in part (2) of this tutorial."
   ]
  },
  {
   "cell_type": "markdown",
   "id": "edf20ba6-cdef-4cd5-81e2-21e66897fbcd",
   "metadata": {},
   "source": [
    "#### However...\n",
    "\n",
    "You won't directly have access to the private data. This is convenient for data managers, as they retain ownership of the data and prevent it from getting copied elsewhere. However, you will still be able to learn relevant statistical information from the dataset, even without having access to the data per se. This is good for data scientists like you, as you can still make use of the knowledge contained in the dataset and be able to advance your research. Win-win!"
   ]
  },
  {
   "cell_type": "markdown",
   "id": "892610b3-897e-4ccf-9c3f-22ff8ce0b362",
   "metadata": {},
   "source": [
    "#### Real data and mock data\n",
    "\n",
    "How it works is that there will be two datasets:\n",
    "- the real dataset, containing the true unaltered information\n",
    "- a mock dataset, containing fake data generated to be of the same type and shape to the real one"
   ]
  },
  {
   "cell_type": "markdown",
   "id": "75c9b001-1e4a-4a1b-b0c3-3e135ff97f81",
   "metadata": {},
   "source": [
    "#### High-side domain and low-side domain\n",
    "\n",
    "The real dataset will be kept private in what is called **the high side domain**. Only the data manager or other company employess will have direct access to it, and not data scientists.\n",
    "\n",
    "The mock dataset will be stored into the **low side domain** and you will have direct access to it via code request."
   ]
  },
  {
   "cell_type": "markdown",
   "id": "b32cf997-ec52-4689-a34c-3f07cc652aa0",
   "metadata": {},
   "source": [
    "#### Workflow altogether\n",
    "\n",
    "Let's assume the data manager, approved your project request to study the dataset, and now you can start learning from it via code requests.\n",
    "\n",
    "**Decide on a research question**\\\n",
    "First, what question do you want to answer? Let's imagine that you want the average number of reactions for a social media post of a certain type.\n",
    "\n",
    "**Prepare the query** (purple arrows)\\\n",
    "Once you know your goal, you will start by preparing the query. You will only work on the mock dataset, the one from the low-side domain. The dataset will look and feel like the real one, but it won't contain the true data. You can make use of this to write and test your query, to make sure that the code compiles properly and returns an answer. You can edit and test your code query as many times as you want.\n",
    "\n",
    "**Submit the code request** (orange arrows)\\\n",
    "Once you are happy with the code query, then you can send it to be run on the real data. This is how you will get an accurate (but still privacy-friendly) answer for your research question. What happens here is that your code will be sent via PySyft API directly to the data manager. The data manager will check your code, make sure it is safe to be run on the real data, and if so, then they will execute your code on the private data, and generate the answer. This is why it's important that your code runs correctly when you decide to submit the code request - otherwise, the data manager will also be unable to run it and this will result in delays. \n",
    "\n",
    "**Get the answer** (orange arrows)\\\n",
    "After the data manager runs the code, they will also inspect the answer to make sure privacy is preserved if they share it with you. If all is fine, then they will send your the unaltered answer which your function returned on the private, real data. You will be notified when the answer is ready and will be able to retrieve this using the PySyft API.\n",
    "\n",
    "All the technical details will be explained in this tutorial, in part (2).\n",
    "\n",
    "*Note*: because getting the real answer involves manual checks and execution on behalf of the data manager, this means that often the data scientist won't receive the answer right away, but it might be hours or even days later."
   ]
  },
  {
   "cell_type": "markdown",
   "id": "e3409955-27d8-499e-a50b-668c8fa4d6d6",
   "metadata": {},
   "source": [
    "![Screenshot 2023-04-26 at 22.23.04.png](level-0.png)"
   ]
  },
  {
   "cell_type": "markdown",
   "id": "84dab03d-8817-46d8-895d-fd61026f0c7b",
   "metadata": {},
   "source": [
    "## Part 2 - Understanding the dataset"
   ]
  },
  {
   "cell_type": "markdown",
   "id": "e337fdf9-c5b8-4e16-961f-9252669ea11d",
   "metadata": {},
   "source": [
    "So many of the technical solutions which we use on a day to day basis (including social media platforms) make use of AI algorithms in the decisions that they make. As such, it is increasingly important to be able to question, understand and explain how these algorithms work (algorithmic transparency), and to be able to answer ethical questions (for example, to prove or disprove if an AI algorithm shows any signs of bias towards a minority group, in order to mitigate the risks posed for that group). But to achieve this, we need relevant data gathered on a topic, and skilled scientists to derive conclusions out of it.\n",
    "\n",
    "In writing this tutorial, we assume the motivation of **advancing algorithmic transparency** in this research project, and as such, the dataset will be relevant for this purpose.\n",
    "\n",
    "The inspiration from this project is a study run by Twitter to examine the effects of machine learning on the amplification of political content from elected officials or news outlets. Their paper can be found [here](https://www.pnas.org/doi/full/10.1073/pnas.2025334119)."
   ]
  },
  {
   "cell_type": "markdown",
   "id": "e7f945dc-d7f6-4e64-99ad-fe6fc411d4a9",
   "metadata": {},
   "source": [
    "**Study summary**\\\n",
    "Personalization algorithms play an important role in how the content on the Twitter timeline is selected and ordered, which can lead to amplification or suppression of certain messages. To assess whether some political groups benefit from this more than others and whether this results in a preferential treatment due to algorithm internals rather than the interactions, Twitter ran an in-depth study comparing the algorithmically ranked Home timeline versus the reverse chronological Home timeline.\n",
    "\n",
    "The study was carried out during March - June 2020, and targeted only 5% of the twitter users, as such:\n",
    "- 4% of the users were placed in the **treatment group**, meaning that they experienced the **algorithmically ranked Home timeline**\n",
    "- 1% of the users were placed in the **control group**, meaning that they experienced the **reverse chronological Home timeline**\n",
    "- the rest 95% of the Twitter users were not part of the study\n",
    "- the users placed in the treatment and in the control group were randomly selected\n",
    "\n",
    "The dataset has the following form:\n",
    "| Tweet ID | Link      | Impression | Bucket    | ... |\n",
    "|----------|-----------|------------|-----------|-----|\n",
    "| id1      | news.ca/a | 100        | Control   |     |\n",
    "| id2      | news.ca/a | 150        | Treatment |     |\n",
    "| id3      | news.ca/b | 205        | Control   |     |\n",
    "| id4      | news.ca/b | 178        | Treatment |     |\n",
    "| ...      |           |            |           |     |\n",
    "\n",
    "It records the number of impressions (in this case, the number of views) for a specific post, both from the control group and from the treatment group.\n",
    "\n",
    "Of course, the idea of the study can be extended to any type of data. In this example, we can replace `tweets` with any other object recommended to the user, such as pictures, videos, reels, items to purchase etc."
   ]
  },
  {
   "cell_type": "markdown",
   "id": "a1984029-fccf-4aaa-8770-454c946fcca0",
   "metadata": {},
   "source": [
    "Next, we will work with an imaginary dataset to show the abilities of the PySyft library. Following the Twitter study above, let's imagine that there exists a social media platform where users can only post images which contain bubble tea drinks. Each picture has a link that takes the user to an online bubble tea store, where they can order the particular drink featured in the image. Impressions, in this example, are measured by the number of clicks on the link in each picture.\n",
    "\n",
    "The form of the dataset is as such:\n",
    "| PostId   | Link      | Impression | Bucket    | ... |\n",
    "|----------|-----------|------------|-----------|-----|\n",
    "| id1      | bt/brown-sugar1 | 10        | Control   |     |\n",
    "| id2      | bt/brown-sugar1 | 28        | Treatment |     |\n",
    "| id3      | bt/oolong1 | 21        | Control   |     |\n",
    "| id4      | bt/oolong1 | 4        | Treatment |     |\n",
    "| ...      |           |            |           |     |\n",
    "\n",
    "You are trying to identify if the order in which the images are shown influence the purchasing decision of the users. Just like in the Twitter example, there is the control (chronological order) and the treatment group (using a ranking algorithm).\n",
    "\n",
    "You have access to this dataset on the low-side domain hosted by the company. Their private data is on the high-side domain, as explained before, and currently you will work with mock data. We will work with a small example, containing only 6 rows and the four columns from before."
   ]
  },
  {
   "cell_type": "markdown",
   "id": "65585acf-2ec2-4f01-921b-98ccc9873370",
   "metadata": {
    "tags": []
   },
   "source": [
    "## Part 3 - Writing a code request"
   ]
  },
  {
   "cell_type": "markdown",
   "id": "380df80b-b847-430e-86f8-76f594ee6e20",
   "metadata": {},
   "source": [
    "You have access to a dataset (with fake data) on which you will prepare the query. Below are the steps you need to do."
   ]
  },
  {
   "cell_type": "markdown",
   "id": "61a36f1a-da0c-4a4b-808a-a3e1cce02b1d",
   "metadata": {},
   "source": [
    "#### Logging in"
   ]
  },
  {
   "cell_type": "code",
   "execution_count": 1,
   "id": "d3c00c7c-3a8d-4afd-a9c2-dfccba04bbf9",
   "metadata": {
    "tags": []
   },
   "outputs": [
    {
     "name": "stderr",
     "output_type": "stream",
     "text": [
      "kj/filesystem-disk-unix.c++:1703: warning: PWD environment variable doesn't match current directory; pwd = /Users/carmenpopa/.hagrid/quickstart\n"
     ]
    }
   ],
   "source": [
    "import syft as sy\n",
    "import pandas as pd"
   ]
  },
  {
   "cell_type": "code",
   "execution_count": 2,
   "id": "e91426f8-f988-421f-be70-22254083ca8f",
   "metadata": {
    "tags": []
   },
   "outputs": [
    {
     "name": "stdout",
     "output_type": "stream",
     "text": [
      "Logged into Trusting Silver as <ana.banana@uni.org>\n"
     ]
    }
   ],
   "source": [
    "# change your email and password with your own credentials\n",
    "guest_domain_client = sy.login(url='http://localhost:8082', email='ana.banana@uni.org', password='student')"
   ]
  },
  {
   "cell_type": "code",
   "execution_count": 3,
   "id": "c5304056-15c1-43b9-a4d5-52581c4916a7",
   "metadata": {
    "tags": []
   },
   "outputs": [
    {
     "data": {
      "text/plain": [
       "<SyftClient - Trusting Silver <d87e4efcc9e8494b826df57b8670a2b3>: HTTPConnection: http://localhost:8082>"
      ]
     },
     "execution_count": 3,
     "metadata": {},
     "output_type": "execute_result"
    }
   ],
   "source": [
    "guest_domain_client"
   ]
  },
  {
   "cell_type": "markdown",
   "id": "685eacab-9cec-4ec1-b48b-fd2ff86fb944",
   "metadata": {},
   "source": [
    "#### Access the dataset"
   ]
  },
  {
   "cell_type": "code",
   "execution_count": 6,
   "id": "6321e066-070e-4776-96de-308866242ae8",
   "metadata": {
    "tags": []
   },
   "outputs": [
    {
     "data": {
      "text/html": [
       "List - Size: 1\n",
       "<div>\n",
       "<style scoped>\n",
       "    .dataframe tbody tr th:only-of-type {\n",
       "        vertical-align: middle;\n",
       "    }\n",
       "\n",
       "    .dataframe tbody tr th {\n",
       "        vertical-align: top;\n",
       "    }\n",
       "\n",
       "    .dataframe thead th {\n",
       "        text-align: right;\n",
       "    }\n",
       "</style>\n",
       "<table border=\"1\" class=\"dataframe\">\n",
       "  <thead>\n",
       "    <tr style=\"text-align: right;\">\n",
       "      <th></th>\n",
       "      <th>type</th>\n",
       "      <th>id</th>\n",
       "      <th>name</th>\n",
       "      <th>url</th>\n",
       "    </tr>\n",
       "  </thead>\n",
       "  <tbody>\n",
       "    <tr>\n",
       "      <th>0</th>\n",
       "      <td>syft.service.dataset.dataset.Dataset</td>\n",
       "      <td>3d404c84206b40b4a93f8d1c8ad0dd3a</td>\n",
       "      <td>Bubble tea mock data</td>\n",
       "      <td>None</td>\n",
       "    </tr>\n",
       "  </tbody>\n",
       "</table>\n",
       "</div>"
      ],
      "text/plain": [
       "<syft.client.api.APIModule at 0x15a8bec80>"
      ]
     },
     "execution_count": 6,
     "metadata": {},
     "output_type": "execute_result"
    }
   ],
   "source": [
    "# you can see a list of all available datasets! For now, it will be just one.\n",
    "guest_domain_client.datasets"
   ]
  },
  {
   "cell_type": "code",
   "execution_count": 8,
   "id": "55c28d43-b661-45fd-8f34-7d667a3062d5",
   "metadata": {
    "tags": []
   },
   "outputs": [],
   "source": [
    "# you can directly access one of the datasets in the list, let's save it in a variable\n",
    "dataset = guest_domain_client.datasets[0]"
   ]
  },
  {
   "cell_type": "code",
   "execution_count": 9,
   "id": "f205f1cc-fd83-4272-9678-7f20403b82e8",
   "metadata": {
    "tags": []
   },
   "outputs": [
    {
     "data": {
      "text/markdown": [
       "```python\n",
       "Syft Dataset: Bubble tea mock data\n",
       "Assets:\n",
       "\tmock_bubble_tea_data: Mock data for bubble tea consumption\n",
       "Citation: Carmen Popa\n",
       "Description: The fake data to show bubble tea trends for consumers\n",
       "\n",
       "```"
      ],
      "text/plain": [
       "syft.service.dataset.dataset.Dataset"
      ]
     },
     "execution_count": 9,
     "metadata": {},
     "output_type": "execute_result"
    }
   ],
   "source": [
    "# the pointer to the dataset\n",
    "dataset"
   ]
  },
  {
   "cell_type": "code",
   "execution_count": 10,
   "id": "7d424cc7-f813-41e8-9cc8-00c6e2bb8c9a",
   "metadata": {
    "tags": []
   },
   "outputs": [
    {
     "data": {
      "text/html": [
       "Tupledict - Size: 1\n",
       "<div>\n",
       "<style scoped>\n",
       "    .dataframe tbody tr th:only-of-type {\n",
       "        vertical-align: middle;\n",
       "    }\n",
       "\n",
       "    .dataframe tbody tr th {\n",
       "        vertical-align: top;\n",
       "    }\n",
       "\n",
       "    .dataframe thead th {\n",
       "        text-align: right;\n",
       "    }\n",
       "</style>\n",
       "<table border=\"1\" class=\"dataframe\">\n",
       "  <thead>\n",
       "    <tr style=\"text-align: right;\">\n",
       "      <th></th>\n",
       "      <th>key</th>\n",
       "      <th>type</th>\n",
       "      <th>id</th>\n",
       "    </tr>\n",
       "  </thead>\n",
       "  <tbody>\n",
       "    <tr>\n",
       "      <th>0</th>\n",
       "      <td>mock_bubble_tea_data</td>\n",
       "      <td>syft.service.dataset.dataset.Asset</td>\n",
       "      <td>dfbfa3dc97c241d6ba3e4496dc2835fb</td>\n",
       "    </tr>\n",
       "  </tbody>\n",
       "</table>\n",
       "</div>"
      ],
      "text/plain": [
       "TupleDict([('mock_bubble_tea_data', syft.service.dataset.dataset.Asset)])"
      ]
     },
     "execution_count": 10,
     "metadata": {},
     "output_type": "execute_result"
    }
   ],
   "source": [
    "# checkout the assets of the dataset; in the lsit below, there is just one asset available\n",
    "dataset.assets"
   ]
  },
  {
   "cell_type": "code",
   "execution_count": 74,
   "id": "23e449dd-2728-495d-9f8c-2f2aee9be594",
   "metadata": {
    "tags": []
   },
   "outputs": [],
   "source": [
    "# TODO Q1"
   ]
  },
  {
   "cell_type": "code",
   "execution_count": 29,
   "id": "53a7169e-be88-4dc0-8cb7-6aa051f4a698",
   "metadata": {
    "tags": []
   },
   "outputs": [
    {
     "name": "stdout",
     "output_type": "stream",
     "text": [
      "<class 'syft.service.dataset.dataset.Dataset'>\n",
      "<class 'syft.service.dataset.dataset.Asset'>\n",
      "<class 'syft.service.action.pandas.PandasDataFrameObject'>\n",
      "<class 'pandas.core.frame.DataFrame'>\n"
     ]
    }
   ],
   "source": [
    "print(type(dataset))\n",
    "print(type(dataset.assets[0]))\n",
    "print(type(dataset.assets[0].mock))\n",
    "print(type(dataset.assets[0].mock.syft_action_data))"
   ]
  },
  {
   "cell_type": "code",
   "execution_count": 32,
   "id": "f88ec8ec-d906-4552-9309-135c1d972640",
   "metadata": {
    "tags": []
   },
   "outputs": [],
   "source": [
    "# let's access the Pandas dataframe\n",
    "mock_df = dataset.assets[0].mock.syft_action_data"
   ]
  },
  {
   "cell_type": "markdown",
   "id": "a58760dd-bc02-479c-aa50-669b56cfb5dd",
   "metadata": {},
   "source": [
    "You can work with this object like with any other dataframe. You can access the shape, print some rows, get statistical results on the columns, split the dataset etc."
   ]
  },
  {
   "cell_type": "code",
   "execution_count": 37,
   "id": "d2af41d1-8f54-4462-b0dc-7993d98d3918",
   "metadata": {
    "tags": []
   },
   "outputs": [
    {
     "data": {
      "text/plain": [
       "(4, 4)"
      ]
     },
     "execution_count": 37,
     "metadata": {},
     "output_type": "execute_result"
    }
   ],
   "source": [
    "mock.shape"
   ]
  },
  {
   "cell_type": "code",
   "execution_count": 38,
   "id": "cf9bd862-9ea6-4037-9300-48e37f8cd06b",
   "metadata": {
    "tags": []
   },
   "outputs": [
    {
     "data": {
      "text/html": [
       "<div>\n",
       "<style scoped>\n",
       "    .dataframe tbody tr th:only-of-type {\n",
       "        vertical-align: middle;\n",
       "    }\n",
       "\n",
       "    .dataframe tbody tr th {\n",
       "        vertical-align: top;\n",
       "    }\n",
       "\n",
       "    .dataframe thead th {\n",
       "        text-align: right;\n",
       "    }\n",
       "</style>\n",
       "<table border=\"1\" class=\"dataframe\">\n",
       "  <thead>\n",
       "    <tr style=\"text-align: right;\">\n",
       "      <th></th>\n",
       "      <th>drink_name</th>\n",
       "      <th>sugar_level</th>\n",
       "      <th>has_pearls</th>\n",
       "      <th>customer_ratings</th>\n",
       "    </tr>\n",
       "  </thead>\n",
       "  <tbody>\n",
       "    <tr>\n",
       "      <th>0</th>\n",
       "      <td>brown_sugar</td>\n",
       "      <td>0.7</td>\n",
       "      <td>True</td>\n",
       "      <td>4.9</td>\n",
       "    </tr>\n",
       "    <tr>\n",
       "      <th>1</th>\n",
       "      <td>thai_milk</td>\n",
       "      <td>0.3</td>\n",
       "      <td>True</td>\n",
       "      <td>4.6</td>\n",
       "    </tr>\n",
       "    <tr>\n",
       "      <th>2</th>\n",
       "      <td>mango_coconut</td>\n",
       "      <td>0.9</td>\n",
       "      <td>False</td>\n",
       "      <td>3.5</td>\n",
       "    </tr>\n",
       "    <tr>\n",
       "      <th>3</th>\n",
       "      <td>strawberry_cheese</td>\n",
       "      <td>0.5</td>\n",
       "      <td>True</td>\n",
       "      <td>4.3</td>\n",
       "    </tr>\n",
       "  </tbody>\n",
       "</table>\n",
       "</div>"
      ],
      "text/plain": [
       "          drink_name  sugar_level  has_pearls  customer_ratings\n",
       "0        brown_sugar          0.7        True               4.9\n",
       "1          thai_milk          0.3        True               4.6\n",
       "2      mango_coconut          0.9       False               3.5\n",
       "3  strawberry_cheese          0.5        True               4.3"
      ]
     },
     "execution_count": 38,
     "metadata": {},
     "output_type": "execute_result"
    }
   ],
   "source": [
    "mock_df.head()"
   ]
  },
  {
   "cell_type": "code",
   "execution_count": 39,
   "id": "4272ad4a-d413-4d7e-8143-a5e9d11f6783",
   "metadata": {
    "tags": []
   },
   "outputs": [
    {
     "name": "stdout",
     "output_type": "stream",
     "text": [
      "Maximum sugar level: 0.9\n"
     ]
    }
   ],
   "source": [
    "print('Maximum sugar level:', mock_df[\"sugar_level\"].max())"
   ]
  },
  {
   "cell_type": "code",
   "execution_count": 40,
   "id": "74149776-975e-408c-9654-1a7920abbc20",
   "metadata": {
    "tags": []
   },
   "outputs": [
    {
     "data": {
      "text/html": [
       "<div>\n",
       "<style scoped>\n",
       "    .dataframe tbody tr th:only-of-type {\n",
       "        vertical-align: middle;\n",
       "    }\n",
       "\n",
       "    .dataframe tbody tr th {\n",
       "        vertical-align: top;\n",
       "    }\n",
       "\n",
       "    .dataframe thead th {\n",
       "        text-align: right;\n",
       "    }\n",
       "</style>\n",
       "<table border=\"1\" class=\"dataframe\">\n",
       "  <thead>\n",
       "    <tr style=\"text-align: right;\">\n",
       "      <th></th>\n",
       "      <th>drink_name</th>\n",
       "      <th>sugar_level</th>\n",
       "      <th>has_pearls</th>\n",
       "      <th>customer_ratings</th>\n",
       "    </tr>\n",
       "  </thead>\n",
       "  <tbody>\n",
       "    <tr>\n",
       "      <th>0</th>\n",
       "      <td>brown_sugar</td>\n",
       "      <td>0.7</td>\n",
       "      <td>True</td>\n",
       "      <td>4.9</td>\n",
       "    </tr>\n",
       "    <tr>\n",
       "      <th>1</th>\n",
       "      <td>thai_milk</td>\n",
       "      <td>0.3</td>\n",
       "      <td>True</td>\n",
       "      <td>4.6</td>\n",
       "    </tr>\n",
       "  </tbody>\n",
       "</table>\n",
       "</div>"
      ],
      "text/plain": [
       "    drink_name  sugar_level  has_pearls  customer_ratings\n",
       "0  brown_sugar          0.7        True               4.9\n",
       "1    thai_milk          0.3        True               4.6"
      ]
     },
     "execution_count": 40,
     "metadata": {},
     "output_type": "execute_result"
    }
   ],
   "source": [
    "mock_df[0:2]"
   ]
  },
  {
   "cell_type": "markdown",
   "id": "ed2b06fd-3b4d-49af-acd0-aef6c523666c",
   "metadata": {},
   "source": [
    "#### Query for mock data"
   ]
  },
  {
   "cell_type": "markdown",
   "id": "4c8fdf4a-84e7-43ed-9f62-399bc173ccbd",
   "metadata": {},
   "source": [
    "Now that you can access the dataset, let's try to answer a question based on the data.\n",
    "\n",
    "Q: what is the average sugar level of the drinks?"
   ]
  },
  {
   "cell_type": "code",
   "execution_count": 41,
   "id": "9309f81e-76c9-4672-a0c9-93f9fa45ba99",
   "metadata": {
    "tags": []
   },
   "outputs": [
    {
     "data": {
      "text/plain": [
       "0.6"
      ]
     },
     "execution_count": 41,
     "metadata": {},
     "output_type": "execute_result"
    }
   ],
   "source": [
    "# check the result on the mock dataset\n",
    "mock_df['sugar_level'].mean()"
   ]
  },
  {
   "cell_type": "markdown",
   "id": "e6903046-3ac6-480e-aa91-654e74fff845",
   "metadata": {},
   "source": [
    "Next, let's write the function which will be tested on the mock data and run on the real data to provide the accurate answer. \n",
    "\n",
    "The template below is a good start for this function. It has a **syft annotation**, which specifies the **input policy** and the **output policy**. These will be explained later. TODO Q2 Q3 Q4"
   ]
  },
  {
   "cell_type": "code",
   "execution_count": 59,
   "id": "bb89b312-8f21-46ac-b85c-530871d93cee",
   "metadata": {
    "tags": []
   },
   "outputs": [],
   "source": [
    "@sy.syft_function(input_policy=sy.ExactMatch(bubble_tea_data=mock),\n",
    "                  output_policy=sy.SingleExecutionExactOutput())\n",
    "def sugar_level_query(bubble_tea_data):\n",
    "    # imports and general info for each query\n",
    "    import pandas as pd\n",
    "    from opendp.mod import enable_features\n",
    "    enable_features('contrib')\n",
    "    from opendp.measurements import make_base_laplace\n",
    "    aggregate = 0.\n",
    "    base_lap = make_base_laplace(scale=5.)\n",
    "    noise = base_lap(aggregate)\n",
    "\n",
    "    # customize your query here\n",
    "    df = bubble_tea_data\n",
    "    sugar_level_avg = df['sugar_level'].mean()\n",
    "    return (float(sugar_level_avg), float(noise))"
   ]
  },
  {
   "cell_type": "code",
   "execution_count": 60,
   "id": "1103b04b-74ac-44bb-90e2-22b8f98fc95d",
   "metadata": {
    "tags": []
   },
   "outputs": [
    {
     "data": {
      "text/plain": [
       "(0.6, 1.5430206738337342)"
      ]
     },
     "execution_count": 60,
     "metadata": {},
     "output_type": "execute_result"
    }
   ],
   "source": [
    "result = sugar_level_query(bubble_tea_data=mock)\n",
    "result"
   ]
  },
  {
   "cell_type": "markdown",
   "id": "371f7553-8b99-450c-8de5-a312c9c2749f",
   "metadata": {},
   "source": [
    "#### [Good practice] exploring the function before sending it"
   ]
  },
  {
   "cell_type": "code",
   "execution_count": 61,
   "id": "2c0e0373-1573-4675-99a2-aaf98a61ce85",
   "metadata": {
    "tags": []
   },
   "outputs": [],
   "source": [
    "from syft.client.api import NodeView\n",
    "node_view = NodeView.from_api(guest_domain_client.api)\n",
    "assert node_view in sugar_level_query.kwargs"
   ]
  },
  {
   "cell_type": "code",
   "execution_count": 62,
   "id": "07c4e0b6-8775-43b0-828d-7bb51256ad34",
   "metadata": {
    "tags": []
   },
   "outputs": [
    {
     "data": {
      "text/plain": [
       "NodeView(node_name='Trusting Silver', verify_key=04137bfea77b4c86492df2b9849190bd4a19b7a2833b3c500dd37fef6957615c)"
      ]
     },
     "execution_count": 62,
     "metadata": {},
     "output_type": "execute_result"
    }
   ],
   "source": [
    "node_view"
   ]
  },
  {
   "cell_type": "code",
   "execution_count": 63,
   "id": "7c6dc90c-69dd-459b-87de-d6bbbb41031b",
   "metadata": {
    "tags": []
   },
   "outputs": [
    {
     "data": {
      "text/plain": [
       "syft.service.policy.policy.ExactMatch"
      ]
     },
     "execution_count": 63,
     "metadata": {},
     "output_type": "execute_result"
    }
   ],
   "source": [
    "sugar_level_query.input_policy_type"
   ]
  },
  {
   "cell_type": "code",
   "execution_count": 64,
   "id": "da12ac05-301b-4e38-87d0-c4fc6b1161ca",
   "metadata": {
    "tags": []
   },
   "outputs": [
    {
     "data": {
      "text/plain": [
       "syft.service.policy.policy.OutputPolicyExecuteOnce"
      ]
     },
     "execution_count": 64,
     "metadata": {},
     "output_type": "execute_result"
    }
   ],
   "source": [
    "sugar_level_query.output_policy_type"
   ]
  },
  {
   "cell_type": "code",
   "execution_count": 65,
   "id": "f9c2fd43-cd09-4cc3-b01b-952db39ef634",
   "metadata": {
    "tags": []
   },
   "outputs": [
    {
     "name": "stdout",
     "output_type": "stream",
     "text": [
      "@sy.syft_function(input_policy=sy.ExactMatch(bubble_tea_data=mock),\n",
      "                  output_policy=sy.SingleExecutionExactOutput())\n",
      "def sugar_level_query(bubble_tea_data):\n",
      "    # imports and general info for each query\n",
      "    import pandas as pd\n",
      "    from opendp.mod import enable_features\n",
      "    enable_features('contrib')\n",
      "    from opendp.measurements import make_base_laplace\n",
      "    aggregate = 0.\n",
      "    base_lap = make_base_laplace(scale=5.)\n",
      "    noise = base_lap(aggregate)\n",
      "\n",
      "    # customize your query here\n",
      "    df = bubble_tea_data\n",
      "    sugar_level_avg = df['sugar_level'].mean()\n",
      "    return (float(sugar_level_avg), float(noise))\n",
      "\n"
     ]
    }
   ],
   "source": [
    "print(sugar_level_query.code)"
   ]
  },
  {
   "cell_type": "markdown",
   "id": "4399c288-65b2-4ba1-82df-eaca9fdaf636",
   "metadata": {
    "jp-MarkdownHeadingCollapsed": true,
    "tags": []
   },
   "source": [
    "## Part 4 - Sending a code request"
   ]
  },
  {
   "cell_type": "markdown",
   "id": "8147472f-9260-404f-b142-b363deee6518",
   "metadata": {},
   "source": [
    "Now that you have written a code request, the next step is to send it. This involves creating a project first, where you explain the purpose of your research. TODO Q5"
   ]
  },
  {
   "cell_type": "code",
   "execution_count": 70,
   "id": "ddadf61f-8525-44b1-be84-7546311d959d",
   "metadata": {
    "tags": []
   },
   "outputs": [],
   "source": [
    "new_project = sy.Project(name=\"Bubble tea average sugar level\")"
   ]
  },
  {
   "cell_type": "markdown",
   "id": "a28d0f0b-b333-4cb7-8fdb-6229e7627dd7",
   "metadata": {},
   "source": [
    "Add a description to the project. It's important here to be specific and clear, and even include relevant links in the description that can help the approver get as much insight as possible into your research question and intention. This will help having your request approve, as the data manager is informed."
   ]
  },
  {
   "cell_type": "code",
   "execution_count": 71,
   "id": "f0ddef74-1cbb-4e7a-bdbf-e27c904a9cf8",
   "metadata": {
    "tags": []
   },
   "outputs": [],
   "source": [
    "proj_desc = \"\"\"Hello, I want to explore the average sugar level in bubble tea drinks from the dataset. This will help me see how ...\"\"\"\n",
    "new_project.set_description(proj_desc)"
   ]
  },
  {
   "cell_type": "code",
   "execution_count": 73,
   "id": "bd41fe4e-4e84-4318-b17b-5a62ba59a4b5",
   "metadata": {
    "tags": []
   },
   "outputs": [
    {
     "data": {
      "text/html": [
       "<div class=\"alert-danger\" style=\"padding:5px;\"><strong>SyftError</strong>: Duplicate Key Error for syft.service.code.user_code.UserCode: E11000 duplicate key error collection: app.UserCode index: UserCode_index_name dup key: { code_hash: \"51ae23c508c06fa142a514ff6565b4379dbb36fb4396320c4955764234082a33\", user_unique_func_name: \"user_func_sugar_level_query_4ea8053fe7417899e19a84448a46ffceed451d06ed90eef0bc5b1f2aa9e10143\" }, full error: {'index': 0, 'code': 11000, 'errmsg': 'E11000 duplicate key error collection: app.UserCode index: UserCode_index_name dup key: { code_hash: \"51ae23c508c06fa142a514ff6565b4379dbb36fb4396320c4955764234082a33\", user_unique_func_name: \"user_func_sugar_level_query_4ea8053fe7417899e19a84448a46ffceed451d06ed90eef0bc5b1f2aa9e10143\" }', 'keyPattern': {'code_hash': 1, 'user_unique_func_name': 1}, 'keyValue': {'code_hash': '51ae23c508c06fa142a514ff6565b4379dbb36fb4396320c4955764234082a33', 'user_unique_func_name': 'user_func_sugar_level_query_4ea8053fe7417899e19a84448a46ffceed451d06ed90eef0bc5b1f2aa9e10143'}}</div><br />"
      ],
      "text/plain": [
       "<class 'syft.service.response.SyftError'>: Duplicate Key Error for syft.service.code.user_code.UserCode: E11000 duplicate key error collection: app.UserCode index: UserCode_index_name dup key: { code_hash: \"51ae23c508c06fa142a514ff6565b4379dbb36fb4396320c4955764234082a33\", user_unique_func_name: \"user_func_sugar_level_query_4ea8053fe7417899e19a84448a46ffceed451d06ed90eef0bc5b1f2aa9e10143\" }, full error: {'index': 0, 'code': 11000, 'errmsg': 'E11000 duplicate key error collection: app.UserCode index: UserCode_index_name dup key: { code_hash: \"51ae23c508c06fa142a514ff6565b4379dbb36fb4396320c4955764234082a33\", user_unique_func_name: \"user_func_sugar_level_query_4ea8053fe7417899e19a84448a46ffceed451d06ed90eef0bc5b1f2aa9e10143\" }', 'keyPattern': {'code_hash': 1, 'user_unique_func_name': 1}, 'keyValue': {'code_hash': '51ae23c508c06fa142a514ff6565b4379dbb36fb4396320c4955764234082a33', 'user_unique_func_name': 'user_func_sugar_level_query_4ea8053fe7417899e19a84448a46ffceed451d06ed90eef0bc5b1f2aa9e10143'}}"
      ]
     },
     "execution_count": 73,
     "metadata": {},
     "output_type": "execute_result"
    }
   ],
   "source": [
    "# Sent the code to the quest domain! Use the function name as the parameter (e.g. sugar_level_query) TODO Q6\n",
    "guest_domain_client.api.services.code.request_code_execution(sugar_level_query)"
   ]
  },
  {
   "cell_type": "code",
   "execution_count": 75,
   "id": "a07de932-3815-4056-81fe-a2ada1ce054d",
   "metadata": {
    "tags": []
   },
   "outputs": [
    {
     "data": {
      "text/html": [
       "List - Size: 2\n",
       "<div>\n",
       "<style scoped>\n",
       "    .dataframe tbody tr th:only-of-type {\n",
       "        vertical-align: middle;\n",
       "    }\n",
       "\n",
       "    .dataframe tbody tr th {\n",
       "        vertical-align: top;\n",
       "    }\n",
       "\n",
       "    .dataframe thead th {\n",
       "        text-align: right;\n",
       "    }\n",
       "</style>\n",
       "<table border=\"1\" class=\"dataframe\">\n",
       "  <thead>\n",
       "    <tr style=\"text-align: right;\">\n",
       "      <th></th>\n",
       "      <th>type</th>\n",
       "      <th>id</th>\n",
       "      <th>status</th>\n",
       "      <th>service_func_name</th>\n",
       "    </tr>\n",
       "  </thead>\n",
       "  <tbody>\n",
       "    <tr>\n",
       "      <th>0</th>\n",
       "      <td>syft.service.code.user_code.UserCode</td>\n",
       "      <td>3b72f052e2a440179cecab37e723af6b</td>\n",
       "      <td>{NodeView(node_name='Modest Karp', verify_key=...</td>\n",
       "      <td>most_liked_bubble_tea</td>\n",
       "    </tr>\n",
       "    <tr>\n",
       "      <th>1</th>\n",
       "      <td>syft.service.code.user_code.UserCode</td>\n",
       "      <td>65881481da1b4bb48749e5619cd3f043</td>\n",
       "      <td>{NodeView(node_name='Trusting Silver', verify_...</td>\n",
       "      <td>sugar_level_query</td>\n",
       "    </tr>\n",
       "  </tbody>\n",
       "</table>\n",
       "</div>"
      ],
      "text/plain": [
       "<syft.client.api.APIModule at 0x15ad56f80>"
      ]
     },
     "execution_count": 75,
     "metadata": {},
     "output_type": "execute_result"
    }
   ],
   "source": [
    "# You can check all the previous code submissions you've made to this domain.\n",
    "guest_domain_client.code"
   ]
  },
  {
   "cell_type": "code",
   "execution_count": 76,
   "id": "e5430f8d-1c03-43c6-abe7-440e852f357d",
   "metadata": {
    "tags": []
   },
   "outputs": [
    {
     "data": {
      "text/markdown": [
       "```python\n",
       "class UserCode:\n",
       "  id: str = 3b72f052e2a440179cecab37e723af6b\n",
       "  node_uid: str = None\n",
       "  user_verify_key: str = 4ea8053fe7417899e19a84448a46ffceed451d06ed90eef0bc5b1f2aa9e10143\n",
       "  raw_code: str = \"@sy.syft_function(input_policy=sy.ExactMatch(drink_data=mock),\n",
       "                  output_policy=sy.SingleExecutionExactOutput())\n",
       "def most_liked_bubble_tea(drink_data):\n",
       "    import pandas as pd\n",
       "    from opendp.mod import enable_features\n",
       "    enable_features('contrib')\n",
       "    from opendp.measurements import make_base_laplace\n",
       "    aggregate = 0.\n",
       "    base_lap = make_base_laplace(scale=5.)\n",
       "    noise = base_lap(aggregate)\n",
       "\n",
       "    # your code:\n",
       "    df = drink_data\n",
       "    most_liked_drink_row = df.iloc[mock_df['customer_ratings'].argmax()]\n",
       "    return (# str(most_liked_drink_row[\"drink_name\"]),\n",
       "            float(most_liked_drink_row[\"customer_ratings\"]),\n",
       "            float(noise)\n",
       "           )\n",
       "\"\n",
       "  input_policy_type: str = <class 'syft.service.policy.policy.ExactMatch'>\n",
       "  input_policy_init_kwargs: str = {NodeView(node_name='Modest Karp', verify_key=04137bfea77b4c86492df2b9849190bd4a19b7a2833b3c500dd37fef6957615c): {'drink_data': <UID: 4d6b7de22de8464ea7d53ec6a1ee5788>}}\n",
       "  input_policy_state: str = b''\n",
       "  output_policy_type: str = <class 'syft.service.policy.policy.OutputPolicyExecuteOnce'>\n",
       "  output_policy_init_kwargs: str = {}\n",
       "  output_policy_state: str = b''\n",
       "  parsed_code: str = \"def user_func_most_liked_bubble_tea_4ea8053fe7417899e19a84448a46ffceed451d06ed90eef0bc5b1f2aa9e10143_b4bd04f2a5bd30a85536f05f53741ceb9121c015867cf1fc684d3217df0b60d4(drink_data):\n",
       "\n",
       "    def most_liked_bubble_tea(drink_data):\n",
       "        import pandas as pd\n",
       "        from opendp.mod import enable_features\n",
       "        enable_features('contrib')\n",
       "        from opendp.measurements import make_base_laplace\n",
       "        aggregate = 0.0\n",
       "        base_lap = make_base_laplace(scale=5.0)\n",
       "        noise = base_lap(aggregate)\n",
       "        df = drink_data\n",
       "        most_liked_drink_row = df.iloc[mock_df['customer_ratings'].argmax()]\n",
       "        return (float(most_liked_drink_row['customer_ratings']), float(noise))\n",
       "    result = most_liked_bubble_tea(drink_data=drink_data)\n",
       "    return result\"\n",
       "  service_func_name: str = \"most_liked_bubble_tea\"\n",
       "  unique_func_name: str = \"user_func_most_liked_bubble_tea_4ea8053fe7417899e19a84448a46ffceed451d06ed90eef0bc5b1f2aa9e10143_b4bd04f2a5bd30a85536f05f53741ceb9121c015867cf1fc684d3217df0b60d4\"\n",
       "  user_unique_func_name: str = \"user_func_most_liked_bubble_tea_4ea8053fe7417899e19a84448a46ffceed451d06ed90eef0bc5b1f2aa9e10143\"\n",
       "  code_hash: str = \"b4bd04f2a5bd30a85536f05f53741ceb9121c015867cf1fc684d3217df0b60d4\"\n",
       "  signature: str = (drink_data)\n",
       "  status: str = {NodeView(node_name='Modest Karp', verify_key=04137bfea77b4c86492df2b9849190bd4a19b7a2833b3c500dd37fef6957615c): <UserCodeStatus.SUBMITTED: 'submitted'>}\n",
       "  input_kwargs: str = ['drink_data']\n",
       "  enclave_metadata: str = None\n",
       "\n",
       "```"
      ],
      "text/plain": [
       "syft.service.code.user_code.UserCode"
      ]
     },
     "execution_count": 76,
     "metadata": {},
     "output_type": "execute_result"
    }
   ],
   "source": [
    "# Pick a specific code submission by the index and inspect it\n",
    "submitted_code = guest_domain_client.code[0]\n",
    "submitted_code"
   ]
  },
  {
   "cell_type": "code",
   "execution_count": 79,
   "id": "20a81a79-cf9e-453c-8bf0-d50364c1dfb8",
   "metadata": {
    "tags": []
   },
   "outputs": [],
   "source": [
    "new_project.add_request(obj=submitted_code, permission=sy.UserCodeStatus.EXECUTE)"
   ]
  },
  {
   "cell_type": "code",
   "execution_count": 78,
   "id": "f21ac677-8146-4cfb-9912-4d6998c0e7a9",
   "metadata": {
    "tags": []
   },
   "outputs": [
    {
     "data": {
      "text/markdown": [
       "```python\n",
       "class ProjectSubmit:\n",
       "  id: str = None\n",
       "  name: str = \"Bubble tea average sugar level\"\n",
       "  description: str = \"Hello, I want to explore the average sugar level in bubble tea drinks from the dataset. This will help me see how ...\"\n",
       "  changes: str = [syft.service.project.project.ObjectPermissionChange]\n",
       "\n",
       "```"
      ],
      "text/plain": [
       "syft.service.project.project.ProjectSubmit"
      ]
     },
     "execution_count": 78,
     "metadata": {},
     "output_type": "execute_result"
    }
   ],
   "source": [
    "new_project"
   ]
  },
  {
   "cell_type": "code",
   "execution_count": 80,
   "id": "09b88efa-f4ec-4fe5-b892-f46068be2ba7",
   "metadata": {
    "tags": []
   },
   "outputs": [
    {
     "data": {
      "text/html": [
       "List - Size: 2\n",
       "<div>\n",
       "<style scoped>\n",
       "    .dataframe tbody tr th:only-of-type {\n",
       "        vertical-align: middle;\n",
       "    }\n",
       "\n",
       "    .dataframe tbody tr th {\n",
       "        vertical-align: top;\n",
       "    }\n",
       "\n",
       "    .dataframe thead th {\n",
       "        text-align: right;\n",
       "    }\n",
       "</style>\n",
       "<table border=\"1\" class=\"dataframe\">\n",
       "  <thead>\n",
       "    <tr style=\"text-align: right;\">\n",
       "      <th></th>\n",
       "      <th>type</th>\n",
       "      <th>id</th>\n",
       "    </tr>\n",
       "  </thead>\n",
       "  <tbody>\n",
       "    <tr>\n",
       "      <th>0</th>\n",
       "      <td>syft.service.project.project.ObjectPermissionC...</td>\n",
       "      <td>4c9f96d1849c403bb7347f36e2f15585</td>\n",
       "    </tr>\n",
       "    <tr>\n",
       "      <th>1</th>\n",
       "      <td>syft.service.project.project.ObjectPermissionC...</td>\n",
       "      <td>3c021ffd169348c9a070cfb953e84b53</td>\n",
       "    </tr>\n",
       "  </tbody>\n",
       "</table>\n",
       "</div>"
      ],
      "text/plain": [
       "[syft.service.project.project.ObjectPermissionChange,\n",
       " syft.service.project.project.ObjectPermissionChange]"
      ]
     },
     "execution_count": 80,
     "metadata": {},
     "output_type": "execute_result"
    }
   ],
   "source": [
    "new_project.changes"
   ]
  },
  {
   "cell_type": "code",
   "execution_count": 84,
   "id": "5c0980f1-41dc-48c2-a9cd-9b441b42f4e4",
   "metadata": {
    "tags": []
   },
   "outputs": [
    {
     "data": {
      "text/html": [
       "<div class=\"alert-success\" style=\"padding:5px;\"><strong>SyftSuccess</strong>: Project Submitted</div><br />"
      ],
      "text/plain": [
       "<class 'syft.service.response.SyftSuccess'>: Project Submitted"
      ]
     },
     "execution_count": 84,
     "metadata": {},
     "output_type": "execute_result"
    }
   ],
   "source": [
    "# Submit the project\n",
    "guest_domain_client.submit_project(new_project)"
   ]
  },
  {
   "cell_type": "markdown",
   "id": "03814ffa-21db-43a7-b655-57fa9d59bbf4",
   "metadata": {},
   "source": [
    "#### Receiving an answer to your request"
   ]
  },
  {
   "cell_type": "markdown",
   "id": "034a7b07-835e-470a-bb48-cb10c3900be2",
   "metadata": {},
   "source": [
    "Below we'll see how you can obtain an answer from your request. As mentioned before, the code is inspected by a data manager, and then run on the real data. This can take a while to execute, as it invovles manual work. It can be up to a few days."
   ]
  },
  {
   "cell_type": "markdown",
   "id": "00989f7e-e36f-489c-8d8b-68c9306f7c23",
   "metadata": {},
   "source": [
    "There are three possible answers which you can get:\n",
    "- code still waiting for approval:\n",
    "        `SyftNotReady: Your code is waiting for approval: {NodeView(node_name='Trusting Silver', verify_key=04137bfea77b4c86492df2b9849190bd4a19b7a2833b3c500dd37fef6957615c): }`\n",
    "- code approved: TODO\n",
    "- code rejected: TODO"
   ]
  },
  {
   "cell_type": "code",
   "execution_count": null,
   "id": "901db7cb-fe30-4e1a-bd21-0667e7b0b4be",
   "metadata": {},
   "outputs": [],
   "source": [
    "guest_domain_client.api.services.code[-1].output_policy # TODO Q7"
   ]
  },
  {
   "cell_type": "code",
   "execution_count": 86,
   "id": "91f1ecda-71b9-4b11-a7b0-7338821e97a1",
   "metadata": {
    "tags": []
   },
   "outputs": [
    {
     "data": {
      "text/markdown": [
       "```python\n",
       "Asset: mock_bubble_tea_data\n",
       "Pointer Id: 4d6b7de22de8464ea7d53ec6a1ee5788\n",
       "Description: Mock data for bubble tea consumption\n",
       "Total Data Subjects: 0\n",
       "Shape: (4, 4)\n",
       "Contributors: 0\n",
       "\n",
       "```"
      ],
      "text/plain": [
       "syft.service.dataset.dataset.Asset"
      ]
     },
     "execution_count": 86,
     "metadata": {},
     "output_type": "execute_result"
    }
   ],
   "source": [
    "# To check your result, access the asset again\n",
    "asset = guest_domain_client.datasets[0].assets[0]\n",
    "asset"
   ]
  },
  {
   "cell_type": "code",
   "execution_count": 91,
   "id": "e86bfe13-c775-40fd-89ef-065962cf9181",
   "metadata": {
    "tags": []
   },
   "outputs": [
    {
     "data": {
      "text/html": [
       "<div class=\"alert-info\" style=\"padding:5px;\"><strong>SyftNotReady</strong>: <class 'syft.service.code.user_code.UserCode'> Your code is waiting for approval: {NodeView(node_name='Trusting Silver', verify_key=04137bfea77b4c86492df2b9849190bd4a19b7a2833b3c500dd37fef6957615c): <UserCodeStatus.SUBMITTED: 'submitted'>}</div><br />"
      ],
      "text/plain": [
       "<class 'syft.service.response.SyftNotReady'>: <class 'syft.service.code.user_code.UserCode'> Your code is waiting for approval: {NodeView(node_name='Trusting Silver', verify_key=04137bfea77b4c86492df2b9849190bd4a19b7a2833b3c500dd37fef6957615c): <UserCodeStatus.SUBMITTED: 'submitted'>}"
      ]
     },
     "execution_count": 91,
     "metadata": {},
     "output_type": "execute_result"
    }
   ],
   "source": [
    "# And check the code status for the function which you created, giving it the asset as parameter TODO Q8\n",
    "real_result = guest_domain_client.api.services.code.sugar_level_query(bubble_tea_data=asset)\n",
    "real_result"
   ]
  },
  {
   "cell_type": "code",
   "execution_count": null,
   "id": "23609fc0-6e2f-4b22-8988-76da429d1402",
   "metadata": {},
   "outputs": [],
   "source": []
  }
 ],
 "metadata": {
  "kernelspec": {
   "display_name": "Python 3 (ipykernel)",
   "language": "python",
   "name": "python3"
  },
  "language_info": {
   "codemirror_mode": {
    "name": "ipython",
    "version": 3
   },
   "file_extension": ".py",
   "mimetype": "text/x-python",
   "name": "python",
   "nbconvert_exporter": "python",
   "pygments_lexer": "ipython3",
   "version": "3.10.10"
  }
 },
 "nbformat": 4,
 "nbformat_minor": 5
}
