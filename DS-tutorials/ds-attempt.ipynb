{
 "cells": [
  {
   "cell_type": "markdown",
   "id": "97bb9a52",
   "metadata": {},
   "source": [
    "## Login to Low-side domain as a data scientist"
   ]
  },
  {
   "cell_type": "code",
   "execution_count": null,
   "id": "47f7ad55-94ae-4d55-9ad8-3ac63fdd5bf8",
   "metadata": {},
   "outputs": [],
   "source": []
  },
  {
   "cell_type": "code",
   "execution_count": 1,
   "id": "1d354d23",
   "metadata": {
    "tags": []
   },
   "outputs": [
    {
     "name": "stderr",
     "output_type": "stream",
     "text": [
      "kj/filesystem-disk-unix.c++:1703: warning: PWD environment variable doesn't match current directory; pwd = /Users/carmenpopa/.hagrid/quickstart\n"
     ]
    }
   ],
   "source": [
    "import syft as sy\n",
    "import pandas as pd"
   ]
  },
  {
   "cell_type": "code",
   "execution_count": 3,
   "id": "28007ad4",
   "metadata": {
    "tags": []
   },
   "outputs": [
    {
     "ename": "ConnectionError",
     "evalue": "Failed to fetch http://localhost:8080/api/v1/new/metadata. Response returned with code 404",
     "output_type": "error",
     "traceback": [
      "\u001b[0;31m---------------------------------------------------------------------------\u001b[0m",
      "\u001b[0;31mConnectionError\u001b[0m                           Traceback (most recent call last)",
      "Cell \u001b[0;32mIn[3], line 1\u001b[0m\n\u001b[0;32m----> 1\u001b[0m guest_domain_client \u001b[38;5;241m=\u001b[39m \u001b[43msy\u001b[49m\u001b[38;5;241;43m.\u001b[39;49m\u001b[43mlogin\u001b[49m\u001b[43m(\u001b[49m\u001b[43murl\u001b[49m\u001b[38;5;241;43m=\u001b[39;49m\u001b[38;5;124;43m'\u001b[39;49m\u001b[38;5;124;43mhttp://localhost:8080\u001b[39;49m\u001b[38;5;124;43m'\u001b[39;49m\u001b[43m,\u001b[49m\u001b[43m \u001b[49m\u001b[43memail\u001b[49m\u001b[38;5;241;43m=\u001b[39;49m\u001b[38;5;124;43m'\u001b[39;49m\u001b[38;5;124;43mana.banana@uni.org\u001b[39;49m\u001b[38;5;124;43m'\u001b[39;49m\u001b[43m,\u001b[49m\u001b[43m \u001b[49m\u001b[43mpassword\u001b[49m\u001b[38;5;241;43m=\u001b[39;49m\u001b[38;5;124;43m'\u001b[39;49m\u001b[38;5;124;43mstudent\u001b[39;49m\u001b[38;5;124;43m'\u001b[39;49m\u001b[43m)\u001b[49m\n\u001b[1;32m      2\u001b[0m guest_domain_client\n",
      "File \u001b[0;32m~/.hagrid/quickstart/.venv/lib/python3.10/site-packages/syft/client/client.py:556\u001b[0m, in \u001b[0;36mlogin\u001b[0;34m(url, node, port, email, password, cache)\u001b[0m\n\u001b[1;32m    547\u001b[0m \u001b[38;5;129m@instrument\u001b[39m\n\u001b[1;32m    548\u001b[0m \u001b[38;5;28;01mdef\u001b[39;00m \u001b[38;5;21mlogin\u001b[39m(\n\u001b[1;32m    549\u001b[0m     url: Union[\u001b[38;5;28mstr\u001b[39m, GridURL] \u001b[38;5;241m=\u001b[39m DEFAULT_PYGRID_ADDRESS,\n\u001b[0;32m   (...)\u001b[0m\n\u001b[1;32m    554\u001b[0m     cache: \u001b[38;5;28mbool\u001b[39m \u001b[38;5;241m=\u001b[39m \u001b[38;5;28;01mTrue\u001b[39;00m,\n\u001b[1;32m    555\u001b[0m ) \u001b[38;5;241m-\u001b[39m\u001b[38;5;241m>\u001b[39m SyftClient:\n\u001b[0;32m--> 556\u001b[0m     _client \u001b[38;5;241m=\u001b[39m \u001b[43mconnect\u001b[49m\u001b[43m(\u001b[49m\u001b[43murl\u001b[49m\u001b[38;5;241;43m=\u001b[39;49m\u001b[43murl\u001b[49m\u001b[43m,\u001b[49m\u001b[43m \u001b[49m\u001b[43mnode\u001b[49m\u001b[38;5;241;43m=\u001b[39;49m\u001b[43mnode\u001b[49m\u001b[43m,\u001b[49m\u001b[43m \u001b[49m\u001b[43mport\u001b[49m\u001b[38;5;241;43m=\u001b[39;49m\u001b[43mport\u001b[49m\u001b[43m)\u001b[49m\n\u001b[1;32m    557\u001b[0m     connection \u001b[38;5;241m=\u001b[39m _client\u001b[38;5;241m.\u001b[39mconnection\n\u001b[1;32m    559\u001b[0m     login_credentials \u001b[38;5;241m=\u001b[39m \u001b[38;5;28;01mNone\u001b[39;00m\n",
      "File \u001b[0;32m~/.hagrid/quickstart/.venv/lib/python3.10/site-packages/syft/client/client.py:543\u001b[0m, in \u001b[0;36mconnect\u001b[0;34m(url, node, port)\u001b[0m\n\u001b[1;32m    541\u001b[0m         url\u001b[38;5;241m.\u001b[39mset_port(\u001b[38;5;28mint\u001b[39m(port))\n\u001b[1;32m    542\u001b[0m     connection \u001b[38;5;241m=\u001b[39m HTTPConnection(url\u001b[38;5;241m=\u001b[39murl)\n\u001b[0;32m--> 543\u001b[0m _client \u001b[38;5;241m=\u001b[39m \u001b[43mSyftClient\u001b[49m\u001b[43m(\u001b[49m\u001b[43mconnection\u001b[49m\u001b[38;5;241;43m=\u001b[39;49m\u001b[43mconnection\u001b[49m\u001b[43m)\u001b[49m\n\u001b[1;32m    544\u001b[0m \u001b[38;5;28;01mreturn\u001b[39;00m _client\n",
      "File \u001b[0;32m~/.hagrid/quickstart/.venv/lib/python3.10/site-packages/syft/client/client.py:317\u001b[0m, in \u001b[0;36mSyftClient.__init__\u001b[0;34m(self, connection, metadata, credentials, api)\u001b[0m\n\u001b[1;32m    314\u001b[0m \u001b[38;5;28mself\u001b[39m\u001b[38;5;241m.\u001b[39mcredentials: Optional[SyftSigningKey] \u001b[38;5;241m=\u001b[39m credentials\n\u001b[1;32m    315\u001b[0m \u001b[38;5;28mself\u001b[39m\u001b[38;5;241m.\u001b[39m_api \u001b[38;5;241m=\u001b[39m api\n\u001b[0;32m--> 317\u001b[0m \u001b[38;5;28;43mself\u001b[39;49m\u001b[38;5;241;43m.\u001b[39;49m\u001b[43mpost_init\u001b[49m\u001b[43m(\u001b[49m\u001b[43m)\u001b[49m\n",
      "File \u001b[0;32m~/.hagrid/quickstart/.venv/lib/python3.10/site-packages/syft/client/client.py:321\u001b[0m, in \u001b[0;36mSyftClient.post_init\u001b[0;34m(self)\u001b[0m\n\u001b[1;32m    319\u001b[0m \u001b[38;5;28;01mdef\u001b[39;00m \u001b[38;5;21mpost_init\u001b[39m(\u001b[38;5;28mself\u001b[39m) \u001b[38;5;241m-\u001b[39m\u001b[38;5;241m>\u001b[39m \u001b[38;5;28;01mNone\u001b[39;00m:\n\u001b[1;32m    320\u001b[0m     \u001b[38;5;28;01mif\u001b[39;00m \u001b[38;5;28mself\u001b[39m\u001b[38;5;241m.\u001b[39mmetadata \u001b[38;5;129;01mis\u001b[39;00m \u001b[38;5;28;01mNone\u001b[39;00m:\n\u001b[0;32m--> 321\u001b[0m         \u001b[38;5;28;43mself\u001b[39;49m\u001b[38;5;241;43m.\u001b[39;49m\u001b[43m_fetch_node_metadata\u001b[49m\u001b[43m(\u001b[49m\u001b[38;5;28;43mself\u001b[39;49m\u001b[38;5;241;43m.\u001b[39;49m\u001b[43mcredentials\u001b[49m\u001b[43m)\u001b[49m\n",
      "File \u001b[0;32m~/.hagrid/quickstart/.venv/lib/python3.10/site-packages/syft/client/client.py:514\u001b[0m, in \u001b[0;36mSyftClient._fetch_node_metadata\u001b[0;34m(self, credentials)\u001b[0m\n\u001b[1;32m    513\u001b[0m \u001b[38;5;28;01mdef\u001b[39;00m \u001b[38;5;21m_fetch_node_metadata\u001b[39m(\u001b[38;5;28mself\u001b[39m, credentials: SyftSigningKey) \u001b[38;5;241m-\u001b[39m\u001b[38;5;241m>\u001b[39m \u001b[38;5;28;01mNone\u001b[39;00m:\n\u001b[0;32m--> 514\u001b[0m     metadata \u001b[38;5;241m=\u001b[39m \u001b[38;5;28;43mself\u001b[39;49m\u001b[38;5;241;43m.\u001b[39;49m\u001b[43mconnection\u001b[49m\u001b[38;5;241;43m.\u001b[39;49m\u001b[43mget_node_metadata\u001b[49m\u001b[43m(\u001b[49m\u001b[43mcredentials\u001b[49m\u001b[38;5;241;43m=\u001b[39;49m\u001b[43mcredentials\u001b[49m\u001b[43m)\u001b[49m\n\u001b[1;32m    515\u001b[0m     \u001b[38;5;28;01mif\u001b[39;00m \u001b[38;5;28misinstance\u001b[39m(metadata, NodeMetadataJSON):\n\u001b[1;32m    516\u001b[0m         metadata\u001b[38;5;241m.\u001b[39mcheck_version(__version__)\n",
      "File \u001b[0;32m~/.hagrid/quickstart/.venv/lib/python3.10/site-packages/syft/client/client.py:171\u001b[0m, in \u001b[0;36mHTTPConnection.get_node_metadata\u001b[0;34m(self, credentials)\u001b[0m\n\u001b[1;32m    169\u001b[0m     \u001b[38;5;28;01mreturn\u001b[39;00m response\u001b[38;5;241m.\u001b[39mto(NodeMetadataJSON)\n\u001b[1;32m    170\u001b[0m \u001b[38;5;28;01melse\u001b[39;00m:\n\u001b[0;32m--> 171\u001b[0m     response \u001b[38;5;241m=\u001b[39m \u001b[38;5;28;43mself\u001b[39;49m\u001b[38;5;241;43m.\u001b[39;49m\u001b[43m_make_get\u001b[49m\u001b[43m(\u001b[49m\u001b[38;5;28;43mself\u001b[39;49m\u001b[38;5;241;43m.\u001b[39;49m\u001b[43mroutes\u001b[49m\u001b[38;5;241;43m.\u001b[39;49m\u001b[43mROUTE_METADATA\u001b[49m\u001b[38;5;241;43m.\u001b[39;49m\u001b[43mvalue\u001b[49m\u001b[43m)\u001b[49m\n\u001b[1;32m    172\u001b[0m     metadata_json \u001b[38;5;241m=\u001b[39m json\u001b[38;5;241m.\u001b[39mloads(response)\n\u001b[1;32m    173\u001b[0m     \u001b[38;5;28;01mreturn\u001b[39;00m NodeMetadataJSON(\u001b[38;5;241m*\u001b[39m\u001b[38;5;241m*\u001b[39mmetadata_json)\n",
      "File \u001b[0;32m~/.hagrid/quickstart/.venv/lib/python3.10/site-packages/syft/client/client.py:127\u001b[0m, in \u001b[0;36mHTTPConnection._make_get\u001b[0;34m(self, path, params)\u001b[0m\n\u001b[1;32m    123\u001b[0m response \u001b[38;5;241m=\u001b[39m \u001b[38;5;28mself\u001b[39m\u001b[38;5;241m.\u001b[39msession\u001b[38;5;241m.\u001b[39mget(\n\u001b[1;32m    124\u001b[0m     \u001b[38;5;28mstr\u001b[39m(url), verify\u001b[38;5;241m=\u001b[39mverify_tls(), proxies\u001b[38;5;241m=\u001b[39m{}, params\u001b[38;5;241m=\u001b[39mparams\n\u001b[1;32m    125\u001b[0m )\n\u001b[1;32m    126\u001b[0m \u001b[38;5;28;01mif\u001b[39;00m response\u001b[38;5;241m.\u001b[39mstatus_code \u001b[38;5;241m!=\u001b[39m \u001b[38;5;241m200\u001b[39m:\n\u001b[0;32m--> 127\u001b[0m     \u001b[38;5;28;01mraise\u001b[39;00m requests\u001b[38;5;241m.\u001b[39mConnectionError(\n\u001b[1;32m    128\u001b[0m         \u001b[38;5;124mf\u001b[39m\u001b[38;5;124m\"\u001b[39m\u001b[38;5;124mFailed to fetch \u001b[39m\u001b[38;5;132;01m{\u001b[39;00murl\u001b[38;5;132;01m}\u001b[39;00m\u001b[38;5;124m. Response returned with code \u001b[39m\u001b[38;5;132;01m{\u001b[39;00mresponse\u001b[38;5;241m.\u001b[39mstatus_code\u001b[38;5;132;01m}\u001b[39;00m\u001b[38;5;124m\"\u001b[39m\n\u001b[1;32m    129\u001b[0m     )\n\u001b[1;32m    131\u001b[0m \u001b[38;5;66;03m# upgrade to tls if available\u001b[39;00m\n\u001b[1;32m    132\u001b[0m \u001b[38;5;28mself\u001b[39m\u001b[38;5;241m.\u001b[39murl \u001b[38;5;241m=\u001b[39m upgrade_tls(\u001b[38;5;28mself\u001b[39m\u001b[38;5;241m.\u001b[39murl, response)\n",
      "\u001b[0;31mConnectionError\u001b[0m: Failed to fetch http://localhost:8080/api/v1/new/metadata. Response returned with code 404"
     ]
    }
   ],
   "source": [
    "guest_domain_client = sy.login(url='http://localhost:8080', email='ana.banana@uni.org', password='student')\n",
    "guest_domain_client"
   ]
  },
  {
   "cell_type": "markdown",
   "id": "f197fd81-c13f-458f-8298-0020c8add3aa",
   "metadata": {},
   "source": [
    "## Check the datasets in the domain"
   ]
  },
  {
   "cell_type": "code",
   "execution_count": 3,
   "id": "b42af753",
   "metadata": {
    "tags": []
   },
   "outputs": [
    {
     "data": {
      "text/html": [
       "List - Size: 1\n",
       "<div>\n",
       "<style scoped>\n",
       "    .dataframe tbody tr th:only-of-type {\n",
       "        vertical-align: middle;\n",
       "    }\n",
       "\n",
       "    .dataframe tbody tr th {\n",
       "        vertical-align: top;\n",
       "    }\n",
       "\n",
       "    .dataframe thead th {\n",
       "        text-align: right;\n",
       "    }\n",
       "</style>\n",
       "<table border=\"1\" class=\"dataframe\">\n",
       "  <thead>\n",
       "    <tr style=\"text-align: right;\">\n",
       "      <th></th>\n",
       "      <th>type</th>\n",
       "      <th>id</th>\n",
       "      <th>name</th>\n",
       "      <th>url</th>\n",
       "    </tr>\n",
       "  </thead>\n",
       "  <tbody>\n",
       "    <tr>\n",
       "      <th>0</th>\n",
       "      <td>syft.core.node.new.dataset.Dataset</td>\n",
       "      <td>ed0bc2ddc01a48759b66a643c1ded1f3</td>\n",
       "      <td>Bubble tea mock data</td>\n",
       "      <td>None</td>\n",
       "    </tr>\n",
       "  </tbody>\n",
       "</table>\n",
       "</div>"
      ],
      "text/plain": [
       "<syft.core.node.new.api.APIModule at 0x172915ba0>"
      ]
     },
     "execution_count": 3,
     "metadata": {},
     "output_type": "execute_result"
    }
   ],
   "source": [
    "guest_domain_client.datasets"
   ]
  },
  {
   "cell_type": "code",
   "execution_count": 4,
   "id": "4c04af9c",
   "metadata": {
    "tags": []
   },
   "outputs": [
    {
     "data": {
      "text/markdown": [
       "```python\n",
       "Syft Dataset: Bubble tea mock data\n",
       "Assets:\n",
       "\tmock_bubble_tea_data: Mock data for bubble tea consumption\n",
       "Citation: Carmen Popa\n",
       "Description: The fake data to show bubble tea trends for consumers\n",
       "\n",
       "```"
      ],
      "text/plain": [
       "syft.core.node.new.dataset.Dataset"
      ]
     },
     "execution_count": 4,
     "metadata": {},
     "output_type": "execute_result"
    }
   ],
   "source": [
    "dataset = guest_domain_client.datasets[0]\n",
    "dataset"
   ]
  },
  {
   "cell_type": "markdown",
   "id": "3a713560",
   "metadata": {},
   "source": [
    "We can access the dataset assets (a.k.a the actual data) by running the following command."
   ]
  },
  {
   "cell_type": "code",
   "execution_count": 5,
   "id": "d60518e9",
   "metadata": {
    "tags": []
   },
   "outputs": [
    {
     "data": {
      "text/html": [
       "Tupledict - Size: 1\n",
       "<div>\n",
       "<style scoped>\n",
       "    .dataframe tbody tr th:only-of-type {\n",
       "        vertical-align: middle;\n",
       "    }\n",
       "\n",
       "    .dataframe tbody tr th {\n",
       "        vertical-align: top;\n",
       "    }\n",
       "\n",
       "    .dataframe thead th {\n",
       "        text-align: right;\n",
       "    }\n",
       "</style>\n",
       "<table border=\"1\" class=\"dataframe\">\n",
       "  <thead>\n",
       "    <tr style=\"text-align: right;\">\n",
       "      <th></th>\n",
       "      <th>key</th>\n",
       "      <th>type</th>\n",
       "      <th>id</th>\n",
       "    </tr>\n",
       "  </thead>\n",
       "  <tbody>\n",
       "    <tr>\n",
       "      <th>0</th>\n",
       "      <td>mock_bubble_tea_data</td>\n",
       "      <td>syft.core.node.new.dataset.Asset</td>\n",
       "      <td>a650739e5294475f9b3aa72b2e5b4dc7</td>\n",
       "    </tr>\n",
       "  </tbody>\n",
       "</table>\n",
       "</div>"
      ],
      "text/plain": [
       "TupleDict([('mock_bubble_tea_data', syft.core.node.new.dataset.Asset)])"
      ]
     },
     "execution_count": 5,
     "metadata": {},
     "output_type": "execute_result"
    }
   ],
   "source": [
    "dataset.assets"
   ]
  },
  {
   "cell_type": "code",
   "execution_count": 6,
   "id": "e9cb316c",
   "metadata": {
    "scrolled": true,
    "tags": []
   },
   "outputs": [
    {
     "name": "stdout",
     "output_type": "stream",
     "text": [
      "(4, 4)\n"
     ]
    },
    {
     "data": {
      "text/html": [
       "<div>\n",
       "<style scoped>\n",
       "    .dataframe tbody tr th:only-of-type {\n",
       "        vertical-align: middle;\n",
       "    }\n",
       "\n",
       "    .dataframe tbody tr th {\n",
       "        vertical-align: top;\n",
       "    }\n",
       "\n",
       "    .dataframe thead th {\n",
       "        text-align: right;\n",
       "    }\n",
       "</style>\n",
       "<table border=\"1\" class=\"dataframe\">\n",
       "  <thead>\n",
       "    <tr style=\"text-align: right;\">\n",
       "      <th></th>\n",
       "      <th>drink_name</th>\n",
       "      <th>sugar_level</th>\n",
       "      <th>has_pearls</th>\n",
       "      <th>customer_ratings</th>\n",
       "    </tr>\n",
       "  </thead>\n",
       "  <tbody>\n",
       "    <tr>\n",
       "      <th>0</th>\n",
       "      <td>brown_sugar</td>\n",
       "      <td>0.7</td>\n",
       "      <td>True</td>\n",
       "      <td>4.9</td>\n",
       "    </tr>\n",
       "    <tr>\n",
       "      <th>1</th>\n",
       "      <td>thai_milk</td>\n",
       "      <td>0.3</td>\n",
       "      <td>True</td>\n",
       "      <td>4.6</td>\n",
       "    </tr>\n",
       "    <tr>\n",
       "      <th>2</th>\n",
       "      <td>mango_coconut</td>\n",
       "      <td>0.9</td>\n",
       "      <td>False</td>\n",
       "      <td>3.5</td>\n",
       "    </tr>\n",
       "    <tr>\n",
       "      <th>3</th>\n",
       "      <td>strawberry_cheese</td>\n",
       "      <td>0.5</td>\n",
       "      <td>True</td>\n",
       "      <td>4.3</td>\n",
       "    </tr>\n",
       "  </tbody>\n",
       "</table>\n",
       "</div>"
      ],
      "text/plain": [
       "          drink_name  sugar_level  has_pearls  customer_ratings\n",
       "0        brown_sugar          0.7        True               4.9\n",
       "1          thai_milk          0.3        True               4.6\n",
       "2      mango_coconut          0.9       False               3.5\n",
       "3  strawberry_cheese          0.5        True               4.3"
      ]
     },
     "execution_count": 6,
     "metadata": {},
     "output_type": "execute_result"
    }
   ],
   "source": [
    "mock = dataset.assets[0].mock\n",
    "print(mock.shape)\n",
    "\n",
    "mock_df = mock.syft_action_data\n",
    "mock_df.head()"
   ]
  },
  {
   "cell_type": "code",
   "execution_count": 7,
   "id": "6e258ffe",
   "metadata": {
    "tags": []
   },
   "outputs": [
    {
     "data": {
      "text/html": [
       "<div>\n",
       "<style scoped>\n",
       "    .dataframe tbody tr th:only-of-type {\n",
       "        vertical-align: middle;\n",
       "    }\n",
       "\n",
       "    .dataframe tbody tr th {\n",
       "        vertical-align: top;\n",
       "    }\n",
       "\n",
       "    .dataframe thead th {\n",
       "        text-align: right;\n",
       "    }\n",
       "</style>\n",
       "<table border=\"1\" class=\"dataframe\">\n",
       "  <thead>\n",
       "    <tr style=\"text-align: right;\">\n",
       "      <th></th>\n",
       "      <th>drink_name</th>\n",
       "      <th>sugar_level</th>\n",
       "      <th>has_pearls</th>\n",
       "      <th>customer_ratings</th>\n",
       "    </tr>\n",
       "  </thead>\n",
       "  <tbody>\n",
       "    <tr>\n",
       "      <th>0</th>\n",
       "      <td>brown_sugar</td>\n",
       "      <td>0.7</td>\n",
       "      <td>True</td>\n",
       "      <td>4.9</td>\n",
       "    </tr>\n",
       "    <tr>\n",
       "      <th>1</th>\n",
       "      <td>thai_milk</td>\n",
       "      <td>0.3</td>\n",
       "      <td>True</td>\n",
       "      <td>4.6</td>\n",
       "    </tr>\n",
       "  </tbody>\n",
       "</table>\n",
       "</div>"
      ],
      "text/plain": [
       "    drink_name  sugar_level  has_pearls  customer_ratings\n",
       "0  brown_sugar          0.7        True               4.9\n",
       "1    thai_milk          0.3        True               4.6"
      ]
     },
     "execution_count": 7,
     "metadata": {},
     "output_type": "execute_result"
    }
   ],
   "source": [
    "mock_df[0:2]"
   ]
  },
  {
   "cell_type": "code",
   "execution_count": 8,
   "id": "ed1e89b3",
   "metadata": {
    "tags": []
   },
   "outputs": [
    {
     "data": {
      "text/plain": [
       "0.9"
      ]
     },
     "execution_count": 8,
     "metadata": {},
     "output_type": "execute_result"
    }
   ],
   "source": [
    "mock_df[\"sugar_level\"].max()"
   ]
  },
  {
   "cell_type": "markdown",
   "id": "8548a669-beda-481f-b2df-4f8c0fe5bf89",
   "metadata": {},
   "source": [
    "## Writing queries"
   ]
  },
  {
   "cell_type": "markdown",
   "id": "3253cbe5",
   "metadata": {},
   "source": [
    " **Which bubble tea flavour has the best customer ratings?**"
   ]
  },
  {
   "cell_type": "markdown",
   "id": "83b9f85a",
   "metadata": {},
   "source": [
    "At first, let's check the true result in the mock data so that we can validate our custom function later on. "
   ]
  },
  {
   "cell_type": "code",
   "execution_count": 9,
   "id": "dc86254a",
   "metadata": {
    "tags": []
   },
   "outputs": [
    {
     "data": {
      "text/plain": [
       "'brown_sugar'"
      ]
     },
     "execution_count": 9,
     "metadata": {},
     "output_type": "execute_result"
    }
   ],
   "source": [
    "mock_df.iloc[mock_df['customer_ratings'].argmax()][\"drink_name\"]"
   ]
  },
  {
   "cell_type": "markdown",
   "id": "b6cc4dd5",
   "metadata": {},
   "source": [
    "Now that we know the true result, we will create our custom function which, if approved, will be used on real data on the high-side domain."
   ]
  },
  {
   "cell_type": "code",
   "execution_count": 10,
   "id": "e4740c71",
   "metadata": {
    "tags": []
   },
   "outputs": [],
   "source": [
    "@sy.syft_function(input_policy=sy.ExactMatch(drink_data=mock),\n",
    "                  output_policy=sy.SingleExecutionExactOutput())\n",
    "def most_liked_bubble_tea(drink_data):\n",
    "    import pandas as pd\n",
    "    from opendp.mod import enable_features\n",
    "    enable_features('contrib')\n",
    "    from opendp.measurements import make_base_laplace\n",
    "    aggregate = 0.\n",
    "    base_lap = make_base_laplace(scale=5.)\n",
    "    noise = base_lap(aggregate)\n",
    "\n",
    "    # your code:\n",
    "    df = drink_data\n",
    "    most_liked_drink_row = df.iloc[mock_df['customer_ratings'].argmax()]\n",
    "    return (# str(most_liked_drink_row[\"drink_name\"]),\n",
    "            float(most_liked_drink_row[\"customer_ratings\"]),\n",
    "            float(noise)\n",
    "           )"
   ]
  },
  {
   "cell_type": "markdown",
   "id": "be0a3bb0",
   "metadata": {},
   "source": [
    "Let's verify that the function and policy works on the mock data and returns the expected result."
   ]
  },
  {
   "cell_type": "code",
   "execution_count": 11,
   "id": "95a89599",
   "metadata": {
    "tags": []
   },
   "outputs": [
    {
     "data": {
      "text/plain": [
       "(4.9, -0.9322732645142884)"
      ]
     },
     "execution_count": 11,
     "metadata": {},
     "output_type": "execute_result"
    }
   ],
   "source": [
    "result = most_liked_bubble_tea(drink_data=mock)\n",
    "result"
   ]
  },
  {
   "cell_type": "markdown",
   "id": "1a30ab15",
   "metadata": {},
   "source": [
    "The function works as expected."
   ]
  },
  {
   "cell_type": "markdown",
   "id": "7f67424f",
   "metadata": {},
   "source": [
    "## Inspecting the attributes of the code & policy"
   ]
  },
  {
   "cell_type": "code",
   "execution_count": 12,
   "id": "934db3b7",
   "metadata": {
    "tags": []
   },
   "outputs": [
    {
     "data": {
      "text/html": [
       "{NodeView(node_name=&#x27;Adoring Sophia&#x27;, verify_key=04dc3a4bf0da709524f2577ffe633c27b0fddbbe4071572ca604c6d25aeb07ce): {&#x27;drink_data&#x27;: &lt;UID: 4fbdf847d3bd41aeb5554b4967851929&gt;}}"
      ],
      "text/plain": [
       "{NodeView(node_name='Adoring Sophia', verify_key=04dc3a4bf0da709524f2577ffe633c27b0fddbbe4071572ca604c6d25aeb07ce): {'drink_data': <UID: 4fbdf847d3bd41aeb5554b4967851929>}}"
      ]
     },
     "execution_count": 12,
     "metadata": {},
     "output_type": "execute_result"
    }
   ],
   "source": [
    "most_liked_bubble_tea.kwargs"
   ]
  },
  {
   "cell_type": "code",
   "execution_count": 13,
   "id": "5cdbe90d",
   "metadata": {
    "tags": []
   },
   "outputs": [
    {
     "data": {
      "text/plain": [
       "syft.core.node.new.policy.ExactMatch"
      ]
     },
     "execution_count": 13,
     "metadata": {},
     "output_type": "execute_result"
    }
   ],
   "source": [
    "most_liked_bubble_tea.input_policy_type"
   ]
  },
  {
   "cell_type": "code",
   "execution_count": 14,
   "id": "78b927b3",
   "metadata": {
    "tags": []
   },
   "outputs": [
    {
     "data": {
      "text/plain": [
       "syft.core.node.new.policy.OutputPolicyExecuteOnce"
      ]
     },
     "execution_count": 14,
     "metadata": {},
     "output_type": "execute_result"
    }
   ],
   "source": [
    "most_liked_bubble_tea.output_policy_type"
   ]
  },
  {
   "cell_type": "code",
   "execution_count": 15,
   "id": "a6bd2313",
   "metadata": {
    "tags": []
   },
   "outputs": [
    {
     "data": {
      "text/plain": [
       "'@sy.syft_function(input_policy=sy.ExactMatch(drink_data=mock),\\n                  output_policy=sy.SingleExecutionExactOutput())\\ndef most_liked_bubble_tea(drink_data):\\n    import pandas as pd\\n    from opendp.mod import enable_features\\n    enable_features(\\'contrib\\')\\n    from opendp.measurements import make_base_laplace\\n    aggregate = 0.\\n    base_lap = make_base_laplace(scale=5.)\\n    noise = base_lap(aggregate)\\n\\n    # your code:\\n    df = drink_data\\n    most_liked_drink_row = df.iloc[mock_df[\\'customer_ratings\\'].argmax()]\\n    return (# str(most_liked_drink_row[\"drink_name\"]),\\n            float(most_liked_drink_row[\"customer_ratings\"]),\\n            float(noise)\\n           )\\n'"
      ]
     },
     "execution_count": 15,
     "metadata": {},
     "output_type": "execute_result"
    }
   ],
   "source": [
    "most_liked_bubble_tea.code"
   ]
  },
  {
   "cell_type": "markdown",
   "id": "abbd37dd",
   "metadata": {},
   "source": [
    "## Submit code for review on the Data Owner side"
   ]
  },
  {
   "cell_type": "code",
   "execution_count": 16,
   "id": "9451231c",
   "metadata": {
    "tags": []
   },
   "outputs": [],
   "source": [
    "new_project = sy.Project(name=\"My first query on bubble tea data\")\n",
    "proj_desc = \"\"\"Hi, I want to know which bubble tea flavour is the most liked\"\"\""
   ]
  },
  {
   "cell_type": "code",
   "execution_count": 17,
   "id": "8cb23990-5183-476f-b826-dbb9e1cb8c06",
   "metadata": {
    "tags": []
   },
   "outputs": [
    {
     "data": {
      "text/html": [
       "<div class=\"alert-danger\" style=\"padding:5px;\"><strong>SyftError</strong>: documents must have only string keys, key was NodeView(node_name='Adoring Sophia', verify_key=04dc3a4bf0da709524f2577ffe633c27b0fddbbe4071572ca604c6d25aeb07ce)</div><br />"
      ],
      "text/plain": [
       "<class 'syft.core.node.new.response.SyftError'>: documents must have only string keys, key was NodeView(node_name='Adoring Sophia', verify_key=04dc3a4bf0da709524f2577ffe633c27b0fddbbe4071572ca604c6d25aeb07ce)"
      ]
     },
     "execution_count": 17,
     "metadata": {},
     "output_type": "execute_result"
    }
   ],
   "source": [
    "guest_domain_client.api.services.code.request_code_execution(most_liked_bubble_tea)"
   ]
  },
  {
   "cell_type": "code",
   "execution_count": 21,
   "id": "39d86e7e",
   "metadata": {
    "tags": []
   },
   "outputs": [
    {
     "data": {
      "text/html": [
       "[]"
      ],
      "text/plain": [
       "<syft.core.node.new.api.APIModule at 0x17542faf0>"
      ]
     },
     "execution_count": 21,
     "metadata": {},
     "output_type": "execute_result"
    }
   ],
   "source": [
    "guest_domain_client.api.services.code.request_code_execution(most_liked_bubble_tea)\n",
    "guest_domain_client.code"
   ]
  },
  {
   "cell_type": "code",
   "execution_count": 27,
   "id": "caea472a",
   "metadata": {
    "scrolled": true,
    "tags": []
   },
   "outputs": [
    {
     "ename": "IndexError",
     "evalue": "list index out of range",
     "output_type": "error",
     "traceback": [
      "\u001b[0;31m---------------------------------------------------------------------------\u001b[0m",
      "\u001b[0;31mIndexError\u001b[0m                                Traceback (most recent call last)",
      "Cell \u001b[0;32mIn[27], line 2\u001b[0m\n\u001b[1;32m      1\u001b[0m new_project\u001b[38;5;241m.\u001b[39mset_description(proj_desc)\n\u001b[0;32m----> 2\u001b[0m submitted_code \u001b[38;5;241m=\u001b[39m \u001b[43mguest_domain_client\u001b[49m\u001b[38;5;241;43m.\u001b[39;49m\u001b[43mcode\u001b[49m\u001b[43m[\u001b[49m\u001b[38;5;241;43m0\u001b[39;49m\u001b[43m]\u001b[49m\n\u001b[1;32m      3\u001b[0m submitted_code\n",
      "File \u001b[0;32m~/.hagrid/quickstart/.venv/lib/python3.10/site-packages/syft/core/node/new/api.py:282\u001b[0m, in \u001b[0;36mAPIModule.__getitem__\u001b[0;34m(self, key)\u001b[0m\n\u001b[1;32m    280\u001b[0m \u001b[38;5;28;01mdef\u001b[39;00m \u001b[38;5;21m__getitem__\u001b[39m(\u001b[38;5;28mself\u001b[39m, key: Union[\u001b[38;5;28mstr\u001b[39m, \u001b[38;5;28mint\u001b[39m]) \u001b[38;5;241m-\u001b[39m\u001b[38;5;241m>\u001b[39m Any:\n\u001b[1;32m    281\u001b[0m     \u001b[38;5;28;01mif\u001b[39;00m \u001b[38;5;28misinstance\u001b[39m(key, \u001b[38;5;28mint\u001b[39m) \u001b[38;5;129;01mand\u001b[39;00m \u001b[38;5;28mhasattr\u001b[39m(\u001b[38;5;28mself\u001b[39m, \u001b[38;5;124m\"\u001b[39m\u001b[38;5;124mget_all\u001b[39m\u001b[38;5;124m\"\u001b[39m):\n\u001b[0;32m--> 282\u001b[0m         \u001b[38;5;28;01mreturn\u001b[39;00m \u001b[38;5;28;43mself\u001b[39;49m\u001b[38;5;241;43m.\u001b[39;49m\u001b[43mget_all\u001b[49m\u001b[43m(\u001b[49m\u001b[43m)\u001b[49m\u001b[43m[\u001b[49m\u001b[43mkey\u001b[49m\u001b[43m]\u001b[49m\n\u001b[1;32m    283\u001b[0m     \u001b[38;5;28;01mraise\u001b[39;00m \u001b[38;5;167;01mNotImplementedError\u001b[39;00m\n",
      "\u001b[0;31mIndexError\u001b[0m: list index out of range"
     ]
    }
   ],
   "source": [
    "new_project.set_description(proj_desc)\n",
    "submitted_code = guest_domain_client.code[0]\n",
    "submitted_code"
   ]
  },
  {
   "cell_type": "code",
   "execution_count": 30,
   "id": "3597b9c0",
   "metadata": {},
   "outputs": [
    {
     "data": {
      "text/html": [
       "List - Size: 1\n",
       "<div>\n",
       "<style scoped>\n",
       "    .dataframe tbody tr th:only-of-type {\n",
       "        vertical-align: middle;\n",
       "    }\n",
       "\n",
       "    .dataframe tbody tr th {\n",
       "        vertical-align: top;\n",
       "    }\n",
       "\n",
       "    .dataframe thead th {\n",
       "        text-align: right;\n",
       "    }\n",
       "</style>\n",
       "<table border=\"1\" class=\"dataframe\">\n",
       "  <thead>\n",
       "    <tr style=\"text-align: right;\">\n",
       "      <th></th>\n",
       "      <th>type</th>\n",
       "      <th>id</th>\n",
       "    </tr>\n",
       "  </thead>\n",
       "  <tbody>\n",
       "    <tr>\n",
       "      <th>0</th>\n",
       "      <td>syft.core.node.new.project.ObjectPermissionChange</td>\n",
       "      <td>ca4e9d41f0d84ea7a54dd33c999a65db</td>\n",
       "    </tr>\n",
       "  </tbody>\n",
       "</table>\n",
       "</div>"
      ],
      "text/plain": [
       "[syft.core.node.new.project.ObjectPermissionChange]"
      ]
     },
     "execution_count": 30,
     "metadata": {},
     "output_type": "execute_result"
    }
   ],
   "source": [
    "new_project.add_request(obj=submitted_code, permission=sy.UserCodeStatus.EXECUTE)\n",
    "new_project.changes"
   ]
  },
  {
   "cell_type": "code",
   "execution_count": 31,
   "id": "5a518617",
   "metadata": {},
   "outputs": [
    {
     "data": {
      "text/markdown": [
       "```python\n",
       "class ProjectSubmit:\n",
       "  id: str = None\n",
       "  name: str = \"My first query on Dailymotion mock data\"\n",
       "  description: str = \"Hi, I want to know which algorithm is most freqently being used for video recommendation.\"\n",
       "  changes: str = [syft.core.node.new.project.ObjectPermissionChange]\n",
       "\n",
       "```"
      ],
      "text/plain": [
       "syft.core.node.new.project.ProjectSubmit"
      ]
     },
     "execution_count": 31,
     "metadata": {},
     "output_type": "execute_result"
    }
   ],
   "source": [
    "new_project"
   ]
  },
  {
   "cell_type": "markdown",
   "id": "979c95be",
   "metadata": {},
   "source": [
    "Now we are ready to submit the code."
   ]
  },
  {
   "cell_type": "code",
   "execution_count": 32,
   "id": "fd01e70e",
   "metadata": {},
   "outputs": [
    {
     "data": {
      "text/html": [
       "<div class=\"alert-success\" style=\"padding:5px;\"><strong>SyftSuccess</strong>: Project Submitted</div><br />"
      ],
      "text/plain": [
       "<class 'syft.core.node.new.response.SyftSuccess'>: Project Submitted"
      ]
     },
     "execution_count": 32,
     "metadata": {},
     "output_type": "execute_result"
    }
   ],
   "source": [
    "guest_domain_client.submit_project(new_project)"
   ]
  },
  {
   "cell_type": "markdown",
   "id": "7c65d17e",
   "metadata": {},
   "source": [
    "**At this point, we will go back to the data-owner-workflow notebook to review the submitted code and either approve or reject it.**"
   ]
  },
  {
   "cell_type": "code",
   "execution_count": null,
   "id": "7fc2b68d",
   "metadata": {},
   "outputs": [],
   "source": []
  }
 ],
 "metadata": {
  "kernelspec": {
   "display_name": "Python 3 (ipykernel)",
   "language": "python",
   "name": "python3"
  },
  "language_info": {
   "codemirror_mode": {
    "name": "ipython",
    "version": 3
   },
   "file_extension": ".py",
   "mimetype": "text/x-python",
   "name": "python",
   "nbconvert_exporter": "python",
   "pygments_lexer": "ipython3",
   "version": "3.10.10"
  }
 },
 "nbformat": 4,
 "nbformat_minor": 5
}
